{
  "nbformat": 4,
  "nbformat_minor": 0,
  "metadata": {
    "colab": {
      "name": "02_neural_network_classification_with_tensorflow.ipynb",
      "provenance": [],
      "collapsed_sections": [],
      "authorship_tag": "ABX9TyNLcknFG93HDPoSMp3eXJGb",
      "include_colab_link": true
    },
    "kernelspec": {
      "name": "python3",
      "display_name": "Python 3"
    },
    "language_info": {
      "name": "python"
    }
  },
  "cells": [
    {
      "cell_type": "markdown",
      "metadata": {
        "id": "view-in-github",
        "colab_type": "text"
      },
      "source": [
        "<a href=\"https://colab.research.google.com/github/enam007/TensorFlow/blob/main/02_neural_network_classification_with_tensorflow.ipynb\" target=\"_parent\"><img src=\"https://colab.research.google.com/assets/colab-badge.svg\" alt=\"Open In Colab\"/></a>"
      ]
    },
    {
      "cell_type": "markdown",
      "metadata": {
        "id": "VCDDp4Enh5pq"
      },
      "source": [
        "# Introduction to neural network classification with TensorFlow\n",
        "\n",
        "In this notebook we're going to learn how to write neural network for classification \n",
        "\n",
        "A classification is where you try to classify something as one thing or another\n",
        "Types of classification \n",
        "\n",
        "* Binary Classification\n",
        "* Multiclass Classification\n",
        "* Multilabel Classification"
      ]
    },
    {
      "cell_type": "markdown",
      "metadata": {
        "id": "XNHt_XJwitZp"
      },
      "source": [
        "## Creating data to view and Fit"
      ]
    },
    {
      "cell_type": "code",
      "metadata": {
        "id": "EXAY4Uqhh5Ak"
      },
      "source": [
        "from sklearn.datasets import make_circles\n",
        "\n",
        "#Make 1000 examples\n",
        "n_samples=1000\n",
        "\n",
        "#Create circles\n",
        "\n",
        "X,y =make_circles(n_samples,\n",
        "                  noise=.03,\n",
        "                  random_state=42)\n"
      ],
      "execution_count": null,
      "outputs": []
    },
    {
      "cell_type": "code",
      "metadata": {
        "colab": {
          "base_uri": "https://localhost:8080/"
        },
        "id": "PAyaV3v-hGOp",
        "outputId": "6c98233c-e7ae-47e6-c695-db1bb72326ee"
      },
      "source": [
        "# Check out features\n",
        "X[:10]"
      ],
      "execution_count": null,
      "outputs": [
        {
          "output_type": "execute_result",
          "data": {
            "text/plain": [
              "array([[ 0.75424625,  0.23148074],\n",
              "       [-0.75615888,  0.15325888],\n",
              "       [-0.81539193,  0.17328203],\n",
              "       [-0.39373073,  0.69288277],\n",
              "       [ 0.44220765, -0.89672343],\n",
              "       [-0.47964637,  0.67643477],\n",
              "       [-0.01364836,  0.80334872],\n",
              "       [ 0.77151327,  0.14775959],\n",
              "       [-0.16932234, -0.79345575],\n",
              "       [-0.1214858 ,  1.02150905]])"
            ]
          },
          "metadata": {
            "tags": []
          },
          "execution_count": 2
        }
      ]
    },
    {
      "cell_type": "code",
      "metadata": {
        "colab": {
          "base_uri": "https://localhost:8080/"
        },
        "id": "eOEs-O_7jsQY",
        "outputId": "a209e8cd-9c76-4bcd-a780-004d4769b3da"
      },
      "source": [
        "# Check the labels\n",
        "y[:10]"
      ],
      "execution_count": null,
      "outputs": [
        {
          "output_type": "execute_result",
          "data": {
            "text/plain": [
              "array([1, 1, 1, 1, 0, 1, 1, 1, 1, 0])"
            ]
          },
          "metadata": {
            "tags": []
          },
          "execution_count": 3
        }
      ]
    },
    {
      "cell_type": "markdown",
      "metadata": {
        "id": "LGyZGaDwkN2Y"
      },
      "source": [
        "Our data is little hard to understand right now...lets visualize it! "
      ]
    },
    {
      "cell_type": "code",
      "metadata": {
        "colab": {
          "base_uri": "https://localhost:8080/",
          "height": 419
        },
        "id": "y_O-QRt1kFQH",
        "outputId": "e9c63f20-8a59-458b-ebc6-a3586f70f951"
      },
      "source": [
        "import pandas as pd\n",
        "circles =pd.DataFrame({\"X0\":X[:,0],\"X1\":X[:,1],\"label\":y})\n",
        "circles"
      ],
      "execution_count": null,
      "outputs": [
        {
          "output_type": "execute_result",
          "data": {
            "text/html": [
              "<div>\n",
              "<style scoped>\n",
              "    .dataframe tbody tr th:only-of-type {\n",
              "        vertical-align: middle;\n",
              "    }\n",
              "\n",
              "    .dataframe tbody tr th {\n",
              "        vertical-align: top;\n",
              "    }\n",
              "\n",
              "    .dataframe thead th {\n",
              "        text-align: right;\n",
              "    }\n",
              "</style>\n",
              "<table border=\"1\" class=\"dataframe\">\n",
              "  <thead>\n",
              "    <tr style=\"text-align: right;\">\n",
              "      <th></th>\n",
              "      <th>X0</th>\n",
              "      <th>X1</th>\n",
              "      <th>label</th>\n",
              "    </tr>\n",
              "  </thead>\n",
              "  <tbody>\n",
              "    <tr>\n",
              "      <th>0</th>\n",
              "      <td>0.754246</td>\n",
              "      <td>0.231481</td>\n",
              "      <td>1</td>\n",
              "    </tr>\n",
              "    <tr>\n",
              "      <th>1</th>\n",
              "      <td>-0.756159</td>\n",
              "      <td>0.153259</td>\n",
              "      <td>1</td>\n",
              "    </tr>\n",
              "    <tr>\n",
              "      <th>2</th>\n",
              "      <td>-0.815392</td>\n",
              "      <td>0.173282</td>\n",
              "      <td>1</td>\n",
              "    </tr>\n",
              "    <tr>\n",
              "      <th>3</th>\n",
              "      <td>-0.393731</td>\n",
              "      <td>0.692883</td>\n",
              "      <td>1</td>\n",
              "    </tr>\n",
              "    <tr>\n",
              "      <th>4</th>\n",
              "      <td>0.442208</td>\n",
              "      <td>-0.896723</td>\n",
              "      <td>0</td>\n",
              "    </tr>\n",
              "    <tr>\n",
              "      <th>...</th>\n",
              "      <td>...</td>\n",
              "      <td>...</td>\n",
              "      <td>...</td>\n",
              "    </tr>\n",
              "    <tr>\n",
              "      <th>995</th>\n",
              "      <td>0.244054</td>\n",
              "      <td>0.944125</td>\n",
              "      <td>0</td>\n",
              "    </tr>\n",
              "    <tr>\n",
              "      <th>996</th>\n",
              "      <td>-0.978655</td>\n",
              "      <td>-0.272373</td>\n",
              "      <td>0</td>\n",
              "    </tr>\n",
              "    <tr>\n",
              "      <th>997</th>\n",
              "      <td>-0.136900</td>\n",
              "      <td>-0.810012</td>\n",
              "      <td>1</td>\n",
              "    </tr>\n",
              "    <tr>\n",
              "      <th>998</th>\n",
              "      <td>0.670362</td>\n",
              "      <td>-0.767502</td>\n",
              "      <td>0</td>\n",
              "    </tr>\n",
              "    <tr>\n",
              "      <th>999</th>\n",
              "      <td>0.281057</td>\n",
              "      <td>0.963824</td>\n",
              "      <td>0</td>\n",
              "    </tr>\n",
              "  </tbody>\n",
              "</table>\n",
              "<p>1000 rows × 3 columns</p>\n",
              "</div>"
            ],
            "text/plain": [
              "           X0        X1  label\n",
              "0    0.754246  0.231481      1\n",
              "1   -0.756159  0.153259      1\n",
              "2   -0.815392  0.173282      1\n",
              "3   -0.393731  0.692883      1\n",
              "4    0.442208 -0.896723      0\n",
              "..        ...       ...    ...\n",
              "995  0.244054  0.944125      0\n",
              "996 -0.978655 -0.272373      0\n",
              "997 -0.136900 -0.810012      1\n",
              "998  0.670362 -0.767502      0\n",
              "999  0.281057  0.963824      0\n",
              "\n",
              "[1000 rows x 3 columns]"
            ]
          },
          "metadata": {
            "tags": []
          },
          "execution_count": 4
        }
      ]
    },
    {
      "cell_type": "code",
      "metadata": {
        "colab": {
          "base_uri": "https://localhost:8080/",
          "height": 282
        },
        "id": "j-b1mqpmk_OK",
        "outputId": "62b5c7a6-6458-4794-9d20-a2036bae3c15"
      },
      "source": [
        "# Visualize with plot\n",
        "import matplotlib.pyplot as plt\n",
        "plt.scatter(X[:,0],X[:,1],c=y,cmap=plt.cm.RdYlBu)"
      ],
      "execution_count": null,
      "outputs": [
        {
          "output_type": "execute_result",
          "data": {
            "text/plain": [
              "<matplotlib.collections.PathCollection at 0x7f34e470d990>"
            ]
          },
          "metadata": {
            "tags": []
          },
          "execution_count": 5
        },
        {
          "output_type": "display_data",
          "data": {
            "image/png": "[encoded data removed]",
            "text/plain": [
              "<Figure size 432x288 with 1 Axes>"
            ]
          },
          "metadata": {
            "tags": [],
            "needs_background": "light"
          }
        }
      ]
    },
    {
      "cell_type": "markdown",
      "metadata": {
        "id": "4b-yEhQay7uX"
      },
      "source": [
        "### Input and output shapes"
      ]
    },
    {
      "cell_type": "code",
      "metadata": {
        "colab": {
          "base_uri": "https://localhost:8080/"
        },
        "id": "JKOjqDIvlifv",
        "outputId": "220e0476-988f-40fd-c5d5-d499a8990e8f"
      },
      "source": [
        "# Check the shapes of our features and labels\n",
        "X.shape,y.shape"
      ],
      "execution_count": null,
      "outputs": [
        {
          "output_type": "execute_result",
          "data": {
            "text/plain": [
              "((1000, 2), (1000,))"
            ]
          },
          "metadata": {
            "tags": []
          },
          "execution_count": 6
        }
      ]
    },
    {
      "cell_type": "code",
      "metadata": {
        "colab": {
          "base_uri": "https://localhost:8080/"
        },
        "id": "dObKFgijzJz6",
        "outputId": "9c82fda1-df26-4c88-e49d-c20e8d8b99a6"
      },
      "source": [
        "# How many samples we're working on\n",
        "len(X),len(y)"
      ],
      "execution_count": null,
      "outputs": [
        {
          "output_type": "execute_result",
          "data": {
            "text/plain": [
              "(1000, 1000)"
            ]
          },
          "metadata": {
            "tags": []
          },
          "execution_count": 7
        }
      ]
    },
    {
      "cell_type": "code",
      "metadata": {
        "colab": {
          "base_uri": "https://localhost:8080/",
          "height": 80
        },
        "id": "AZVQPO5LzXbW",
        "outputId": "59f2804b-c12c-4ad0-f4d9-d5c5c9d1d021"
      },
      "source": [
        "# View the first samples of features and labels\n",
        "circles.head(1)"
      ],
      "execution_count": null,
      "outputs": [
        {
          "output_type": "execute_result",
          "data": {
            "text/html": [
              "<div>\n",
              "<style scoped>\n",
              "    .dataframe tbody tr th:only-of-type {\n",
              "        vertical-align: middle;\n",
              "    }\n",
              "\n",
              "    .dataframe tbody tr th {\n",
              "        vertical-align: top;\n",
              "    }\n",
              "\n",
              "    .dataframe thead th {\n",
              "        text-align: right;\n",
              "    }\n",
              "</style>\n",
              "<table border=\"1\" class=\"dataframe\">\n",
              "  <thead>\n",
              "    <tr style=\"text-align: right;\">\n",
              "      <th></th>\n",
              "      <th>X0</th>\n",
              "      <th>X1</th>\n",
              "      <th>label</th>\n",
              "    </tr>\n",
              "  </thead>\n",
              "  <tbody>\n",
              "    <tr>\n",
              "      <th>0</th>\n",
              "      <td>0.754246</td>\n",
              "      <td>0.231481</td>\n",
              "      <td>1</td>\n",
              "    </tr>\n",
              "  </tbody>\n",
              "</table>\n",
              "</div>"
            ],
            "text/plain": [
              "         X0        X1  label\n",
              "0  0.754246  0.231481      1"
            ]
          },
          "metadata": {
            "tags": []
          },
          "execution_count": 8
        }
      ]
    },
    {
      "cell_type": "markdown",
      "metadata": {
        "id": "oZoY2Jc8zwEK"
      },
      "source": [
        "### Steps in modelling with tesnorFlow\n",
        "\n",
        "the steps in modelling in tensorFlow\n",
        "\n",
        "1. Create a model\n",
        "\n",
        "2. Compile the model\n",
        "\n",
        "3. Fit the model\n",
        "\n",
        "4. Evalute the model\n",
        "\n",
        "5. Tweak \n",
        "\n",
        "6. Evaluate"
      ]
    },
    {
      "cell_type": "code",
      "metadata": {
        "colab": {
          "base_uri": "https://localhost:8080/"
        },
        "id": "Llo2o4EUziqx",
        "outputId": "5c32a7e7-898a-487d-fa00-28dad73784de"
      },
      "source": [
        "import tensorflow as tf\n",
        " \n",
        "\n",
        "# Set randomseed\n",
        "tf.random.set_seed(42)\n",
        "\n",
        "# Create a model\n",
        "\n",
        "model= tf.keras.Sequential([\n",
        "                      tf.keras.layers.Dense(1)\n",
        "])\n",
        "\n",
        "# Compile model\n",
        "model.compile(loss=tf.keras.losses.BinaryCrossentropy(),\n",
        "              optimizer=tf.keras.optimizers.SGD(),\n",
        "              metrics=['accuracy'])\n",
        "\n",
        "# Fit the model\n",
        "model.fit(X,y,epochs=100)"
      ],
      "execution_count": null,
      "outputs": [
        {
          "output_type": "stream",
          "text": [
            "Epoch 1/100\n",
            "32/32 [==============================] - 1s 1ms/step - loss: 2.8544 - accuracy: 0.4600\n",
            "Epoch 2/100\n",
            "32/32 [==============================] - 0s 1ms/step - loss: 0.7131 - accuracy: 0.5430\n",
            "Epoch 3/100\n",
            "32/32 [==============================] - 0s 965us/step - loss: 0.6973 - accuracy: 0.5090\n",
            "Epoch 4/100\n",
            "32/32 [==============================] - 0s 1ms/step - loss: 0.6950 - accuracy: 0.5010\n",
            "Epoch 5/100\n",
            "32/32 [==============================] - 0s 1ms/step - loss: 0.6942 - accuracy: 0.4830\n",
            "Epoch 6/100\n",
            "32/32 [==============================] - 0s 1ms/step - loss: 0.6938 - accuracy: 0.4990\n",
            "Epoch 7/100\n",
            "32/32 [==============================] - 0s 1ms/step - loss: 0.6943 - accuracy: 0.4880\n",
            "Epoch 8/100\n",
            "32/32 [==============================] - 0s 1ms/step - loss: 0.6941 - accuracy: 0.4950\n",
            "Epoch 9/100\n",
            "32/32 [==============================] - 0s 1ms/step - loss: 0.6940 - accuracy: 0.4840\n",
            "Epoch 10/100\n",
            "32/32 [==============================] - 0s 1ms/step - loss: 0.6938 - accuracy: 0.4820\n",
            "Epoch 11/100\n",
            "32/32 [==============================] - 0s 1ms/step - loss: 0.6944 - accuracy: 0.4640\n",
            "Epoch 12/100\n",
            "32/32 [==============================] - 0s 1ms/step - loss: 0.6945 - accuracy: 0.4800\n",
            "Epoch 13/100\n",
            "32/32 [==============================] - 0s 1ms/step - loss: 0.6943 - accuracy: 0.4830\n",
            "Epoch 14/100\n",
            "32/32 [==============================] - 0s 1ms/step - loss: 0.6944 - accuracy: 0.5030\n",
            "Epoch 15/100\n",
            "32/32 [==============================] - 0s 1ms/step - loss: 0.6941 - accuracy: 0.4510\n",
            "Epoch 16/100\n",
            "32/32 [==============================] - 0s 1ms/step - loss: 0.6944 - accuracy: 0.4880\n",
            "Epoch 17/100\n",
            "32/32 [==============================] - 0s 1ms/step - loss: 0.6941 - accuracy: 0.4910\n",
            "Epoch 18/100\n",
            "32/32 [==============================] - 0s 1ms/step - loss: 0.6940 - accuracy: 0.4760\n",
            "Epoch 19/100\n",
            "32/32 [==============================] - 0s 1ms/step - loss: 0.6941 - accuracy: 0.4820\n",
            "Epoch 20/100\n",
            "32/32 [==============================] - 0s 1ms/step - loss: 0.6941 - accuracy: 0.4560\n",
            "Epoch 21/100\n",
            "32/32 [==============================] - 0s 1ms/step - loss: 0.6939 - accuracy: 0.4900\n",
            "Epoch 22/100\n",
            "32/32 [==============================] - 0s 1ms/step - loss: 0.6942 - accuracy: 0.4690\n",
            "Epoch 23/100\n",
            "32/32 [==============================] - 0s 1ms/step - loss: 0.6940 - accuracy: 0.4840\n",
            "Epoch 24/100\n",
            "32/32 [==============================] - 0s 1ms/step - loss: 0.6942 - accuracy: 0.4680\n",
            "Epoch 25/100\n",
            "32/32 [==============================] - 0s 1ms/step - loss: 0.6939 - accuracy: 0.4890\n",
            "Epoch 26/100\n",
            "32/32 [==============================] - 0s 1ms/step - loss: 0.6943 - accuracy: 0.4740\n",
            "Epoch 27/100\n",
            "32/32 [==============================] - 0s 1ms/step - loss: 0.6938 - accuracy: 0.5060\n",
            "Epoch 28/100\n",
            "32/32 [==============================] - 0s 979us/step - loss: 0.6943 - accuracy: 0.4690\n",
            "Epoch 29/100\n",
            "32/32 [==============================] - 0s 1ms/step - loss: 0.6942 - accuracy: 0.4620\n",
            "Epoch 30/100\n",
            "32/32 [==============================] - 0s 1ms/step - loss: 0.6941 - accuracy: 0.4870\n",
            "Epoch 31/100\n",
            "32/32 [==============================] - 0s 1ms/step - loss: 0.6942 - accuracy: 0.5230\n",
            "Epoch 32/100\n",
            "32/32 [==============================] - 0s 1ms/step - loss: 0.6941 - accuracy: 0.4670\n",
            "Epoch 33/100\n",
            "32/32 [==============================] - 0s 1ms/step - loss: 0.6942 - accuracy: 0.4760\n",
            "Epoch 34/100\n",
            "32/32 [==============================] - 0s 1ms/step - loss: 0.6946 - accuracy: 0.4590\n",
            "Epoch 35/100\n",
            "32/32 [==============================] - 0s 1ms/step - loss: 0.6941 - accuracy: 0.5010\n",
            "Epoch 36/100\n",
            "32/32 [==============================] - 0s 1ms/step - loss: 0.6943 - accuracy: 0.4710\n",
            "Epoch 37/100\n",
            "32/32 [==============================] - 0s 1ms/step - loss: 0.6940 - accuracy: 0.5020\n",
            "Epoch 38/100\n",
            "32/32 [==============================] - 0s 1ms/step - loss: 0.6940 - accuracy: 0.4670\n",
            "Epoch 39/100\n",
            "32/32 [==============================] - 0s 978us/step - loss: 0.6941 - accuracy: 0.4350\n",
            "Epoch 40/100\n",
            "32/32 [==============================] - 0s 1ms/step - loss: 0.6948 - accuracy: 0.4720\n",
            "Epoch 41/100\n",
            "32/32 [==============================] - 0s 970us/step - loss: 0.6941 - accuracy: 0.4730\n",
            "Epoch 42/100\n",
            "32/32 [==============================] - 0s 1ms/step - loss: 0.6941 - accuracy: 0.4640\n",
            "Epoch 43/100\n",
            "32/32 [==============================] - 0s 1ms/step - loss: 0.6942 - accuracy: 0.4850\n",
            "Epoch 44/100\n",
            "32/32 [==============================] - 0s 934us/step - loss: 0.6935 - accuracy: 0.5080\n",
            "Epoch 45/100\n",
            "32/32 [==============================] - 0s 1ms/step - loss: 0.6944 - accuracy: 0.4710\n",
            "Epoch 46/100\n",
            "32/32 [==============================] - 0s 988us/step - loss: 0.6942 - accuracy: 0.4850\n",
            "Epoch 47/100\n",
            "32/32 [==============================] - 0s 984us/step - loss: 0.6939 - accuracy: 0.4940\n",
            "Epoch 48/100\n",
            "32/32 [==============================] - 0s 1ms/step - loss: 0.6939 - accuracy: 0.4900\n",
            "Epoch 49/100\n",
            "32/32 [==============================] - 0s 994us/step - loss: 0.6941 - accuracy: 0.4770\n",
            "Epoch 50/100\n",
            "32/32 [==============================] - 0s 966us/step - loss: 0.6941 - accuracy: 0.4980\n",
            "Epoch 51/100\n",
            "32/32 [==============================] - 0s 1ms/step - loss: 0.6942 - accuracy: 0.4820\n",
            "Epoch 52/100\n",
            "32/32 [==============================] - 0s 1ms/step - loss: 0.6941 - accuracy: 0.4890\n",
            "Epoch 53/100\n",
            "32/32 [==============================] - 0s 1ms/step - loss: 0.6939 - accuracy: 0.4690\n",
            "Epoch 54/100\n",
            "32/32 [==============================] - 0s 1ms/step - loss: 0.6943 - accuracy: 0.4920\n",
            "Epoch 55/100\n",
            "32/32 [==============================] - 0s 1ms/step - loss: 0.6942 - accuracy: 0.4970\n",
            "Epoch 56/100\n",
            "32/32 [==============================] - 0s 1ms/step - loss: 0.6940 - accuracy: 0.4800\n",
            "Epoch 57/100\n",
            "32/32 [==============================] - 0s 1ms/step - loss: 0.6944 - accuracy: 0.4710\n",
            "Epoch 58/100\n",
            "32/32 [==============================] - 0s 1ms/step - loss: 0.6942 - accuracy: 0.4870\n",
            "Epoch 59/100\n",
            "32/32 [==============================] - 0s 1ms/step - loss: 0.6939 - accuracy: 0.5030\n",
            "Epoch 60/100\n",
            "32/32 [==============================] - 0s 1ms/step - loss: 0.6942 - accuracy: 0.5060\n",
            "Epoch 61/100\n",
            "32/32 [==============================] - 0s 1ms/step - loss: 0.6944 - accuracy: 0.4990\n",
            "Epoch 62/100\n",
            "32/32 [==============================] - 0s 1ms/step - loss: 0.6941 - accuracy: 0.4760\n",
            "Epoch 63/100\n",
            "32/32 [==============================] - 0s 1ms/step - loss: 0.6940 - accuracy: 0.4690\n",
            "Epoch 64/100\n",
            "32/32 [==============================] - 0s 1ms/step - loss: 0.6942 - accuracy: 0.4930\n",
            "Epoch 65/100\n",
            "32/32 [==============================] - 0s 1ms/step - loss: 0.6943 - accuracy: 0.4690\n",
            "Epoch 66/100\n",
            "32/32 [==============================] - 0s 1ms/step - loss: 0.6940 - accuracy: 0.4770\n",
            "Epoch 67/100\n",
            "32/32 [==============================] - 0s 1ms/step - loss: 0.6945 - accuracy: 0.4670\n",
            "Epoch 68/100\n",
            "32/32 [==============================] - 0s 1ms/step - loss: 0.6939 - accuracy: 0.4680\n",
            "Epoch 69/100\n",
            "32/32 [==============================] - 0s 1ms/step - loss: 0.6943 - accuracy: 0.5070\n",
            "Epoch 70/100\n",
            "32/32 [==============================] - 0s 1ms/step - loss: 0.6943 - accuracy: 0.4630\n",
            "Epoch 71/100\n",
            "32/32 [==============================] - 0s 1ms/step - loss: 0.6939 - accuracy: 0.4820\n",
            "Epoch 72/100\n",
            "32/32 [==============================] - 0s 1ms/step - loss: 0.6942 - accuracy: 0.4890\n",
            "Epoch 73/100\n",
            "32/32 [==============================] - 0s 1ms/step - loss: 0.6941 - accuracy: 0.4760\n",
            "Epoch 74/100\n",
            "32/32 [==============================] - 0s 1ms/step - loss: 0.6940 - accuracy: 0.5090\n",
            "Epoch 75/100\n",
            "32/32 [==============================] - 0s 1ms/step - loss: 0.6941 - accuracy: 0.4940\n",
            "Epoch 76/100\n",
            "32/32 [==============================] - 0s 1ms/step - loss: 0.6940 - accuracy: 0.5010\n",
            "Epoch 77/100\n",
            "32/32 [==============================] - 0s 1ms/step - loss: 0.6942 - accuracy: 0.4870\n",
            "Epoch 78/100\n",
            "32/32 [==============================] - 0s 957us/step - loss: 0.6941 - accuracy: 0.4610\n",
            "Epoch 79/100\n",
            "32/32 [==============================] - 0s 1ms/step - loss: 0.6940 - accuracy: 0.4860\n",
            "Epoch 80/100\n",
            "32/32 [==============================] - 0s 1ms/step - loss: 0.6943 - accuracy: 0.5050\n",
            "Epoch 81/100\n",
            "32/32 [==============================] - 0s 1ms/step - loss: 0.6943 - accuracy: 0.5050\n",
            "Epoch 82/100\n",
            "32/32 [==============================] - 0s 1ms/step - loss: 0.6941 - accuracy: 0.4690\n",
            "Epoch 83/100\n",
            "32/32 [==============================] - 0s 1ms/step - loss: 0.6941 - accuracy: 0.4930\n",
            "Epoch 84/100\n",
            "32/32 [==============================] - 0s 1ms/step - loss: 0.6942 - accuracy: 0.4960\n",
            "Epoch 85/100\n",
            "32/32 [==============================] - 0s 1ms/step - loss: 0.6939 - accuracy: 0.4930\n",
            "Epoch 86/100\n",
            "32/32 [==============================] - 0s 956us/step - loss: 0.6940 - accuracy: 0.4880\n",
            "Epoch 87/100\n",
            "32/32 [==============================] - 0s 1ms/step - loss: 0.6942 - accuracy: 0.4720\n",
            "Epoch 88/100\n",
            "32/32 [==============================] - 0s 1ms/step - loss: 0.6944 - accuracy: 0.4470\n",
            "Epoch 89/100\n",
            "32/32 [==============================] - 0s 1ms/step - loss: 0.6945 - accuracy: 0.4720\n",
            "Epoch 90/100\n",
            "32/32 [==============================] - 0s 1ms/step - loss: 0.6941 - accuracy: 0.4820\n",
            "Epoch 91/100\n",
            "32/32 [==============================] - 0s 981us/step - loss: 0.6944 - accuracy: 0.4860\n",
            "Epoch 92/100\n",
            "32/32 [==============================] - 0s 1ms/step - loss: 0.6941 - accuracy: 0.5050\n",
            "Epoch 93/100\n",
            "32/32 [==============================] - 0s 1ms/step - loss: 0.6941 - accuracy: 0.4720\n",
            "Epoch 94/100\n",
            "32/32 [==============================] - 0s 1ms/step - loss: 0.6946 - accuracy: 0.4770\n",
            "Epoch 95/100\n",
            "32/32 [==============================] - 0s 1ms/step - loss: 0.6940 - accuracy: 0.4760\n",
            "Epoch 96/100\n",
            "32/32 [==============================] - 0s 1ms/step - loss: 0.6945 - accuracy: 0.4610\n",
            "Epoch 97/100\n",
            "32/32 [==============================] - 0s 1ms/step - loss: 0.6942 - accuracy: 0.4690\n",
            "Epoch 98/100\n",
            "32/32 [==============================] - 0s 984us/step - loss: 0.6942 - accuracy: 0.4840\n",
            "Epoch 99/100\n",
            "32/32 [==============================] - 0s 1ms/step - loss: 0.6944 - accuracy: 0.4980\n",
            "Epoch 100/100\n",
            "32/32 [==============================] - 0s 1ms/step - loss: 0.6943 - accuracy: 0.4850\n"
          ],
          "name": "stdout"
        },
        {
          "output_type": "execute_result",
          "data": {
            "text/plain": [
              "<tensorflow.python.keras.callbacks.History at 0x7f34a1355350>"
            ]
          },
          "metadata": {
            "tags": []
          },
          "execution_count": 9
        }
      ]
    },
    {
      "cell_type": "markdown",
      "metadata": {
        "id": "117Yj9-03uTf"
      },
      "source": [
        "Since we're working on binary classification problem and our model is getting around ~50% accuracy ....its performing as ig its guessing\n",
        "\n",
        "So lets steps thing up and notch and add an extra layer"
      ]
    },
    {
      "cell_type": "code",
      "metadata": {
        "colab": {
          "base_uri": "https://localhost:8080/"
        },
        "id": "PMrp70hA2b0n",
        "outputId": "8f18d2ba-567b-4786-80ac-c007c94292a7"
      },
      "source": [
        "# Set Random Seeds\n",
        "tf.random.set_seed(42)\n",
        "\n",
        "# Create a model this time with 2 layers\n",
        "model= tf.keras.Sequential([\n",
        "                            tf.keras.layers.Dense(1),\n",
        "                            tf.keras.layers.Dense(1)\n",
        "])\n",
        "\n",
        "# Compile a model \n",
        "\n",
        "model.compile(loss=tf.keras.losses.BinaryCrossentropy(),\n",
        "              optimizer=tf.keras.optimizers.SGD(),\n",
        "              metrics=['accuracy'])\n",
        "\n",
        "# Fit the model\n",
        "model.fit(X,y,epochs=100)\n"
      ],
      "execution_count": null,
      "outputs": [
        {
          "output_type": "stream",
          "text": [
            "Epoch 1/100\n",
            "32/32 [==============================] - 0s 1ms/step - loss: 1.8044 - accuracy: 0.5090\n",
            "Epoch 2/100\n",
            "32/32 [==============================] - 0s 992us/step - loss: 0.7235 - accuracy: 0.5030\n",
            "Epoch 3/100\n",
            "32/32 [==============================] - 0s 943us/step - loss: 0.7145 - accuracy: 0.4950\n",
            "Epoch 4/100\n",
            "32/32 [==============================] - 0s 970us/step - loss: 0.7078 - accuracy: 0.5010\n",
            "Epoch 5/100\n",
            "32/32 [==============================] - 0s 1ms/step - loss: 0.7037 - accuracy: 0.5010\n",
            "Epoch 6/100\n",
            "32/32 [==============================] - 0s 985us/step - loss: 0.7008 - accuracy: 0.4960\n",
            "Epoch 7/100\n",
            "32/32 [==============================] - 0s 1ms/step - loss: 0.7001 - accuracy: 0.4990\n",
            "Epoch 8/100\n",
            "32/32 [==============================] - 0s 995us/step - loss: 0.6984 - accuracy: 0.4980\n",
            "Epoch 9/100\n",
            "32/32 [==============================] - 0s 1ms/step - loss: 0.6973 - accuracy: 0.4960\n",
            "Epoch 10/100\n",
            "32/32 [==============================] - 0s 1ms/step - loss: 0.6962 - accuracy: 0.4920\n",
            "Epoch 11/100\n",
            "32/32 [==============================] - 0s 1ms/step - loss: 0.6962 - accuracy: 0.4950\n",
            "Epoch 12/100\n",
            "32/32 [==============================] - 0s 1ms/step - loss: 0.6961 - accuracy: 0.4980\n",
            "Epoch 13/100\n",
            "32/32 [==============================] - 0s 1ms/step - loss: 0.6955 - accuracy: 0.4930\n",
            "Epoch 14/100\n",
            "32/32 [==============================] - 0s 1ms/step - loss: 0.6954 - accuracy: 0.4980\n",
            "Epoch 15/100\n",
            "32/32 [==============================] - 0s 997us/step - loss: 0.6947 - accuracy: 0.4900\n",
            "Epoch 16/100\n",
            "32/32 [==============================] - 0s 991us/step - loss: 0.6950 - accuracy: 0.5010\n",
            "Epoch 17/100\n",
            "32/32 [==============================] - 0s 1ms/step - loss: 0.6944 - accuracy: 0.5190\n",
            "Epoch 18/100\n",
            "32/32 [==============================] - 0s 1ms/step - loss: 0.6944 - accuracy: 0.4820\n",
            "Epoch 19/100\n",
            "32/32 [==============================] - 0s 952us/step - loss: 0.6943 - accuracy: 0.5120\n",
            "Epoch 20/100\n",
            "32/32 [==============================] - 0s 988us/step - loss: 0.6942 - accuracy: 0.5060\n",
            "Epoch 21/100\n",
            "32/32 [==============================] - 0s 1ms/step - loss: 0.6939 - accuracy: 0.5060\n",
            "Epoch 22/100\n",
            "32/32 [==============================] - 0s 1ms/step - loss: 0.6943 - accuracy: 0.4630\n",
            "Epoch 23/100\n",
            "32/32 [==============================] - 0s 1ms/step - loss: 0.6940 - accuracy: 0.5130\n",
            "Epoch 24/100\n",
            "32/32 [==============================] - 0s 938us/step - loss: 0.6942 - accuracy: 0.4710\n",
            "Epoch 25/100\n",
            "32/32 [==============================] - 0s 1ms/step - loss: 0.6938 - accuracy: 0.4730\n",
            "Epoch 26/100\n",
            "32/32 [==============================] - 0s 982us/step - loss: 0.6941 - accuracy: 0.4920\n",
            "Epoch 27/100\n",
            "32/32 [==============================] - 0s 955us/step - loss: 0.6934 - accuracy: 0.5080\n",
            "Epoch 28/100\n",
            "32/32 [==============================] - 0s 1ms/step - loss: 0.6942 - accuracy: 0.4510\n",
            "Epoch 29/100\n",
            "32/32 [==============================] - 0s 1ms/step - loss: 0.6940 - accuracy: 0.4830\n",
            "Epoch 30/100\n",
            "32/32 [==============================] - 0s 2ms/step - loss: 0.6938 - accuracy: 0.4940\n",
            "Epoch 31/100\n",
            "32/32 [==============================] - 0s 1ms/step - loss: 0.6939 - accuracy: 0.5340\n",
            "Epoch 32/100\n",
            "32/32 [==============================] - 0s 1ms/step - loss: 0.6940 - accuracy: 0.4940\n",
            "Epoch 33/100\n",
            "32/32 [==============================] - 0s 1ms/step - loss: 0.6939 - accuracy: 0.4750\n",
            "Epoch 34/100\n",
            "32/32 [==============================] - 0s 1ms/step - loss: 0.6944 - accuracy: 0.4910\n",
            "Epoch 35/100\n",
            "32/32 [==============================] - 0s 1ms/step - loss: 0.6938 - accuracy: 0.5150\n",
            "Epoch 36/100\n",
            "32/32 [==============================] - 0s 1ms/step - loss: 0.6942 - accuracy: 0.4680\n",
            "Epoch 37/100\n",
            "32/32 [==============================] - 0s 1ms/step - loss: 0.6937 - accuracy: 0.5160\n",
            "Epoch 38/100\n",
            "32/32 [==============================] - 0s 1ms/step - loss: 0.6938 - accuracy: 0.4900\n",
            "Epoch 39/100\n",
            "32/32 [==============================] - 0s 1ms/step - loss: 0.6937 - accuracy: 0.4890\n",
            "Epoch 40/100\n",
            "32/32 [==============================] - 0s 1ms/step - loss: 0.6947 - accuracy: 0.4640\n",
            "Epoch 41/100\n",
            "32/32 [==============================] - 0s 1ms/step - loss: 0.6938 - accuracy: 0.4900\n",
            "Epoch 42/100\n",
            "32/32 [==============================] - 0s 1ms/step - loss: 0.6939 - accuracy: 0.4990\n",
            "Epoch 43/100\n",
            "32/32 [==============================] - 0s 1ms/step - loss: 0.6939 - accuracy: 0.4860\n",
            "Epoch 44/100\n",
            "32/32 [==============================] - 0s 1ms/step - loss: 0.6932 - accuracy: 0.5130\n",
            "Epoch 45/100\n",
            "32/32 [==============================] - 0s 1ms/step - loss: 0.6942 - accuracy: 0.4890\n",
            "Epoch 46/100\n",
            "32/32 [==============================] - 0s 1ms/step - loss: 0.6939 - accuracy: 0.4900\n",
            "Epoch 47/100\n",
            "32/32 [==============================] - 0s 1ms/step - loss: 0.6935 - accuracy: 0.5090\n",
            "Epoch 48/100\n",
            "32/32 [==============================] - 0s 1ms/step - loss: 0.6937 - accuracy: 0.4930\n",
            "Epoch 49/100\n",
            "32/32 [==============================] - 0s 1ms/step - loss: 0.6939 - accuracy: 0.4830\n",
            "Epoch 50/100\n",
            "32/32 [==============================] - 0s 1ms/step - loss: 0.6938 - accuracy: 0.5000\n",
            "Epoch 51/100\n",
            "32/32 [==============================] - 0s 973us/step - loss: 0.6939 - accuracy: 0.4960\n",
            "Epoch 52/100\n",
            "32/32 [==============================] - 0s 1ms/step - loss: 0.6938 - accuracy: 0.4980\n",
            "Epoch 53/100\n",
            "32/32 [==============================] - 0s 1ms/step - loss: 0.6938 - accuracy: 0.4720\n",
            "Epoch 54/100\n",
            "32/32 [==============================] - 0s 1ms/step - loss: 0.6940 - accuracy: 0.4910\n",
            "Epoch 55/100\n",
            "32/32 [==============================] - 0s 2ms/step - loss: 0.6939 - accuracy: 0.4970\n",
            "Epoch 56/100\n",
            "32/32 [==============================] - 0s 1ms/step - loss: 0.6938 - accuracy: 0.4870\n",
            "Epoch 57/100\n",
            "32/32 [==============================] - 0s 1ms/step - loss: 0.6940 - accuracy: 0.4870\n",
            "Epoch 58/100\n",
            "32/32 [==============================] - 0s 1ms/step - loss: 0.6940 - accuracy: 0.4870\n",
            "Epoch 59/100\n",
            "32/32 [==============================] - 0s 1ms/step - loss: 0.6934 - accuracy: 0.5130\n",
            "Epoch 60/100\n",
            "32/32 [==============================] - 0s 1ms/step - loss: 0.6938 - accuracy: 0.4920\n",
            "Epoch 61/100\n",
            "32/32 [==============================] - 0s 1ms/step - loss: 0.6942 - accuracy: 0.4950\n",
            "Epoch 62/100\n",
            "32/32 [==============================] - 0s 1ms/step - loss: 0.6937 - accuracy: 0.4950\n",
            "Epoch 63/100\n",
            "32/32 [==============================] - 0s 1ms/step - loss: 0.6939 - accuracy: 0.4860\n",
            "Epoch 64/100\n",
            "32/32 [==============================] - 0s 1ms/step - loss: 0.6939 - accuracy: 0.4810\n",
            "Epoch 65/100\n",
            "32/32 [==============================] - 0s 1ms/step - loss: 0.6939 - accuracy: 0.4980\n",
            "Epoch 66/100\n",
            "32/32 [==============================] - 0s 1ms/step - loss: 0.6938 - accuracy: 0.4910\n",
            "Epoch 67/100\n",
            "32/32 [==============================] - 0s 1ms/step - loss: 0.6944 - accuracy: 0.4950\n",
            "Epoch 68/100\n",
            "32/32 [==============================] - 0s 1ms/step - loss: 0.6936 - accuracy: 0.4960\n",
            "Epoch 69/100\n",
            "32/32 [==============================] - 0s 1ms/step - loss: 0.6940 - accuracy: 0.5000\n",
            "Epoch 70/100\n",
            "32/32 [==============================] - 0s 1ms/step - loss: 0.6940 - accuracy: 0.4780\n",
            "Epoch 71/100\n",
            "32/32 [==============================] - 0s 1ms/step - loss: 0.6936 - accuracy: 0.4970\n",
            "Epoch 72/100\n",
            "32/32 [==============================] - 0s 1ms/step - loss: 0.6940 - accuracy: 0.4800\n",
            "Epoch 73/100\n",
            "32/32 [==============================] - 0s 1ms/step - loss: 0.6937 - accuracy: 0.4840\n",
            "Epoch 74/100\n",
            "32/32 [==============================] - 0s 1ms/step - loss: 0.6937 - accuracy: 0.4900\n",
            "Epoch 75/100\n",
            "32/32 [==============================] - 0s 1ms/step - loss: 0.6938 - accuracy: 0.4940\n",
            "Epoch 76/100\n",
            "32/32 [==============================] - 0s 1ms/step - loss: 0.6937 - accuracy: 0.5040\n",
            "Epoch 77/100\n",
            "32/32 [==============================] - 0s 1ms/step - loss: 0.6941 - accuracy: 0.4910\n",
            "Epoch 78/100\n",
            "32/32 [==============================] - 0s 1ms/step - loss: 0.6938 - accuracy: 0.4860\n",
            "Epoch 79/100\n",
            "32/32 [==============================] - 0s 1ms/step - loss: 0.6937 - accuracy: 0.5020\n",
            "Epoch 80/100\n",
            "32/32 [==============================] - 0s 1ms/step - loss: 0.6941 - accuracy: 0.5000\n",
            "Epoch 81/100\n",
            "32/32 [==============================] - 0s 1ms/step - loss: 0.6941 - accuracy: 0.4820\n",
            "Epoch 82/100\n",
            "32/32 [==============================] - 0s 1ms/step - loss: 0.6937 - accuracy: 0.4920\n",
            "Epoch 83/100\n",
            "32/32 [==============================] - 0s 1ms/step - loss: 0.6938 - accuracy: 0.5120\n",
            "Epoch 84/100\n",
            "32/32 [==============================] - 0s 1ms/step - loss: 0.6941 - accuracy: 0.5000\n",
            "Epoch 85/100\n",
            "32/32 [==============================] - 0s 1ms/step - loss: 0.6936 - accuracy: 0.4830\n",
            "Epoch 86/100\n",
            "32/32 [==============================] - 0s 1ms/step - loss: 0.6937 - accuracy: 0.4830\n",
            "Epoch 87/100\n",
            "32/32 [==============================] - 0s 1ms/step - loss: 0.6940 - accuracy: 0.4880\n",
            "Epoch 88/100\n",
            "32/32 [==============================] - 0s 1ms/step - loss: 0.6941 - accuracy: 0.4860\n",
            "Epoch 89/100\n",
            "32/32 [==============================] - 0s 1ms/step - loss: 0.6943 - accuracy: 0.4910\n",
            "Epoch 90/100\n",
            "32/32 [==============================] - 0s 1ms/step - loss: 0.6939 - accuracy: 0.4960\n",
            "Epoch 91/100\n",
            "32/32 [==============================] - 0s 1ms/step - loss: 0.6941 - accuracy: 0.4970\n",
            "Epoch 92/100\n",
            "32/32 [==============================] - 0s 1ms/step - loss: 0.6939 - accuracy: 0.4910\n",
            "Epoch 93/100\n",
            "32/32 [==============================] - 0s 1ms/step - loss: 0.6938 - accuracy: 0.5040\n",
            "Epoch 94/100\n",
            "32/32 [==============================] - 0s 1ms/step - loss: 0.6944 - accuracy: 0.4750\n",
            "Epoch 95/100\n",
            "32/32 [==============================] - 0s 1ms/step - loss: 0.6936 - accuracy: 0.4840\n",
            "Epoch 96/100\n",
            "32/32 [==============================] - 0s 1ms/step - loss: 0.6942 - accuracy: 0.4690\n",
            "Epoch 97/100\n",
            "32/32 [==============================] - 0s 1ms/step - loss: 0.6939 - accuracy: 0.4970\n",
            "Epoch 98/100\n",
            "32/32 [==============================] - 0s 1ms/step - loss: 0.6938 - accuracy: 0.5000\n",
            "Epoch 99/100\n",
            "32/32 [==============================] - 0s 1ms/step - loss: 0.6943 - accuracy: 0.4980\n",
            "Epoch 100/100\n",
            "32/32 [==============================] - 0s 1ms/step - loss: 0.6941 - accuracy: 0.4690\n"
          ],
          "name": "stdout"
        },
        {
          "output_type": "execute_result",
          "data": {
            "text/plain": [
              "<tensorflow.python.keras.callbacks.History at 0x7f349f121450>"
            ]
          },
          "metadata": {
            "tags": []
          },
          "execution_count": 10
        }
      ]
    },
    {
      "cell_type": "markdown",
      "metadata": {
        "id": "-7nk59gA5oHd"
      },
      "source": [
        "### Improving our model\n",
        "\n",
        "Lets look into our bag of tricks to see how we can improve our model.\n",
        "\n",
        "1. Create a model - we might want to add more layers or increase the number of hidden units within a layer.\n",
        "\n",
        "2. Compiling a model -- here we might want to choose diff optimizer\n",
        "\n",
        "3. Fitting a model  -- train it for longer\n"
      ]
    },
    {
      "cell_type": "code",
      "metadata": {
        "colab": {
          "base_uri": "https://localhost:8080/"
        },
        "id": "d3SgkOU044Bg",
        "outputId": "01b3b4b5-c402-4c88-eb27-c8f3be94d4ac"
      },
      "source": [
        " # Set random seed\n",
        " tf.random.set_seed(42)\n",
        "\n",
        " # Create model\n",
        " model=tf.keras.Sequential([\n",
        "                            tf.keras.layers.Dense(100),\n",
        "                            tf.keras.layers.Dense(10),\n",
        "                            tf.keras.layers.Dense(1)\n",
        "\n",
        " ])\n",
        "\n",
        " # Compile a model\n",
        "\n",
        " model.compile(loss=tf.keras.losses.BinaryCrossentropy(),\n",
        "               optimizer=tf.keras.optimizers.Adam(),\n",
        "               metrics=['accuracy'])\n",
        " \n",
        " # fit the model\n",
        " model.fit(X,y,epochs=100)"
      ],
      "execution_count": null,
      "outputs": [
        {
          "output_type": "stream",
          "text": [
            "Epoch 1/100\n",
            "32/32 [==============================] - 0s 1ms/step - loss: 2.9658 - accuracy: 0.4490\n",
            "Epoch 2/100\n",
            "32/32 [==============================] - 0s 1ms/step - loss: 0.7229 - accuracy: 0.4390\n",
            "Epoch 3/100\n",
            "32/32 [==============================] - 0s 1ms/step - loss: 0.6971 - accuracy: 0.4700\n",
            "Epoch 4/100\n",
            "32/32 [==============================] - 0s 1ms/step - loss: 0.6953 - accuracy: 0.4620\n",
            "Epoch 5/100\n",
            "32/32 [==============================] - 0s 2ms/step - loss: 0.6943 - accuracy: 0.4750\n",
            "Epoch 6/100\n",
            "32/32 [==============================] - 0s 1ms/step - loss: 0.6941 - accuracy: 0.4750\n",
            "Epoch 7/100\n",
            "32/32 [==============================] - 0s 1ms/step - loss: 0.6939 - accuracy: 0.5040\n",
            "Epoch 8/100\n",
            "32/32 [==============================] - 0s 1ms/step - loss: 0.6946 - accuracy: 0.4980\n",
            "Epoch 9/100\n",
            "32/32 [==============================] - 0s 1ms/step - loss: 0.6943 - accuracy: 0.4880\n",
            "Epoch 10/100\n",
            "32/32 [==============================] - 0s 1ms/step - loss: 0.6944 - accuracy: 0.4480\n",
            "Epoch 11/100\n",
            "32/32 [==============================] - 0s 1ms/step - loss: 0.6952 - accuracy: 0.4450\n",
            "Epoch 12/100\n",
            "32/32 [==============================] - 0s 1ms/step - loss: 0.6946 - accuracy: 0.4890\n",
            "Epoch 13/100\n",
            "32/32 [==============================] - 0s 2ms/step - loss: 0.6956 - accuracy: 0.4920\n",
            "Epoch 14/100\n",
            "32/32 [==============================] - 0s 1ms/step - loss: 0.6950 - accuracy: 0.5140\n",
            "Epoch 15/100\n",
            "32/32 [==============================] - 0s 1ms/step - loss: 0.6956 - accuracy: 0.4590\n",
            "Epoch 16/100\n",
            "32/32 [==============================] - 0s 1ms/step - loss: 0.6943 - accuracy: 0.4820\n",
            "Epoch 17/100\n",
            "32/32 [==============================] - 0s 1ms/step - loss: 0.6975 - accuracy: 0.4950\n",
            "Epoch 18/100\n",
            "32/32 [==============================] - 0s 1ms/step - loss: 0.6945 - accuracy: 0.4550\n",
            "Epoch 19/100\n",
            "32/32 [==============================] - 0s 2ms/step - loss: 0.6953 - accuracy: 0.5330\n",
            "Epoch 20/100\n",
            "32/32 [==============================] - 0s 1ms/step - loss: 0.6956 - accuracy: 0.4560\n",
            "Epoch 21/100\n",
            "32/32 [==============================] - 0s 1ms/step - loss: 0.6955 - accuracy: 0.4920\n",
            "Epoch 22/100\n",
            "32/32 [==============================] - 0s 2ms/step - loss: 0.6948 - accuracy: 0.4350\n",
            "Epoch 23/100\n",
            "32/32 [==============================] - 0s 1ms/step - loss: 0.6944 - accuracy: 0.4990\n",
            "Epoch 24/100\n",
            "32/32 [==============================] - 0s 1ms/step - loss: 0.6963 - accuracy: 0.4690\n",
            "Epoch 25/100\n",
            "32/32 [==============================] - 0s 1ms/step - loss: 0.6973 - accuracy: 0.4970\n",
            "Epoch 26/100\n",
            "32/32 [==============================] - 0s 1ms/step - loss: 0.6973 - accuracy: 0.4830\n",
            "Epoch 27/100\n",
            "32/32 [==============================] - 0s 1ms/step - loss: 0.6963 - accuracy: 0.5040\n",
            "Epoch 28/100\n",
            "32/32 [==============================] - 0s 1ms/step - loss: 0.6946 - accuracy: 0.4680\n",
            "Epoch 29/100\n",
            "32/32 [==============================] - 0s 2ms/step - loss: 0.6973 - accuracy: 0.4790\n",
            "Epoch 30/100\n",
            "32/32 [==============================] - 0s 2ms/step - loss: 0.6998 - accuracy: 0.4800\n",
            "Epoch 31/100\n",
            "32/32 [==============================] - 0s 2ms/step - loss: 0.6950 - accuracy: 0.5030\n",
            "Epoch 32/100\n",
            "32/32 [==============================] - 0s 2ms/step - loss: 0.6965 - accuracy: 0.4760\n",
            "Epoch 33/100\n",
            "32/32 [==============================] - 0s 1ms/step - loss: 0.6957 - accuracy: 0.4570\n",
            "Epoch 34/100\n",
            "32/32 [==============================] - 0s 2ms/step - loss: 0.6973 - accuracy: 0.4800\n",
            "Epoch 35/100\n",
            "32/32 [==============================] - 0s 1ms/step - loss: 0.6960 - accuracy: 0.5050\n",
            "Epoch 36/100\n",
            "32/32 [==============================] - 0s 1ms/step - loss: 0.6946 - accuracy: 0.4680\n",
            "Epoch 37/100\n",
            "32/32 [==============================] - 0s 1ms/step - loss: 0.6952 - accuracy: 0.4870\n",
            "Epoch 38/100\n",
            "32/32 [==============================] - 0s 1ms/step - loss: 0.6975 - accuracy: 0.4980\n",
            "Epoch 39/100\n",
            "32/32 [==============================] - 0s 1ms/step - loss: 0.6949 - accuracy: 0.4690\n",
            "Epoch 40/100\n",
            "32/32 [==============================] - 0s 1ms/step - loss: 0.6965 - accuracy: 0.4990\n",
            "Epoch 41/100\n",
            "32/32 [==============================] - 0s 1ms/step - loss: 0.6979 - accuracy: 0.4880\n",
            "Epoch 42/100\n",
            "32/32 [==============================] - 0s 1ms/step - loss: 0.6995 - accuracy: 0.4700\n",
            "Epoch 43/100\n",
            "32/32 [==============================] - 0s 2ms/step - loss: 0.6957 - accuracy: 0.5030\n",
            "Epoch 44/100\n",
            "32/32 [==============================] - 0s 1ms/step - loss: 0.6981 - accuracy: 0.4830\n",
            "Epoch 45/100\n",
            "32/32 [==============================] - 0s 2ms/step - loss: 0.6964 - accuracy: 0.5120\n",
            "Epoch 46/100\n",
            "32/32 [==============================] - 0s 1ms/step - loss: 0.6949 - accuracy: 0.4730\n",
            "Epoch 47/100\n",
            "32/32 [==============================] - 0s 2ms/step - loss: 0.6974 - accuracy: 0.5170\n",
            "Epoch 48/100\n",
            "32/32 [==============================] - 0s 2ms/step - loss: 0.6966 - accuracy: 0.4840\n",
            "Epoch 49/100\n",
            "32/32 [==============================] - 0s 1ms/step - loss: 0.6976 - accuracy: 0.4870\n",
            "Epoch 50/100\n",
            "32/32 [==============================] - 0s 1ms/step - loss: 0.6972 - accuracy: 0.4610\n",
            "Epoch 51/100\n",
            "32/32 [==============================] - 0s 2ms/step - loss: 0.6980 - accuracy: 0.4800\n",
            "Epoch 52/100\n",
            "32/32 [==============================] - 0s 1ms/step - loss: 0.6962 - accuracy: 0.5020\n",
            "Epoch 53/100\n",
            "32/32 [==============================] - 0s 1ms/step - loss: 0.6972 - accuracy: 0.4940\n",
            "Epoch 54/100\n",
            "32/32 [==============================] - 0s 1ms/step - loss: 0.6993 - accuracy: 0.5020\n",
            "Epoch 55/100\n",
            "32/32 [==============================] - 0s 1ms/step - loss: 0.6953 - accuracy: 0.5220\n",
            "Epoch 56/100\n",
            "32/32 [==============================] - 0s 1ms/step - loss: 0.6966 - accuracy: 0.4930\n",
            "Epoch 57/100\n",
            "32/32 [==============================] - 0s 1ms/step - loss: 0.6981 - accuracy: 0.4720\n",
            "Epoch 58/100\n",
            "32/32 [==============================] - 0s 2ms/step - loss: 0.6968 - accuracy: 0.4980\n",
            "Epoch 59/100\n",
            "32/32 [==============================] - 0s 1ms/step - loss: 0.7004 - accuracy: 0.4890\n",
            "Epoch 60/100\n",
            "32/32 [==============================] - 0s 1ms/step - loss: 0.7011 - accuracy: 0.4870\n",
            "Epoch 61/100\n",
            "32/32 [==============================] - 0s 1ms/step - loss: 0.6996 - accuracy: 0.4680\n",
            "Epoch 62/100\n",
            "32/32 [==============================] - 0s 1ms/step - loss: 0.6965 - accuracy: 0.4980\n",
            "Epoch 63/100\n",
            "32/32 [==============================] - 0s 2ms/step - loss: 0.6948 - accuracy: 0.4860\n",
            "Epoch 64/100\n",
            "32/32 [==============================] - 0s 1ms/step - loss: 0.6960 - accuracy: 0.4940\n",
            "Epoch 65/100\n",
            "32/32 [==============================] - 0s 2ms/step - loss: 0.6996 - accuracy: 0.4810\n",
            "Epoch 66/100\n",
            "32/32 [==============================] - 0s 2ms/step - loss: 0.6965 - accuracy: 0.5010\n",
            "Epoch 67/100\n",
            "32/32 [==============================] - 0s 2ms/step - loss: 0.6977 - accuracy: 0.4500\n",
            "Epoch 68/100\n",
            "32/32 [==============================] - 0s 2ms/step - loss: 0.6958 - accuracy: 0.5020\n",
            "Epoch 69/100\n",
            "32/32 [==============================] - 0s 1ms/step - loss: 0.6953 - accuracy: 0.5230\n",
            "Epoch 70/100\n",
            "32/32 [==============================] - 0s 2ms/step - loss: 0.6988 - accuracy: 0.4680\n",
            "Epoch 71/100\n",
            "32/32 [==============================] - 0s 1ms/step - loss: 0.6975 - accuracy: 0.4650\n",
            "Epoch 72/100\n",
            "32/32 [==============================] - 0s 1ms/step - loss: 0.6966 - accuracy: 0.5010\n",
            "Epoch 73/100\n",
            "32/32 [==============================] - 0s 2ms/step - loss: 0.6963 - accuracy: 0.4930\n",
            "Epoch 74/100\n",
            "32/32 [==============================] - 0s 1ms/step - loss: 0.6960 - accuracy: 0.5130\n",
            "Epoch 75/100\n",
            "32/32 [==============================] - 0s 1ms/step - loss: 0.6963 - accuracy: 0.4980\n",
            "Epoch 76/100\n",
            "32/32 [==============================] - 0s 1ms/step - loss: 0.6980 - accuracy: 0.4850\n",
            "Epoch 77/100\n",
            "32/32 [==============================] - 0s 1ms/step - loss: 0.6971 - accuracy: 0.5020\n",
            "Epoch 78/100\n",
            "32/32 [==============================] - 0s 1ms/step - loss: 0.6972 - accuracy: 0.4720\n",
            "Epoch 79/100\n",
            "32/32 [==============================] - 0s 2ms/step - loss: 0.7009 - accuracy: 0.5110\n",
            "Epoch 80/100\n",
            "32/32 [==============================] - 0s 2ms/step - loss: 0.6980 - accuracy: 0.4930\n",
            "Epoch 81/100\n",
            "32/32 [==============================] - 0s 1ms/step - loss: 0.6980 - accuracy: 0.5030\n",
            "Epoch 82/100\n",
            "32/32 [==============================] - 0s 1ms/step - loss: 0.6968 - accuracy: 0.4830\n",
            "Epoch 83/100\n",
            "32/32 [==============================] - 0s 2ms/step - loss: 0.7002 - accuracy: 0.4480\n",
            "Epoch 84/100\n",
            "32/32 [==============================] - 0s 1ms/step - loss: 0.6963 - accuracy: 0.4970\n",
            "Epoch 85/100\n",
            "32/32 [==============================] - 0s 1ms/step - loss: 0.6967 - accuracy: 0.4590\n",
            "Epoch 86/100\n",
            "32/32 [==============================] - 0s 1ms/step - loss: 0.7002 - accuracy: 0.4900\n",
            "Epoch 87/100\n",
            "32/32 [==============================] - 0s 2ms/step - loss: 0.6977 - accuracy: 0.4550\n",
            "Epoch 88/100\n",
            "32/32 [==============================] - 0s 2ms/step - loss: 0.6981 - accuracy: 0.4590\n",
            "Epoch 89/100\n",
            "32/32 [==============================] - 0s 2ms/step - loss: 0.6979 - accuracy: 0.4750\n",
            "Epoch 90/100\n",
            "32/32 [==============================] - 0s 1ms/step - loss: 0.6981 - accuracy: 0.4620\n",
            "Epoch 91/100\n",
            "32/32 [==============================] - 0s 2ms/step - loss: 0.6984 - accuracy: 0.4980\n",
            "Epoch 92/100\n",
            "32/32 [==============================] - 0s 1ms/step - loss: 0.6988 - accuracy: 0.4760\n",
            "Epoch 93/100\n",
            "32/32 [==============================] - 0s 1ms/step - loss: 0.6982 - accuracy: 0.4690\n",
            "Epoch 94/100\n",
            "32/32 [==============================] - 0s 1ms/step - loss: 0.7005 - accuracy: 0.4800\n",
            "Epoch 95/100\n",
            "32/32 [==============================] - 0s 2ms/step - loss: 0.6974 - accuracy: 0.4520\n",
            "Epoch 96/100\n",
            "32/32 [==============================] - 0s 1ms/step - loss: 0.6980 - accuracy: 0.4790\n",
            "Epoch 97/100\n",
            "32/32 [==============================] - 0s 1ms/step - loss: 0.6973 - accuracy: 0.4580\n",
            "Epoch 98/100\n",
            "32/32 [==============================] - 0s 1ms/step - loss: 0.6989 - accuracy: 0.4800\n",
            "Epoch 99/100\n",
            "32/32 [==============================] - 0s 2ms/step - loss: 0.6976 - accuracy: 0.5090\n",
            "Epoch 100/100\n",
            "32/32 [==============================] - 0s 1ms/step - loss: 0.6966 - accuracy: 0.4870\n"
          ],
          "name": "stdout"
        },
        {
          "output_type": "execute_result",
          "data": {
            "text/plain": [
              "<tensorflow.python.keras.callbacks.History at 0x7f349efd9990>"
            ]
          },
          "metadata": {
            "tags": []
          },
          "execution_count": 11
        }
      ]
    },
    {
      "cell_type": "markdown",
      "metadata": {
        "id": "dXTcR_LBLxrz"
      },
      "source": [
        "To visualize our model function lets create a function  `plot_decision_boundry` \n",
        "\n",
        "* Take in a trained model, features (X) and labels (y)\n",
        "\n",
        "*  Create a meshgrid of the different X values \n",
        "\n",
        "* Make  predictions across the mesh grid\n",
        "\n",
        "* Plot the predictions as well as a line between Zones (Where each unique class falls)"
      ]
    },
    {
      "cell_type": "code",
      "metadata": {
        "id": "fZHjbv9XASei"
      },
      "source": [
        "import numpy as np\n",
        "def plot_decision_boundary(model,X,y):\n",
        "  '''\n",
        "  Plots the decision boundry created by a model predicting on X\n",
        "  '''\n",
        "\n",
        "  # Define the axis boundaries of the plot and create a meshgrid\n",
        "\n",
        "  x_min, x_max = X[:, 0].min() - .1, X[:, 0].max() + .1\n",
        "  y_min, y_max = X[:, 1].min() - .1, X[:, 1].max() + .1\n",
        "  xx, yy = np.meshgrid(np.linspace(x_min, x_max, 100),\n",
        "                       np.linspace(y_min, y_max, 100))\n",
        "  \n",
        "  #Create X value (we're going to make predictions on these)\n",
        "\n",
        "  x_in = np.c_[xx.ravel(), yy.ravel()]  # stack 2d arrays together\n",
        "\n",
        "  # Make predictions\n",
        "  y_pred =model.predict(x_in)\n",
        "\n",
        "  # Check for multiclass \n",
        "  if len(y_pred[0])>1:\n",
        "    print(\"Doing multiclass classification\")\n",
        "    # we have to reshape our prediction to get them ready for plotting\n",
        "    y_pred =np.argmax(y_pred, axis=1).reshape(xx.shape)\n",
        "  else:\n",
        "    print(\"Doing Binary Classification\")\n",
        "    y_pred = np.round(y_pred).reshape(xx.shape)\n",
        "\n",
        "  #Plot the decision Boundary\n",
        "  plt.contourf(xx,yy,y_pred, cmap=plt.cm.RdYlBu, alpha = 0.7)\n",
        "  plt.scatter(X[:,0],X[:,1],c=y, s=40, cmap=plt.cm.RdYlBu)\n",
        "  plt.xlim(xx.min(), xx.max())\n",
        "  plt.ylim(yy.min(), yy.max())"
      ],
      "execution_count": null,
      "outputs": []
    },
    {
      "cell_type": "code",
      "metadata": {
        "colab": {
          "base_uri": "https://localhost:8080/",
          "height": 282
        },
        "id": "9XTcCmYKZmQp",
        "outputId": "11db81c2-6217-4dec-f0bb-84b348175a38"
      },
      "source": [
        "# Check out the predictions our model is  making\n",
        "plot_decision_boundary(model,X,y)"
      ],
      "execution_count": null,
      "outputs": [
        {
          "output_type": "stream",
          "text": [
            "Doing Binary Classification\n"
          ],
          "name": "stdout"
        },
        {
          "output_type": "display_data",
          "data": {
            "image/png": "[encoded data removed]",
            "text/plain": [
              "<Figure size 432x288 with 1 Axes>"
            ]
          },
          "metadata": {
            "tags": [],
            "needs_background": "light"
          }
        }
      ]
    },
    {
      "cell_type": "code",
      "metadata": {
        "id": "j88g3P_JZnRl"
      },
      "source": [
        "# lets see if our model can be used for a regression problem\n",
        "\n",
        "tf.random.set_seed(42)\n",
        "\n",
        "# Create some regression Data\n",
        "X_regression = tf.range(0, 1000, 5)\n",
        "y_regression = tf.range(100,1100,5)  #y=X+100"
      ],
      "execution_count": null,
      "outputs": []
    },
    {
      "cell_type": "code",
      "metadata": {
        "id": "744wYP5GZ5iu"
      },
      "source": [
        "# Split into train and test\n",
        "X_reg_train = X_regression[:150]\n",
        "X_reg_test =X_regression[150:]\n",
        "\n",
        "y_reg_train =y_regression[:150]\n",
        "y_reg_test =y_regression[150:]\n",
        "\n",
        "#Fit our model to the regression data\n",
        "##model.fit(X_reg_train, y_reg_train, epochs=100) won't work because loss is binary cross entropy"
      ],
      "execution_count": null,
      "outputs": []
    },
    {
      "cell_type": "markdown",
      "metadata": {
        "id": "4h3Iffy7llfp"
      },
      "source": [
        "## The missing piece: Non-linearity"
      ]
    },
    {
      "cell_type": "code",
      "metadata": {
        "colab": {
          "base_uri": "https://localhost:8080/"
        },
        "id": "lKoLOkw7ipWW",
        "outputId": "6dda0b86-72ba-48d6-bf63-e03c75384721"
      },
      "source": [
        "# time to replay multi layer NN from tensorflow playgroud \n",
        "\n",
        "tf.random.set_seed(42)\n",
        "\n",
        "#  Create  a model\n",
        "model_6 = tf.keras.Sequential([\n",
        "                               tf.keras.layers.Dense(4,activation='relu'),\n",
        "                               tf.keras.layers.Dense(4,activation='relu'),\n",
        "                               tf.keras.layers.Dense(1)\n",
        "                               \n",
        "])\n",
        "\n",
        "# Compile the model\n",
        "model_6.compile(loss=tf.keras.losses.BinaryCrossentropy(),\n",
        "                optimizer=tf.keras.optimizers.Adam(lr=.001),\n",
        "                metrics=['accuracy'])\n",
        "\n",
        "# fit the model\n",
        "model_6.fit(X,y,epochs=200,verbose=0)"
      ],
      "execution_count": null,
      "outputs": [
        {
          "output_type": "stream",
          "text": [
            "/usr/local/lib/python3.7/dist-packages/tensorflow/python/keras/optimizer_v2/optimizer_v2.py:375: UserWarning: The `lr` argument is deprecated, use `learning_rate` instead.\n",
            "  \"The `lr` argument is deprecated, use `learning_rate` instead.\")\n"
          ],
          "name": "stderr"
        },
        {
          "output_type": "execute_result",
          "data": {
            "text/plain": [
              "<tensorflow.python.keras.callbacks.History at 0x7f34a09a0550>"
            ]
          },
          "metadata": {
            "tags": []
          },
          "execution_count": 16
        }
      ]
    },
    {
      "cell_type": "code",
      "metadata": {
        "colab": {
          "base_uri": "https://localhost:8080/"
        },
        "id": "ooDmZcPclbdg",
        "outputId": "81b2a9ab-9635-4d47-85ac-4b86e1ffaba2"
      },
      "source": [
        "model_6.evaluate(X,y)"
      ],
      "execution_count": null,
      "outputs": [
        {
          "output_type": "stream",
          "text": [
            "32/32 [==============================] - 0s 1ms/step - loss: 7.7125 - accuracy: 0.5000\n"
          ],
          "name": "stdout"
        },
        {
          "output_type": "execute_result",
          "data": {
            "text/plain": [
              "[7.712474346160889, 0.5]"
            ]
          },
          "metadata": {
            "tags": []
          },
          "execution_count": 17
        }
      ]
    },
    {
      "cell_type": "code",
      "metadata": {
        "colab": {
          "base_uri": "https://localhost:8080/",
          "height": 282
        },
        "id": "0KvTlqlKtm2I",
        "outputId": "6a8d4d5d-5181-41dd-d4c2-c980768493c3"
      },
      "source": [
        "plot_decision_boundary(model_6,X,y)"
      ],
      "execution_count": null,
      "outputs": [
        {
          "output_type": "stream",
          "text": [
            "Doing Binary Classification\n"
          ],
          "name": "stdout"
        },
        {
          "output_type": "display_data",
          "data": {
            "image/png": "[encoded data removed]",
            "text/plain": [
              "<Figure size 432x288 with 1 Axes>"
            ]
          },
          "metadata": {
            "tags": [],
            "needs_background": "light"
          }
        }
      ]
    },
    {
      "cell_type": "code",
      "metadata": {
        "colab": {
          "base_uri": "https://localhost:8080/"
        },
        "id": "tqsaHSCNtsCe",
        "outputId": "5609fc61-ed1a-4535-a45b-e59622fd7cdd"
      },
      "source": [
        "# time to replay multi layer NN from tensorflow playgroud \n",
        "\n",
        "tf.random.set_seed(42)\n",
        "\n",
        "#  Create  a model\n",
        "model_7 = tf.keras.Sequential([\n",
        "                               tf.keras.layers.Dense(4,activation='relu'),\n",
        "                               tf.keras.layers.Dense(4,activation='relu'),\n",
        "                               tf.keras.layers.Dense(1,activation=tf.keras.activations.sigmoid)  #since binary if multi use softmax\n",
        "                               \n",
        "])\n",
        "\n",
        "# Compile the model\n",
        "model_7.compile(loss=tf.keras.losses.BinaryCrossentropy(),\n",
        "                optimizer=tf.keras.optimizers.Adam(lr=.001),\n",
        "                metrics=['accuracy'])\n",
        "\n",
        "# fit the model\n",
        "model_7.fit(X,y,epochs=200,verbose=0)"
      ],
      "execution_count": null,
      "outputs": [
        {
          "output_type": "stream",
          "text": [
            "/usr/local/lib/python3.7/dist-packages/tensorflow/python/keras/optimizer_v2/optimizer_v2.py:375: UserWarning: The `lr` argument is deprecated, use `learning_rate` instead.\n",
            "  \"The `lr` argument is deprecated, use `learning_rate` instead.\")\n"
          ],
          "name": "stderr"
        },
        {
          "output_type": "execute_result",
          "data": {
            "text/plain": [
              "<tensorflow.python.keras.callbacks.History at 0x7f34a003e3d0>"
            ]
          },
          "metadata": {
            "tags": []
          },
          "execution_count": 19
        }
      ]
    },
    {
      "cell_type": "code",
      "metadata": {
        "colab": {
          "base_uri": "https://localhost:8080/"
        },
        "id": "lrtGPW7Quo5y",
        "outputId": "811eae3e-93b5-4a54-8ca1-3d971cf65a87"
      },
      "source": [
        "model_7.evaluate(X,y)   # should be avoided evaluation on training data"
      ],
      "execution_count": null,
      "outputs": [
        {
          "output_type": "stream",
          "text": [
            "32/32 [==============================] - 0s 1ms/step - loss: 0.0690 - accuracy: 0.9930\n"
          ],
          "name": "stdout"
        },
        {
          "output_type": "execute_result",
          "data": {
            "text/plain": [
              "[0.06901048868894577, 0.9929999709129333]"
            ]
          },
          "metadata": {
            "tags": []
          },
          "execution_count": 20
        }
      ]
    },
    {
      "cell_type": "code",
      "metadata": {
        "colab": {
          "base_uri": "https://localhost:8080/",
          "height": 282
        },
        "id": "qGBfgDnBurr8",
        "outputId": "9a8e0a25-1899-4998-d14f-e54ce1cfe08a"
      },
      "source": [
        "plot_decision_boundary(model_7,X,y)"
      ],
      "execution_count": null,
      "outputs": [
        {
          "output_type": "stream",
          "text": [
            "Doing Binary Classification\n"
          ],
          "name": "stdout"
        },
        {
          "output_type": "display_data",
          "data": {
            "image/png": "[encoded data removed]",
            "text/plain": [
              "<Figure size 432x288 with 1 Axes>"
            ]
          },
          "metadata": {
            "tags": [],
            "needs_background": "light"
          }
        }
      ]
    },
    {
      "cell_type": "markdown",
      "metadata": {
        "id": "KsBmx4o3faj3"
      },
      "source": [
        "Now we've discussed the concept of linear and non linear lets see them in action"
      ]
    },
    {
      "cell_type": "code",
      "metadata": {
        "colab": {
          "base_uri": "https://localhost:8080/"
        },
        "id": "jndKVc3Iu58U",
        "outputId": "b4b6c846-7529-4274-d839-187c7e2dc314"
      },
      "source": [
        "# Create a toy tensor (similar to the data we pass into our model)\n",
        "A =tf.cast(tf.range(-10,10),tf.float32)\n",
        "A"
      ],
      "execution_count": null,
      "outputs": [
        {
          "output_type": "execute_result",
          "data": {
            "text/plain": [
              "<tf.Tensor: shape=(20,), dtype=float32, numpy=\n",
              "array([-10.,  -9.,  -8.,  -7.,  -6.,  -5.,  -4.,  -3.,  -2.,  -1.,   0.,\n",
              "         1.,   2.,   3.,   4.,   5.,   6.,   7.,   8.,   9.],\n",
              "      dtype=float32)>"
            ]
          },
          "metadata": {
            "tags": []
          },
          "execution_count": 22
        }
      ]
    },
    {
      "cell_type": "code",
      "metadata": {
        "colab": {
          "base_uri": "https://localhost:8080/",
          "height": 282
        },
        "id": "W8DOzqRQgCAP",
        "outputId": "5328f984-26bf-45e1-9935-dd00610d09fd"
      },
      "source": [
        "# Visualize our tensor\n",
        "plt.plot(A)"
      ],
      "execution_count": null,
      "outputs": [
        {
          "output_type": "execute_result",
          "data": {
            "text/plain": [
              "[<matplotlib.lines.Line2D at 0x7f34a01483d0>]"
            ]
          },
          "metadata": {
            "tags": []
          },
          "execution_count": 23
        },
        {
          "output_type": "display_data",
          "data": {
            "image/png": "[encoded data removed]",
            "text/plain": [
              "<Figure size 432x288 with 1 Axes>"
            ]
          },
          "metadata": {
            "tags": [],
            "needs_background": "light"
          }
        }
      ]
    },
    {
      "cell_type": "code",
      "metadata": {
        "id": "0jZMqP_fgMZG"
      },
      "source": [
        "# Lets  start by replicating sigmoid:- sigmoid(x)=1/(1+exp(-x))\n",
        "def sigmoid(x):\n",
        "  return 1/(1 + tf.exp(-x))"
      ],
      "execution_count": null,
      "outputs": []
    },
    {
      "cell_type": "code",
      "metadata": {
        "colab": {
          "base_uri": "https://localhost:8080/",
          "height": 282
        },
        "id": "CPy6aocBhE1e",
        "outputId": "8bb321b2-3fc1-4618-bef8-27e2dea6bf1c"
      },
      "source": [
        "#Use the sigmoid function on our toy tensor\n",
        "plt.plot(sigmoid(A))"
      ],
      "execution_count": null,
      "outputs": [
        {
          "output_type": "execute_result",
          "data": {
            "text/plain": [
              "[<matplotlib.lines.Line2D at 0x7f349f5d3250>]"
            ]
          },
          "metadata": {
            "tags": []
          },
          "execution_count": 25
        },
        {
          "output_type": "display_data",
          "data": {
            "image/png": "[encoded data removed]",
            "text/plain": [
              "<Figure size 432x288 with 1 Axes>"
            ]
          },
          "metadata": {
            "tags": [],
            "needs_background": "light"
          }
        }
      ]
    },
    {
      "cell_type": "code",
      "metadata": {
        "id": "RBBlgYyThNDr"
      },
      "source": [
        "# Lets create a relu function  relu(x) = max(0,x)\n",
        "def relu(x):\n",
        "  return tf.maximum(0,x)"
      ],
      "execution_count": null,
      "outputs": []
    },
    {
      "cell_type": "code",
      "metadata": {
        "colab": {
          "base_uri": "https://localhost:8080/",
          "height": 282
        },
        "id": "0OSzwzUyhpVZ",
        "outputId": "d9d6fd9c-1f46-40f3-b525-666a483f4b59"
      },
      "source": [
        "plt.plot(relu(A))"
      ],
      "execution_count": null,
      "outputs": [
        {
          "output_type": "execute_result",
          "data": {
            "text/plain": [
              "[<matplotlib.lines.Line2D at 0x7f349f5410d0>]"
            ]
          },
          "metadata": {
            "tags": []
          },
          "execution_count": 27
        },
        {
          "output_type": "display_data",
          "data": {
            "image/png": "[encoded data removed]",
            "text/plain": [
              "<Figure size 432x288 with 1 Axes>"
            ]
          },
          "metadata": {
            "tags": [],
            "needs_background": "light"
          }
        }
      ]
    },
    {
      "cell_type": "markdown",
      "metadata": {
        "id": "FqMKKMm3jjrx"
      },
      "source": [
        "# Evaluating and Improving our classification \n",
        "We've evaluated our model on train dataset which is not a good practice\n",
        "\n",
        "Lets create a test and train datasets"
      ]
    },
    {
      "cell_type": "code",
      "metadata": {
        "colab": {
          "base_uri": "https://localhost:8080/"
        },
        "id": "UBSP8B2nht3H",
        "outputId": "24fb98af-d19a-4d46-f7ec-502942835895"
      },
      "source": [
        "#Lets check number of samples\n",
        "len(X)"
      ],
      "execution_count": null,
      "outputs": [
        {
          "output_type": "execute_result",
          "data": {
            "text/plain": [
              "1000"
            ]
          },
          "metadata": {
            "tags": []
          },
          "execution_count": 28
        }
      ]
    },
    {
      "cell_type": "code",
      "metadata": {
        "colab": {
          "base_uri": "https://localhost:8080/"
        },
        "id": "8Nhi_xSno_62",
        "outputId": "23d01051-ff07-4674-8cca-ac7ab83b6c79"
      },
      "source": [
        "#Lets split into train and test(80-20)\n",
        "X_train, X_test, y_train, y_test  = X[:800], X[800:], y[:800], y[800:]\n",
        "X_train.shape, X_test.shape, y_train.shape, y_test.shape"
      ],
      "execution_count": null,
      "outputs": [
        {
          "output_type": "execute_result",
          "data": {
            "text/plain": [
              "((800, 2), (200, 2), (800,), (200,))"
            ]
          },
          "metadata": {
            "tags": []
          },
          "execution_count": 29
        }
      ]
    },
    {
      "cell_type": "code",
      "metadata": {
        "colab": {
          "base_uri": "https://localhost:8080/"
        },
        "id": "MM5LFxLJpTP8",
        "outputId": "03e1d0ca-9c62-4529-ab03-9880c73b9c90"
      },
      "source": [
        "# Lets  recreate a model and fit on training data and evaluate on test data\n",
        "\n",
        "# Set random seed\n",
        "tf.random.set_seed(42)\n",
        "# Create a model\n",
        "model_8 =tf.keras.Sequential([\n",
        "                              tf.keras.layers.Dense(4,activation='relu'),\n",
        "                              tf.keras.layers.Dense(4,activation='relu'),\n",
        "                              tf.keras.layers.Dense(1,activation='sigmoid')\n",
        "])\n",
        "\n",
        "# Compile the model\n",
        "model_8.compile(loss=tf.keras.losses.BinaryCrossentropy(),\n",
        "                optimizer=tf.keras.optimizers.Adam(lr=.01),\n",
        "                metrics=[\"accuracy\"])\n",
        "\n",
        "# Fit the model on training data\n",
        "history=model_8.fit(X_train,y_train,epochs=25)"
      ],
      "execution_count": null,
      "outputs": [
        {
          "output_type": "stream",
          "text": [
            "/usr/local/lib/python3.7/dist-packages/tensorflow/python/keras/optimizer_v2/optimizer_v2.py:375: UserWarning: The `lr` argument is deprecated, use `learning_rate` instead.\n",
            "  \"The `lr` argument is deprecated, use `learning_rate` instead.\")\n"
          ],
          "name": "stderr"
        },
        {
          "output_type": "stream",
          "text": [
            "Epoch 1/25\n",
            "25/25 [==============================] - 0s 1ms/step - loss: 0.6847 - accuracy: 0.5425\n",
            "Epoch 2/25\n",
            "25/25 [==============================] - 0s 1ms/step - loss: 0.6777 - accuracy: 0.5525\n",
            "Epoch 3/25\n",
            "25/25 [==============================] - 0s 2ms/step - loss: 0.6736 - accuracy: 0.5512\n",
            "Epoch 4/25\n",
            "25/25 [==============================] - 0s 1ms/step - loss: 0.6681 - accuracy: 0.5775\n",
            "Epoch 5/25\n",
            "25/25 [==============================] - 0s 1ms/step - loss: 0.6633 - accuracy: 0.5850\n",
            "Epoch 6/25\n",
            "25/25 [==============================] - 0s 1ms/step - loss: 0.6546 - accuracy: 0.5838\n",
            "Epoch 7/25\n",
            "25/25 [==============================] - 0s 1ms/step - loss: 0.6413 - accuracy: 0.6750\n",
            "Epoch 8/25\n",
            "25/25 [==============================] - 0s 2ms/step - loss: 0.6264 - accuracy: 0.7013\n",
            "Epoch 9/25\n",
            "25/25 [==============================] - 0s 1ms/step - loss: 0.6038 - accuracy: 0.7487\n",
            "Epoch 10/25\n",
            "25/25 [==============================] - 0s 1ms/step - loss: 0.5714 - accuracy: 0.7738\n",
            "Epoch 11/25\n",
            "25/25 [==============================] - 0s 1ms/step - loss: 0.5404 - accuracy: 0.7650\n",
            "Epoch 12/25\n",
            "25/25 [==============================] - 0s 1ms/step - loss: 0.5015 - accuracy: 0.7837\n",
            "Epoch 13/25\n",
            "25/25 [==============================] - 0s 1ms/step - loss: 0.4683 - accuracy: 0.7975\n",
            "Epoch 14/25\n",
            "25/25 [==============================] - 0s 1ms/step - loss: 0.4113 - accuracy: 0.8450\n",
            "Epoch 15/25\n",
            "25/25 [==============================] - 0s 1ms/step - loss: 0.3625 - accuracy: 0.9125\n",
            "Epoch 16/25\n",
            "25/25 [==============================] - 0s 1ms/step - loss: 0.3209 - accuracy: 0.9312\n",
            "Epoch 17/25\n",
            "25/25 [==============================] - 0s 1ms/step - loss: 0.2847 - accuracy: 0.9488\n",
            "Epoch 18/25\n",
            "25/25 [==============================] - 0s 1ms/step - loss: 0.2597 - accuracy: 0.9525\n",
            "Epoch 19/25\n",
            "25/25 [==============================] - 0s 1ms/step - loss: 0.2375 - accuracy: 0.9563\n",
            "Epoch 20/25\n",
            "25/25 [==============================] - 0s 1ms/step - loss: 0.2135 - accuracy: 0.9663\n",
            "Epoch 21/25\n",
            "25/25 [==============================] - 0s 1ms/step - loss: 0.1938 - accuracy: 0.9775\n",
            "Epoch 22/25\n",
            "25/25 [==============================] - 0s 2ms/step - loss: 0.1752 - accuracy: 0.9737\n",
            "Epoch 23/25\n",
            "25/25 [==============================] - 0s 1ms/step - loss: 0.1619 - accuracy: 0.9787\n",
            "Epoch 24/25\n",
            "25/25 [==============================] - 0s 2ms/step - loss: 0.1550 - accuracy: 0.9775\n",
            "Epoch 25/25\n",
            "25/25 [==============================] - 0s 2ms/step - loss: 0.1490 - accuracy: 0.9762\n"
          ],
          "name": "stdout"
        }
      ]
    },
    {
      "cell_type": "code",
      "metadata": {
        "colab": {
          "base_uri": "https://localhost:8080/",
          "height": 282
        },
        "id": "P1bOgarGr1HH",
        "outputId": "29dbac29-0de1-45e9-f6de-35b9f5fb15fb"
      },
      "source": [
        "# Plot the loss (train) curve\n",
        "pd.DataFrame(history.history).plot()"
      ],
      "execution_count": null,
      "outputs": [
        {
          "output_type": "execute_result",
          "data": {
            "text/plain": [
              "<matplotlib.axes._subplots.AxesSubplot at 0x7f349f529fd0>"
            ]
          },
          "metadata": {
            "tags": []
          },
          "execution_count": 31
        },
        {
          "output_type": "display_data",
          "data": {
            "image/png": "[encoded data removed]",
            "text/plain": [
              "<Figure size 432x288 with 1 Axes>"
            ]
          },
          "metadata": {
            "tags": [],
            "needs_background": "light"
          }
        }
      ]
    },
    {
      "cell_type": "code",
      "metadata": {
        "colab": {
          "base_uri": "https://localhost:8080/"
        },
        "id": "O23oG-hFpzKi",
        "outputId": "5af054f3-e125-4217-e864-ebf8b20a937b"
      },
      "source": [
        "#lets evaluate on test set\n",
        "model_8.evaluate(X_test,y_test)"
      ],
      "execution_count": null,
      "outputs": [
        {
          "output_type": "stream",
          "text": [
            "7/7 [==============================] - 0s 2ms/step - loss: 0.1247 - accuracy: 1.0000\n"
          ],
          "name": "stdout"
        },
        {
          "output_type": "execute_result",
          "data": {
            "text/plain": [
              "[0.1246885135769844, 1.0]"
            ]
          },
          "metadata": {
            "tags": []
          },
          "execution_count": 32
        }
      ]
    },
    {
      "cell_type": "code",
      "metadata": {
        "colab": {
          "base_uri": "https://localhost:8080/",
          "height": 424
        },
        "id": "7wx2T6DTq6f6",
        "outputId": "d090469a-915c-4bbd-fab6-de09998ab5d8"
      },
      "source": [
        "# Plot the decision Boundries for training and test set\n",
        "plt.figure(figsize=(12,6))\n",
        "plt.subplot(1,2,1)\n",
        "plt.title(\"Train\")\n",
        "plot_decision_boundary(model_8, X=X_train, y=y_train)\n",
        "plt.subplot(1,2,2)\n",
        "plt.title(\"Test\")\n",
        "plot_decision_boundary(model_8, X=X_test, y=y_test)"
      ],
      "execution_count": null,
      "outputs": [
        {
          "output_type": "stream",
          "text": [
            "Doing Binary Classification\n",
            "Doing Binary Classification\n"
          ],
          "name": "stdout"
        },
        {
          "output_type": "display_data",
          "data": {
            "image/png": "[encoded data removed]",
            "text/plain": [
              "<Figure size 864x432 with 2 Axes>"
            ]
          },
          "metadata": {
            "tags": [],
            "needs_background": "light"
          }
        }
      ]
    },
    {
      "cell_type": "markdown",
      "metadata": {
        "id": "3zUxvRh0Ft4p"
      },
      "source": [
        "# Finding the best learning rate\n",
        "\n",
        "To find the ideal learning rate  (the learning rate where the  loss decreases the most during training) we're going to use following steps:\n",
        "\n",
        "* A learning rate **callback** - you can think of a callback as an extra piece of functionality, you can add to your *while* its training.\n",
        "\n",
        "* Another model (we could use the same one as above but we're practicing building here)"
      ]
    },
    {
      "cell_type": "code",
      "metadata": {
        "colab": {
          "base_uri": "https://localhost:8080/"
        },
        "id": "ZmmWp0Yus1oS",
        "outputId": "b776c7c5-8164-46f9-9469-9ae912d432fb"
      },
      "source": [
        "# Set random seed\n",
        "tf.random.set_seed(42)\n",
        "\n",
        "# Create a model\n",
        "\n",
        "model_9 =tf.keras.Sequential([\n",
        "                              tf.keras.layers.Dense(4,activation='relu'),\n",
        "                              tf.keras.layers.Dense(4,activation='relu'),\n",
        "                              tf.keras.layers.Dense(1,activation='sigmoid')\n",
        "])\n",
        "\n",
        "# Compile the model\n",
        "model_9.compile(loss='binary_crossentropy',\n",
        "                optimizer='Adam',\n",
        "                metrics=['accuracy'])\n",
        "\n",
        "# Create a learning rate  callback\n",
        "lr_scheduler =tf.keras.callbacks.LearningRateScheduler(lambda epoch : 1e-4 * 10 **(epoch/20))\n",
        "\n",
        "# fit the model (passing lr_scheduler callback)\n",
        "history_9 =model_9.fit(X_train,y_train,\n",
        "                       epochs=100,\n",
        "                       callbacks=[lr_scheduler])\n",
        " "
      ],
      "execution_count": null,
      "outputs": [
        {
          "output_type": "stream",
          "text": [
            "Epoch 1/100\n",
            "25/25 [==============================] - 0s 1ms/step - loss: 0.6945 - accuracy: 0.4988\n",
            "Epoch 2/100\n",
            "25/25 [==============================] - 0s 1ms/step - loss: 0.6938 - accuracy: 0.4975\n",
            "Epoch 3/100\n",
            "25/25 [==============================] - 0s 1ms/step - loss: 0.6930 - accuracy: 0.4963\n",
            "Epoch 4/100\n",
            "25/25 [==============================] - 0s 1ms/step - loss: 0.6922 - accuracy: 0.4975\n",
            "Epoch 5/100\n",
            "25/25 [==============================] - 0s 2ms/step - loss: 0.6914 - accuracy: 0.5063\n",
            "Epoch 6/100\n",
            "25/25 [==============================] - 0s 1ms/step - loss: 0.6906 - accuracy: 0.5013\n",
            "Epoch 7/100\n",
            "25/25 [==============================] - 0s 1ms/step - loss: 0.6898 - accuracy: 0.4950\n",
            "Epoch 8/100\n",
            "25/25 [==============================] - 0s 1ms/step - loss: 0.6889 - accuracy: 0.5038\n",
            "Epoch 9/100\n",
            "25/25 [==============================] - 0s 1ms/step - loss: 0.6880 - accuracy: 0.5013\n",
            "Epoch 10/100\n",
            "25/25 [==============================] - 0s 1ms/step - loss: 0.6871 - accuracy: 0.5050\n",
            "Epoch 11/100\n",
            "25/25 [==============================] - 0s 1ms/step - loss: 0.6863 - accuracy: 0.5200\n",
            "Epoch 12/100\n",
            "25/25 [==============================] - 0s 1ms/step - loss: 0.6856 - accuracy: 0.5163\n",
            "Epoch 13/100\n",
            "25/25 [==============================] - 0s 1ms/step - loss: 0.6847 - accuracy: 0.5175\n",
            "Epoch 14/100\n",
            "25/25 [==============================] - 0s 1ms/step - loss: 0.6842 - accuracy: 0.5200\n",
            "Epoch 15/100\n",
            "25/25 [==============================] - 0s 1ms/step - loss: 0.6835 - accuracy: 0.5213\n",
            "Epoch 16/100\n",
            "25/25 [==============================] - 0s 1ms/step - loss: 0.6829 - accuracy: 0.5213\n",
            "Epoch 17/100\n",
            "25/25 [==============================] - 0s 1ms/step - loss: 0.6826 - accuracy: 0.5225\n",
            "Epoch 18/100\n",
            "25/25 [==============================] - 0s 1ms/step - loss: 0.6819 - accuracy: 0.5300\n",
            "Epoch 19/100\n",
            "25/25 [==============================] - 0s 1ms/step - loss: 0.6816 - accuracy: 0.5312\n",
            "Epoch 20/100\n",
            "25/25 [==============================] - 0s 1ms/step - loss: 0.6811 - accuracy: 0.5387\n",
            "Epoch 21/100\n",
            "25/25 [==============================] - 0s 1ms/step - loss: 0.6806 - accuracy: 0.5400\n",
            "Epoch 22/100\n",
            "25/25 [==============================] - 0s 1ms/step - loss: 0.6801 - accuracy: 0.5412\n",
            "Epoch 23/100\n",
            "25/25 [==============================] - 0s 1ms/step - loss: 0.6796 - accuracy: 0.5400\n",
            "Epoch 24/100\n",
            "25/25 [==============================] - 0s 1ms/step - loss: 0.6790 - accuracy: 0.5425\n",
            "Epoch 25/100\n",
            "25/25 [==============================] - 0s 1ms/step - loss: 0.6784 - accuracy: 0.5450\n",
            "Epoch 26/100\n",
            "25/25 [==============================] - 0s 1ms/step - loss: 0.6778 - accuracy: 0.5387\n",
            "Epoch 27/100\n",
            "25/25 [==============================] - 0s 2ms/step - loss: 0.6770 - accuracy: 0.5425\n",
            "Epoch 28/100\n",
            "25/25 [==============================] - 0s 1ms/step - loss: 0.6760 - accuracy: 0.5537\n",
            "Epoch 29/100\n",
            "25/25 [==============================] - 0s 1ms/step - loss: 0.6754 - accuracy: 0.5512\n",
            "Epoch 30/100\n",
            "25/25 [==============================] - 0s 2ms/step - loss: 0.6739 - accuracy: 0.5575\n",
            "Epoch 31/100\n",
            "25/25 [==============================] - 0s 1ms/step - loss: 0.6726 - accuracy: 0.5500\n",
            "Epoch 32/100\n",
            "25/25 [==============================] - 0s 2ms/step - loss: 0.6711 - accuracy: 0.5512\n",
            "Epoch 33/100\n",
            "25/25 [==============================] - 0s 1ms/step - loss: 0.6688 - accuracy: 0.5562\n",
            "Epoch 34/100\n",
            "25/25 [==============================] - 0s 1ms/step - loss: 0.6672 - accuracy: 0.5612\n",
            "Epoch 35/100\n",
            "25/25 [==============================] - 0s 1ms/step - loss: 0.6660 - accuracy: 0.5888\n",
            "Epoch 36/100\n",
            "25/25 [==============================] - 0s 1ms/step - loss: 0.6625 - accuracy: 0.5625\n",
            "Epoch 37/100\n",
            "25/25 [==============================] - 0s 1ms/step - loss: 0.6560 - accuracy: 0.5813\n",
            "Epoch 38/100\n",
            "25/25 [==============================] - 0s 1ms/step - loss: 0.6521 - accuracy: 0.6025\n",
            "Epoch 39/100\n",
            "25/25 [==============================] - 0s 1ms/step - loss: 0.6415 - accuracy: 0.7088\n",
            "Epoch 40/100\n",
            "25/25 [==============================] - 0s 1ms/step - loss: 0.6210 - accuracy: 0.7113\n",
            "Epoch 41/100\n",
            "25/25 [==============================] - 0s 2ms/step - loss: 0.5904 - accuracy: 0.7487\n",
            "Epoch 42/100\n",
            "25/25 [==============================] - 0s 1ms/step - loss: 0.5688 - accuracy: 0.7312\n",
            "Epoch 43/100\n",
            "25/25 [==============================] - 0s 1ms/step - loss: 0.5346 - accuracy: 0.7563\n",
            "Epoch 44/100\n",
            "25/25 [==============================] - 0s 2ms/step - loss: 0.4533 - accuracy: 0.8150\n",
            "Epoch 45/100\n",
            "25/25 [==============================] - 0s 1ms/step - loss: 0.3455 - accuracy: 0.9112\n",
            "Epoch 46/100\n",
            "25/25 [==============================] - 0s 1ms/step - loss: 0.2570 - accuracy: 0.9463\n",
            "Epoch 47/100\n",
            "25/25 [==============================] - 0s 1ms/step - loss: 0.1968 - accuracy: 0.9575\n",
            "Epoch 48/100\n",
            "25/25 [==============================] - 0s 1ms/step - loss: 0.1336 - accuracy: 0.9700\n",
            "Epoch 49/100\n",
            "25/25 [==============================] - 0s 2ms/step - loss: 0.1310 - accuracy: 0.9613\n",
            "Epoch 50/100\n",
            "25/25 [==============================] - 0s 1ms/step - loss: 0.1002 - accuracy: 0.9700\n",
            "Epoch 51/100\n",
            "25/25 [==============================] - 0s 1ms/step - loss: 0.1166 - accuracy: 0.9638\n",
            "Epoch 52/100\n",
            "25/25 [==============================] - 0s 1ms/step - loss: 0.1368 - accuracy: 0.9513\n",
            "Epoch 53/100\n",
            "25/25 [==============================] - 0s 1ms/step - loss: 0.0879 - accuracy: 0.9787\n",
            "Epoch 54/100\n",
            "25/25 [==============================] - 0s 1ms/step - loss: 0.1187 - accuracy: 0.9588\n",
            "Epoch 55/100\n",
            "25/25 [==============================] - 0s 1ms/step - loss: 0.0733 - accuracy: 0.9712\n",
            "Epoch 56/100\n",
            "25/25 [==============================] - 0s 2ms/step - loss: 0.1132 - accuracy: 0.9550\n",
            "Epoch 57/100\n",
            "25/25 [==============================] - 0s 1ms/step - loss: 0.1057 - accuracy: 0.9613\n",
            "Epoch 58/100\n",
            "25/25 [==============================] - 0s 1ms/step - loss: 0.0665 - accuracy: 0.9750\n",
            "Epoch 59/100\n",
            "25/25 [==============================] - 0s 1ms/step - loss: 0.1915 - accuracy: 0.9275\n",
            "Epoch 60/100\n",
            "25/25 [==============================] - 0s 1ms/step - loss: 0.1878 - accuracy: 0.9312\n",
            "Epoch 61/100\n",
            "25/25 [==============================] - 0s 2ms/step - loss: 0.4012 - accuracy: 0.8625\n",
            "Epoch 62/100\n",
            "25/25 [==============================] - 0s 1ms/step - loss: 0.1656 - accuracy: 0.9737\n",
            "Epoch 63/100\n",
            "25/25 [==============================] - 0s 1ms/step - loss: 0.0595 - accuracy: 0.9925\n",
            "Epoch 64/100\n",
            "25/25 [==============================] - 0s 1ms/step - loss: 0.0981 - accuracy: 0.9675\n",
            "Epoch 65/100\n",
            "25/25 [==============================] - 0s 1ms/step - loss: 0.0989 - accuracy: 0.9600\n",
            "Epoch 66/100\n",
            "25/25 [==============================] - 0s 1ms/step - loss: 0.2228 - accuracy: 0.9325\n",
            "Epoch 67/100\n",
            "25/25 [==============================] - 0s 1ms/step - loss: 0.3800 - accuracy: 0.8825\n",
            "Epoch 68/100\n",
            "25/25 [==============================] - 0s 1ms/step - loss: 0.0915 - accuracy: 0.9787\n",
            "Epoch 69/100\n",
            "25/25 [==============================] - 0s 1ms/step - loss: 0.1159 - accuracy: 0.9625\n",
            "Epoch 70/100\n",
            "25/25 [==============================] - 0s 1ms/step - loss: 0.3172 - accuracy: 0.8888\n",
            "Epoch 71/100\n",
            "25/25 [==============================] - 0s 2ms/step - loss: 0.1763 - accuracy: 0.9187\n",
            "Epoch 72/100\n",
            "25/25 [==============================] - 0s 1ms/step - loss: 0.1175 - accuracy: 0.9538\n",
            "Epoch 73/100\n",
            "25/25 [==============================] - 0s 1ms/step - loss: 0.2375 - accuracy: 0.9162\n",
            "Epoch 74/100\n",
            "25/25 [==============================] - 0s 1ms/step - loss: 0.1877 - accuracy: 0.9275\n",
            "Epoch 75/100\n",
            "25/25 [==============================] - 0s 2ms/step - loss: 0.1496 - accuracy: 0.9475\n",
            "Epoch 76/100\n",
            "25/25 [==============================] - 0s 1ms/step - loss: 0.1384 - accuracy: 0.9500\n",
            "Epoch 77/100\n",
            "25/25 [==============================] - 0s 1ms/step - loss: 0.2378 - accuracy: 0.8975\n",
            "Epoch 78/100\n",
            "25/25 [==============================] - 0s 1ms/step - loss: 0.5337 - accuracy: 0.7912\n",
            "Epoch 79/100\n",
            "25/25 [==============================] - 0s 1ms/step - loss: 0.6954 - accuracy: 0.6000\n",
            "Epoch 80/100\n",
            "25/25 [==============================] - 0s 1ms/step - loss: 0.6629 - accuracy: 0.6050\n",
            "Epoch 81/100\n",
            "25/25 [==============================] - 0s 1ms/step - loss: 0.7215 - accuracy: 0.4938\n",
            "Epoch 82/100\n",
            "25/25 [==============================] - 0s 1ms/step - loss: 0.7145 - accuracy: 0.5412\n",
            "Epoch 83/100\n",
            "25/25 [==============================] - 0s 1ms/step - loss: 0.7279 - accuracy: 0.4762\n",
            "Epoch 84/100\n",
            "25/25 [==============================] - 0s 1ms/step - loss: 0.7075 - accuracy: 0.5088\n",
            "Epoch 85/100\n",
            "25/25 [==============================] - 0s 1ms/step - loss: 0.7273 - accuracy: 0.5038\n",
            "Epoch 86/100\n",
            "25/25 [==============================] - 0s 1ms/step - loss: 0.7703 - accuracy: 0.5038\n",
            "Epoch 87/100\n",
            "25/25 [==============================] - 0s 1ms/step - loss: 0.7679 - accuracy: 0.5063\n",
            "Epoch 88/100\n",
            "25/25 [==============================] - 0s 1ms/step - loss: 0.7582 - accuracy: 0.5163\n",
            "Epoch 89/100\n",
            "25/25 [==============================] - 0s 1ms/step - loss: 0.7614 - accuracy: 0.5038\n",
            "Epoch 90/100\n",
            "25/25 [==============================] - 0s 1ms/step - loss: 0.7850 - accuracy: 0.5038\n",
            "Epoch 91/100\n",
            "25/25 [==============================] - 0s 1ms/step - loss: 0.8050 - accuracy: 0.5138\n",
            "Epoch 92/100\n",
            "25/25 [==============================] - 0s 2ms/step - loss: 0.7375 - accuracy: 0.4963\n",
            "Epoch 93/100\n",
            "25/25 [==============================] - 0s 2ms/step - loss: 0.7407 - accuracy: 0.4863\n",
            "Epoch 94/100\n",
            "25/25 [==============================] - 0s 1ms/step - loss: 0.7586 - accuracy: 0.4938\n",
            "Epoch 95/100\n",
            "25/25 [==============================] - 0s 1ms/step - loss: 0.8204 - accuracy: 0.4863\n",
            "Epoch 96/100\n",
            "25/25 [==============================] - 0s 1ms/step - loss: 0.7830 - accuracy: 0.4613\n",
            "Epoch 97/100\n",
            "25/25 [==============================] - 0s 1ms/step - loss: 0.8064 - accuracy: 0.5013\n",
            "Epoch 98/100\n",
            "25/25 [==============================] - 0s 1ms/step - loss: 0.9637 - accuracy: 0.4963\n",
            "Epoch 99/100\n",
            "25/25 [==============================] - 0s 1ms/step - loss: 0.9620 - accuracy: 0.4913\n",
            "Epoch 100/100\n",
            "25/25 [==============================] - 0s 1ms/step - loss: 0.8583 - accuracy: 0.4613\n"
          ],
          "name": "stdout"
        }
      ]
    },
    {
      "cell_type": "code",
      "metadata": {
        "colab": {
          "base_uri": "https://localhost:8080/",
          "height": 459
        },
        "id": "HxC4Gq73I2Xe",
        "outputId": "e74836a4-7276-4b2e-cd46-f989c55775d2"
      },
      "source": [
        "# Check the history\n",
        "pd.DataFrame(history_9.history).plot(figsize=(10,7), xlabel='epochs')"
      ],
      "execution_count": null,
      "outputs": [
        {
          "output_type": "execute_result",
          "data": {
            "text/plain": [
              "<matplotlib.axes._subplots.AxesSubplot at 0x7f34a108fa10>"
            ]
          },
          "metadata": {
            "tags": []
          },
          "execution_count": 35
        },
        {
          "output_type": "display_data",
          "data": {
            "image/png": "[encoded data removed]",
            "text/plain": [
              "<Figure size 720x504 with 1 Axes>"
            ]
          },
          "metadata": {
            "tags": [],
            "needs_background": "light"
          }
        }
      ]
    },
    {
      "cell_type": "code",
      "metadata": {
        "colab": {
          "base_uri": "https://localhost:8080/",
          "height": 479
        },
        "id": "SmnZ6tf2JXhf",
        "outputId": "b53fdead-1d07-40e5-b316-977ec06176b3"
      },
      "source": [
        "# plot learning rate vs Loss\n",
        "lrs = 1e-4 * (10**(tf.range(100)/20))\n",
        "plt.figure(figsize=(10,7))\n",
        "plt.semilogx(lrs,history_9.history[\"loss\"],label='loss')\n",
        "plt.semilogx(lrs,history_9.history[\"accuracy\"],label='accuracy')\n",
        "plt.legend()\n",
        "plt.xlabel(\"learning rate\")\n",
        "plt.ylabel(\"Loss\")\n",
        "plt.title(\"Learning rate vs Loss\")"
      ],
      "execution_count": null,
      "outputs": [
        {
          "output_type": "execute_result",
          "data": {
            "text/plain": [
              "Text(0.5, 1.0, 'Learning rate vs Loss')"
            ]
          },
          "metadata": {
            "tags": []
          },
          "execution_count": 36
        },
        {
          "output_type": "display_data",
          "data": {
            "image/png": "[encoded data removed]",
            "text/plain": [
              "<Figure size 720x504 with 1 Axes>"
            ]
          },
          "metadata": {
            "tags": [],
            "needs_background": "light"
          }
        }
      ]
    },
    {
      "cell_type": "code",
      "metadata": {
        "colab": {
          "base_uri": "https://localhost:8080/"
        },
        "id": "-8vU9pjmKBY7",
        "outputId": "922dffe2-0b80-4cdd-8bc7-edfbbcc27a7e"
      },
      "source": [
        "# Set random seed\n",
        "tf.random.set_seed(42)\n",
        "\n",
        "# Create a model\n",
        "\n",
        "model_9 =tf.keras.Sequential([\n",
        "                              tf.keras.layers.Dense(4,activation='relu'),\n",
        "                              tf.keras.layers.Dense(4,activation='relu'),\n",
        "                              tf.keras.layers.Dense(1,activation='sigmoid')\n",
        "])\n",
        "\n",
        "# Compile the model\n",
        "model_9.compile(loss='binary_crossentropy',\n",
        "                optimizer=tf.keras.optimizers.Adam(lr=.01),\n",
        "                metrics=['accuracy'])\n",
        "\n",
        "\n",
        "\n",
        "# fit the model (passing lr_scheduler callback)\n",
        "history_9 =model_9.fit(X_train,y_train,\n",
        "                       epochs=25)\n",
        " "
      ],
      "execution_count": null,
      "outputs": [
        {
          "output_type": "stream",
          "text": [
            "/usr/local/lib/python3.7/dist-packages/tensorflow/python/keras/optimizer_v2/optimizer_v2.py:375: UserWarning: The `lr` argument is deprecated, use `learning_rate` instead.\n",
            "  \"The `lr` argument is deprecated, use `learning_rate` instead.\")\n"
          ],
          "name": "stderr"
        },
        {
          "output_type": "stream",
          "text": [
            "Epoch 1/25\n",
            "25/25 [==============================] - 0s 1ms/step - loss: 0.6847 - accuracy: 0.5425\n",
            "Epoch 2/25\n",
            "25/25 [==============================] - 0s 1ms/step - loss: 0.6777 - accuracy: 0.5525\n",
            "Epoch 3/25\n",
            "25/25 [==============================] - 0s 1ms/step - loss: 0.6736 - accuracy: 0.5512\n",
            "Epoch 4/25\n",
            "25/25 [==============================] - 0s 1ms/step - loss: 0.6681 - accuracy: 0.5775\n",
            "Epoch 5/25\n",
            "25/25 [==============================] - 0s 1ms/step - loss: 0.6633 - accuracy: 0.5850\n",
            "Epoch 6/25\n",
            "25/25 [==============================] - 0s 1ms/step - loss: 0.6546 - accuracy: 0.5838\n",
            "Epoch 7/25\n",
            "25/25 [==============================] - 0s 1ms/step - loss: 0.6413 - accuracy: 0.6750\n",
            "Epoch 8/25\n",
            "25/25 [==============================] - 0s 1ms/step - loss: 0.6264 - accuracy: 0.7013\n",
            "Epoch 9/25\n",
            "25/25 [==============================] - 0s 1ms/step - loss: 0.6038 - accuracy: 0.7487\n",
            "Epoch 10/25\n",
            "25/25 [==============================] - 0s 1ms/step - loss: 0.5714 - accuracy: 0.7738\n",
            "Epoch 11/25\n",
            "25/25 [==============================] - 0s 1ms/step - loss: 0.5404 - accuracy: 0.7650\n",
            "Epoch 12/25\n",
            "25/25 [==============================] - 0s 1ms/step - loss: 0.5015 - accuracy: 0.7837\n",
            "Epoch 13/25\n",
            "25/25 [==============================] - 0s 1ms/step - loss: 0.4683 - accuracy: 0.7975\n",
            "Epoch 14/25\n",
            "25/25 [==============================] - 0s 1ms/step - loss: 0.4113 - accuracy: 0.8450\n",
            "Epoch 15/25\n",
            "25/25 [==============================] - 0s 1ms/step - loss: 0.3625 - accuracy: 0.9125\n",
            "Epoch 16/25\n",
            "25/25 [==============================] - 0s 1ms/step - loss: 0.3209 - accuracy: 0.9312\n",
            "Epoch 17/25\n",
            "25/25 [==============================] - 0s 2ms/step - loss: 0.2847 - accuracy: 0.9488\n",
            "Epoch 18/25\n",
            "25/25 [==============================] - 0s 1ms/step - loss: 0.2597 - accuracy: 0.9525\n",
            "Epoch 19/25\n",
            "25/25 [==============================] - 0s 1ms/step - loss: 0.2375 - accuracy: 0.9563\n",
            "Epoch 20/25\n",
            "25/25 [==============================] - 0s 1ms/step - loss: 0.2135 - accuracy: 0.9663\n",
            "Epoch 21/25\n",
            "25/25 [==============================] - 0s 1ms/step - loss: 0.1938 - accuracy: 0.9775\n",
            "Epoch 22/25\n",
            "25/25 [==============================] - 0s 1ms/step - loss: 0.1752 - accuracy: 0.9737\n",
            "Epoch 23/25\n",
            "25/25 [==============================] - 0s 1ms/step - loss: 0.1619 - accuracy: 0.9787\n",
            "Epoch 24/25\n",
            "25/25 [==============================] - 0s 1ms/step - loss: 0.1550 - accuracy: 0.9775\n",
            "Epoch 25/25\n",
            "25/25 [==============================] - 0s 1ms/step - loss: 0.1490 - accuracy: 0.9762\n"
          ],
          "name": "stdout"
        }
      ]
    },
    {
      "cell_type": "markdown",
      "metadata": {
        "id": "PAHTkSj_FHH1"
      },
      "source": [
        "## More Classification evaluation methods\n",
        "\n",
        "Alongside visualizing our models  results as much as possible, there are handful of other classification evaluation methods & metrics you should be familiar with:\n",
        "\n",
        "* Accuracy\n",
        "* Precision\n",
        "* Recall\n",
        "* F1-score\n",
        "* confusion matrix\n",
        "* Classification report (from scikit-learn)"
      ]
    },
    {
      "cell_type": "code",
      "metadata": {
        "colab": {
          "base_uri": "https://localhost:8080/"
        },
        "id": "88o9cSSxFGRF",
        "outputId": "7ee9dcd0-9751-4c52-ba61-766102fdfe88"
      },
      "source": [
        "# Check the accuracy of our model\n",
        "loss,accuracy = model_9.evaluate(X_test, y_test)\n",
        "print(f\"Model loss on test set:  {loss} \")\n",
        "print(f\"Model accuracy on test set: {(accuracy*100):.2f}%\")"
      ],
      "execution_count": null,
      "outputs": [
        {
          "output_type": "stream",
          "text": [
            "7/7 [==============================] - 0s 2ms/step - loss: 0.1247 - accuracy: 1.0000\n",
            "Model loss on test set:  0.1246885135769844 \n",
            "Model accuracy on test set: 100.00%\n"
          ],
          "name": "stdout"
        }
      ]
    },
    {
      "cell_type": "markdown",
      "metadata": {
        "id": "50POFT1ZHbHU"
      },
      "source": [
        "How about Confusion Matrix"
      ]
    },
    {
      "cell_type": "code",
      "metadata": {
        "id": "IlxwgsBCnAlQ",
        "colab": {
          "base_uri": "https://localhost:8080/",
          "height": 340
        },
        "outputId": "5abde1ed-e453-4c16-bfca-f66a5cfa04d9"
      },
      "source": [
        "# Create a confusion matrix\n",
        "from sklearn.metrics import confusion_matrix\n",
        "\n",
        "#Make predictions\n",
        "y_preds =model_9.predict(X_test)\n",
        "\n",
        "#Create Confusion matrix\n",
        "confusion_matrix(y_test,y_preds)"
      ],
      "execution_count": null,
      "outputs": [
        {
          "output_type": "error",
          "ename": "ValueError",
          "evalue": "ignored",
          "traceback": [
            "\u001b[0;31m---------------------------------------------------------------------------\u001b[0m",
            "\u001b[0;31mValueError\u001b[0m                                Traceback (most recent call last)",
            "\u001b[0;32m<ipython-input-43-bed3030739e2>\u001b[0m in \u001b[0;36m<module>\u001b[0;34m()\u001b[0m\n\u001b[1;32m      6\u001b[0m \u001b[0;34m\u001b[0m\u001b[0m\n\u001b[1;32m      7\u001b[0m \u001b[0;31m#Create Confusion matrix\u001b[0m\u001b[0;34m\u001b[0m\u001b[0;34m\u001b[0m\u001b[0;34m\u001b[0m\u001b[0m\n\u001b[0;32m----> 8\u001b[0;31m \u001b[0mconfusion_matrix\u001b[0m\u001b[0;34m(\u001b[0m\u001b[0my_test\u001b[0m\u001b[0;34m,\u001b[0m\u001b[0my_preds\u001b[0m\u001b[0;34m)\u001b[0m\u001b[0;34m\u001b[0m\u001b[0;34m\u001b[0m\u001b[0m\n\u001b[0m",
            "\u001b[0;32m/usr/local/lib/python3.7/dist-packages/sklearn/metrics/_classification.py\u001b[0m in \u001b[0;36mconfusion_matrix\u001b[0;34m(y_true, y_pred, labels, sample_weight, normalize)\u001b[0m\n\u001b[1;32m    266\u001b[0m \u001b[0;34m\u001b[0m\u001b[0m\n\u001b[1;32m    267\u001b[0m     \"\"\"\n\u001b[0;32m--> 268\u001b[0;31m     \u001b[0my_type\u001b[0m\u001b[0;34m,\u001b[0m \u001b[0my_true\u001b[0m\u001b[0;34m,\u001b[0m \u001b[0my_pred\u001b[0m \u001b[0;34m=\u001b[0m \u001b[0m_check_targets\u001b[0m\u001b[0;34m(\u001b[0m\u001b[0my_true\u001b[0m\u001b[0;34m,\u001b[0m \u001b[0my_pred\u001b[0m\u001b[0;34m)\u001b[0m\u001b[0;34m\u001b[0m\u001b[0;34m\u001b[0m\u001b[0m\n\u001b[0m\u001b[1;32m    269\u001b[0m     \u001b[0;32mif\u001b[0m \u001b[0my_type\u001b[0m \u001b[0;32mnot\u001b[0m \u001b[0;32min\u001b[0m \u001b[0;34m(\u001b[0m\u001b[0;34m\"binary\"\u001b[0m\u001b[0;34m,\u001b[0m \u001b[0;34m\"multiclass\"\u001b[0m\u001b[0;34m)\u001b[0m\u001b[0;34m:\u001b[0m\u001b[0;34m\u001b[0m\u001b[0;34m\u001b[0m\u001b[0m\n\u001b[1;32m    270\u001b[0m         \u001b[0;32mraise\u001b[0m \u001b[0mValueError\u001b[0m\u001b[0;34m(\u001b[0m\u001b[0;34m\"%s is not supported\"\u001b[0m \u001b[0;34m%\u001b[0m \u001b[0my_type\u001b[0m\u001b[0;34m)\u001b[0m\u001b[0;34m\u001b[0m\u001b[0;34m\u001b[0m\u001b[0m\n",
            "\u001b[0;32m/usr/local/lib/python3.7/dist-packages/sklearn/metrics/_classification.py\u001b[0m in \u001b[0;36m_check_targets\u001b[0;34m(y_true, y_pred)\u001b[0m\n\u001b[1;32m     88\u001b[0m     \u001b[0;32mif\u001b[0m \u001b[0mlen\u001b[0m\u001b[0;34m(\u001b[0m\u001b[0my_type\u001b[0m\u001b[0;34m)\u001b[0m \u001b[0;34m>\u001b[0m \u001b[0;36m1\u001b[0m\u001b[0;34m:\u001b[0m\u001b[0;34m\u001b[0m\u001b[0;34m\u001b[0m\u001b[0m\n\u001b[1;32m     89\u001b[0m         raise ValueError(\"Classification metrics can't handle a mix of {0} \"\n\u001b[0;32m---> 90\u001b[0;31m                          \"and {1} targets\".format(type_true, type_pred))\n\u001b[0m\u001b[1;32m     91\u001b[0m \u001b[0;34m\u001b[0m\u001b[0m\n\u001b[1;32m     92\u001b[0m     \u001b[0;31m# We can't have more than one value on y_type => The set is no more needed\u001b[0m\u001b[0;34m\u001b[0m\u001b[0;34m\u001b[0m\u001b[0;34m\u001b[0m\u001b[0m\n",
            "\u001b[0;31mValueError\u001b[0m: Classification metrics can't handle a mix of binary and continuous targets"
          ]
        }
      ]
    },
    {
      "cell_type": "code",
      "metadata": {
        "id": "LdPnnulzShD_",
        "colab": {
          "base_uri": "https://localhost:8080/"
        },
        "outputId": "f1f65141-60ad-41e6-a388-312bc86281fa"
      },
      "source": [
        "y_test[:10]"
      ],
      "execution_count": null,
      "outputs": [
        {
          "output_type": "execute_result",
          "data": {
            "text/plain": [
              "array([1, 1, 1, 1, 0, 0, 1, 0, 1, 0])"
            ]
          },
          "metadata": {
            "tags": []
          },
          "execution_count": 44
        }
      ]
    },
    {
      "cell_type": "code",
      "metadata": {
        "id": "0Nc08okQm8ut",
        "colab": {
          "base_uri": "https://localhost:8080/"
        },
        "outputId": "4537b419-de7c-499e-b5b7-b8ba5bb03ff4"
      },
      "source": [
        "y_preds[:10]  "
      ],
      "execution_count": null,
      "outputs": [
        {
          "output_type": "execute_result",
          "data": {
            "text/plain": [
              "array([[0.9247548 ],\n",
              "       [0.98626065],\n",
              "       [0.88418186],\n",
              "       [0.9023082 ],\n",
              "       [0.0598101 ],\n",
              "       [0.03474832],\n",
              "       [0.8333486 ],\n",
              "       [0.12145877],\n",
              "       [0.9885558 ],\n",
              "       [0.23215404]], dtype=float32)"
            ]
          },
          "metadata": {
            "tags": []
          },
          "execution_count": 45
        }
      ]
    },
    {
      "cell_type": "markdown",
      "metadata": {
        "id": "NagQKhPaNUz0"
      },
      "source": [
        "So our predictions array has come out in **prediction probabilty** form... the standard output from the  sigmoid (or softmax) activation function"
      ]
    },
    {
      "cell_type": "code",
      "metadata": {
        "id": "5PNNNuQXndfG",
        "colab": {
          "base_uri": "https://localhost:8080/"
        },
        "outputId": "f488b970-a7c1-42ee-d12a-605b0c26c506"
      },
      "source": [
        "# Convert our prediction probabilty to binary format and view the  first 10\n",
        "tf.round(y_preds)[:10]"
      ],
      "execution_count": null,
      "outputs": [
        {
          "output_type": "execute_result",
          "data": {
            "text/plain": [
              "<tf.Tensor: shape=(10, 1), dtype=float32, numpy=\n",
              "array([[1.],\n",
              "       [1.],\n",
              "       [1.],\n",
              "       [1.],\n",
              "       [0.],\n",
              "       [0.],\n",
              "       [1.],\n",
              "       [0.],\n",
              "       [1.],\n",
              "       [0.]], dtype=float32)>"
            ]
          },
          "metadata": {
            "tags": []
          },
          "execution_count": 46
        }
      ]
    },
    {
      "cell_type": "code",
      "metadata": {
        "id": "fMIQd-setGG-",
        "colab": {
          "base_uri": "https://localhost:8080/"
        },
        "outputId": "26ac489b-3199-456a-bfe0-0da8b0a590f4"
      },
      "source": [
        "# Create a confusion matrix\n",
        "confusion_matrix(y_test,tf.round(y_preds))"
      ],
      "execution_count": null,
      "outputs": [
        {
          "output_type": "execute_result",
          "data": {
            "text/plain": [
              "array([[101,   0],\n",
              "       [  0,  99]])"
            ]
          },
          "metadata": {
            "tags": []
          },
          "execution_count": 47
        }
      ]
    },
    {
      "cell_type": "markdown",
      "metadata": {
        "id": "ZFxv473AOqqa"
      },
      "source": [
        "How about we prettify our confusion matrix"
      ]
    },
    {
      "cell_type": "code",
      "metadata": {
        "id": "O1fySnsvuNWL",
        "colab": {
          "base_uri": "https://localhost:8080/",
          "height": 580
        },
        "outputId": "eb9c81b1-04d2-4894-a219-8d8f96a1a4fd"
      },
      "source": [
        "# Note: the confusion matrix code that we are about to write is a remix of plot confusion matrix of scikit-learn\n",
        "# https://github.com/scikit-learn/scikit-learn/blob/2beed5584/sklearn/metrics/_plot/confusion_matrix.py#L168\n",
        "\n",
        "import itertools\n",
        "figsize = (10,10)\n",
        "\n",
        "# create the confusion matrix \n",
        "cm = confusion_matrix(y_test,tf.round(y_preds))\n",
        "cm_norm = cm.astype(\"float\") / cm.sum(axis=1) [:,np.newaxis]   # normalize our confusion matrix\n",
        "n_classes = cm.shape[0]\n",
        "\n",
        "# Lets prettify it\n",
        "fig, ax = plt.subplots(figsize=figsize)\n",
        "# Create a matrix plot\n",
        "cax = ax.matshow(cm,cmap=plt.cm.Blues)\n",
        "fig.colorbar(cax)\n",
        "\n",
        "# Create  classes\n",
        "classes = False\n",
        "if classes:\n",
        "  labels = classes\n",
        "else:\n",
        "  labels =np.arange(cm.shape[0])\n",
        "\n",
        "# Label the axes\n",
        "\n",
        "ax.set(title='Confusion Matrix',\n",
        "       xlabel = 'Predicted Label',\n",
        "       ylabel = 'True Label',\n",
        "       xticks=np.arange(n_classes),\n",
        "       yticks=np.arange(n_classes),\n",
        "       xticklabels =labels,\n",
        "       yticklabels =labels)\n",
        "\n",
        "# set x-axis labels  to bottom\n",
        "ax.xaxis.set_label_position(\"bottom\")\n",
        "ax.xaxis.tick_bottom()\n",
        "\n",
        "#Adjust label size\n",
        "ax.yaxis.label.set_size(20)\n",
        "ax.xaxis.label.set_size(20)\n",
        "ax.title.set_size(20)\n",
        "\n",
        "# Set threshold for different color\n",
        "threshold = (cm.max() + cm.min())/2.\n",
        "\n",
        "# Plot text onn each cell\n",
        "for i,j in itertools.product(range(cm.shape[0]), range(cm.shape[1])):\n",
        "  plt.text(j,i,f\"{cm[i,j]} ({cm_norm[i,j]*100:.1f}%)\",\n",
        "           horizontalalignment ='center',\n",
        "           color=\"white\" if cm[i,j] > threshold else \"black\",\n",
        "           size=15)"
      ],
      "execution_count": null,
      "outputs": [
        {
          "output_type": "display_data",
          "data": {
            "image/png": "[encoded data removed]",
            "text/plain": [
              "<Figure size 720x720 with 2 Axes>"
            ]
          },
          "metadata": {
            "tags": [],
            "needs_background": "light"
          }
        }
      ]
    },
    {
      "cell_type": "markdown",
      "metadata": {
        "id": "vboHq2wofZXJ"
      },
      "source": [
        "# Working with a larger example (multiclass classification)\n",
        "\n",
        "When You have more than two classes as an option, it's known as **multi-class classification**\n",
        "\n",
        "To practice multi-class classification, we're going to build a neural network to classify images of different items of clothing.\n",
        "\n"
      ]
    },
    {
      "cell_type": "code",
      "metadata": {
        "id": "6JR25yNspBNo",
        "colab": {
          "base_uri": "https://localhost:8080/",
          "height": 163
        },
        "outputId": "658b1ca6-4837-4200-eeed-fa021bad0bea"
      },
      "source": [
        "import tensorflow as tf\n",
        "from tensorflow.keras.datasets import fashion_mnist"
      ],
      "execution_count": 56,
      "outputs": [
        {
          "output_type": "error",
          "ename": "NameError",
          "evalue": "ignored",
          "traceback": [
            "\u001b[0;31m---------------------------------------------------------------------------\u001b[0m",
            "\u001b[0;31mNameError\u001b[0m                                 Traceback (most recent call last)",
            "\u001b[0;32m<ipython-input-56-55375ec1ef73>\u001b[0m in \u001b[0;36m<module>\u001b[0;34m()\u001b[0m\n\u001b[0;32m----> 1\u001b[0;31m \u001b[0mjhsdjkfgds\u001b[0m\u001b[0;34m\u001b[0m\u001b[0;34m\u001b[0m\u001b[0m\n\u001b[0m",
            "\u001b[0;31mNameError\u001b[0m: name 'jhsdjkfgds' is not defined"
          ]
        }
      ]
    },
    {
      "cell_type": "code",
      "metadata": {
        "id": "owlkCm1kn48s"
      },
      "source": [
        ""
      ],
      "execution_count": null,
      "outputs": []
    },
    {
      "cell_type": "code",
      "metadata": {
        "id": "12GrmHX9o3F6"
      },
      "source": [
        ""
      ],
      "execution_count": null,
      "outputs": []
    },
    {
      "cell_type": "code",
      "metadata": {
        "id": "bDUFRlIcoBOB"
      },
      "source": [
        ""
      ],
      "execution_count": null,
      "outputs": []
    },
    {
      "cell_type": "code",
      "metadata": {
        "id": "Yz0CNAYyoEx2"
      },
      "source": [
        ""
      ],
      "execution_count": null,
      "outputs": []
    },
    {
      "cell_type": "code",
      "metadata": {
        "id": "tED9R5l5oH6n"
      },
      "source": [
        "\n"
      ],
      "execution_count": null,
      "outputs": []
    },
    {
      "cell_type": "code",
      "metadata": {
        "id": "CF45mE4roL_Q"
      },
      "source": [
        ""
      ],
      "execution_count": null,
      "outputs": []
    },
    {
      "cell_type": "code",
      "metadata": {
        "id": "Ixr_alIkoQff"
      },
      "source": [
        ""
      ],
      "execution_count": null,
      "outputs": []
    },
    {
      "cell_type": "code",
      "metadata": {
        "id": "xydj0OsWoTVa"
      },
      "source": [
        ""
      ],
      "execution_count": null,
      "outputs": []
    },
    {
      "cell_type": "code",
      "metadata": {
        "id": "pEdUoZIGoWvq"
      },
      "source": [
        ""
      ],
      "execution_count": null,
      "outputs": []
    },
    {
      "cell_type": "code",
      "metadata": {
        "id": "tmRY0gEwodsq"
      },
      "source": [
        ""
      ],
      "execution_count": null,
      "outputs": []
    },
    {
      "cell_type": "code",
      "metadata": {
        "id": "Tlbh_lDbq2wj"
      },
      "source": [
        ""
      ],
      "execution_count": null,
      "outputs": []
    },
    {
      "cell_type": "code",
      "metadata": {
        "id": "d9yi8kUmq7S1"
      },
      "source": [
        ""
      ],
      "execution_count": null,
      "outputs": []
    },
    {
      "cell_type": "code",
      "metadata": {
        "id": "vaaA2xd8q-mO"
      },
      "source": [
        ""
      ],
      "execution_count": null,
      "outputs": []
    }
  ]
}