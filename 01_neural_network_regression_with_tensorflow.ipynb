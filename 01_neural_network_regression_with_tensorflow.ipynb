{
  "nbformat": 4,
  "nbformat_minor": 0,
  "metadata": {
    "colab": {
      "name": "01_neural_network_regression_with_tensorflow.ipynb",
      "provenance": [],
      "mount_file_id": "1DttMhWOyUymJi5WQPra9kvIZYzMfdvPh",
      "authorship_tag": "ABX9TyMU4QPIR9bO3cghCW8GKw6M",
      "include_colab_link": true
    },
    "kernelspec": {
      "name": "python3",
      "display_name": "Python 3"
    },
    "language_info": {
      "name": "python"
    }
  },
  "cells": [
    {
      "cell_type": "markdown",
      "metadata": {
        "id": "view-in-github",
        "colab_type": "text"
      },
      "source": [
        "<a href=\"https://colab.research.google.com/github/enam007/TensorFlow/blob/main/01_neural_network_regression_with_tensorflow.ipynb\" target=\"_parent\"><img src=\"https://colab.research.google.com/assets/colab-badge.svg\" alt=\"Open In Colab\"/></a>"
      ]
    },
    {
      "cell_type": "markdown",
      "metadata": {
        "id": "ceEm2Ab31Lt-"
      },
      "source": [
        "# Introduction to Regression with Neural Networks in Tensorflow\n",
        "\n",
        "\n"
      ]
    },
    {
      "cell_type": "code",
      "metadata": {
        "colab": {
          "base_uri": "https://localhost:8080/"
        },
        "id": "cVMAuZRp1E_D",
        "outputId": "99d5458d-4313-4b6b-c8dd-930720999999"
      },
      "source": [
        "# Import tensorflow\n",
        "import tensorflow as tf\n",
        "print(tf.__version__)"
      ],
      "execution_count": null,
      "outputs": [
        {
          "output_type": "stream",
          "text": [
            "2.5.0\n"
          ],
          "name": "stdout"
        }
      ]
    },
    {
      "cell_type": "markdown",
      "metadata": {
        "id": "L92AcPOk64y9"
      },
      "source": [
        "## Creating Data to view and fit"
      ]
    },
    {
      "cell_type": "code",
      "metadata": {
        "colab": {
          "base_uri": "https://localhost:8080/",
          "height": 286
        },
        "id": "CmBBn1b66wDe",
        "outputId": "c8d47660-0ea5-4fbb-971b-b7ce0d8119c0"
      },
      "source": [
        "import numpy as np\n",
        "import matplotlib.pyplot as plt\n",
        "\n",
        "# Create features\n",
        "X = np.array([-7.,-4.,-1.,2.,5.,8.,11.,14.])\n",
        "# Create labels\n",
        "y= np.array([3.,6.,9.,12.,15,18,21,24])\n",
        "\n",
        "#Visualize it\n",
        "plt.scatter(X,y)"
      ],
      "execution_count": null,
      "outputs": [
        {
          "output_type": "execute_result",
          "data": {
            "text/plain": [
              "<matplotlib.collections.PathCollection at 0x7fa28abfdb50>"
            ]
          },
          "metadata": {
            "tags": []
          },
          "execution_count": 2
        },
        {
          "output_type": "display_data",
          "data": {
            "image/png": "[encoded data removed]",
            "text/plain": [
              "<Figure size 432x288 with 1 Axes>"
            ]
          },
          "metadata": {
            "tags": [],
            "needs_background": "light"
          }
        }
      ]
    },
    {
      "cell_type": "code",
      "metadata": {
        "colab": {
          "base_uri": "https://localhost:8080/"
        },
        "id": "2Qij26oD7ahr",
        "outputId": "99330246-b326-4d4b-a927-614faf143eba"
      },
      "source": [
        "y==X+10 #realtionship between X and Y"
      ],
      "execution_count": null,
      "outputs": [
        {
          "output_type": "execute_result",
          "data": {
            "text/plain": [
              "array([ True,  True,  True,  True,  True,  True,  True,  True])"
            ]
          },
          "metadata": {
            "tags": []
          },
          "execution_count": 3
        }
      ]
    },
    {
      "cell_type": "markdown",
      "metadata": {
        "id": "S-1EoqxA8XSf"
      },
      "source": [
        "## Input and output shapes"
      ]
    },
    {
      "cell_type": "code",
      "metadata": {
        "colab": {
          "base_uri": "https://localhost:8080/"
        },
        "id": "CB5UyOru8Mpx",
        "outputId": "77bfd71e-508f-4554-86ba-48e4bc6a8fe1"
      },
      "source": [
        "# Create  a demo tensor for our housing price prediction problem\n",
        "house_info = tf.constant([\"bedroom\",\"bathroom\",\"garage\"])\n",
        "house_price =tf.constant([939700])\n",
        "house_info, house_price"
      ],
      "execution_count": null,
      "outputs": [
        {
          "output_type": "execute_result",
          "data": {
            "text/plain": [
              "(<tf.Tensor: shape=(3,), dtype=string, numpy=array([b'bedroom', b'bathroom', b'garage'], dtype=object)>,\n",
              " <tf.Tensor: shape=(1,), dtype=int32, numpy=array([939700], dtype=int32)>)"
            ]
          },
          "metadata": {
            "tags": []
          },
          "execution_count": 4
        }
      ]
    },
    {
      "cell_type": "code",
      "metadata": {
        "id": "iN8OcOjZ9FBL",
        "colab": {
          "base_uri": "https://localhost:8080/"
        },
        "outputId": "6ec8f477-8b32-46d3-9503-5b6b53ea63d6"
      },
      "source": [
        "input_shape=X[0].shape\n",
        "output_shape =y[0].shape\n",
        "input_shape,output_shape   #The output is 0 because the numbers are scaler, therefore how do we build model for such shapes"
      ],
      "execution_count": null,
      "outputs": [
        {
          "output_type": "execute_result",
          "data": {
            "text/plain": [
              "((), ())"
            ]
          },
          "metadata": {
            "tags": []
          },
          "execution_count": 5
        }
      ]
    },
    {
      "cell_type": "code",
      "metadata": {
        "colab": {
          "base_uri": "https://localhost:8080/"
        },
        "id": "51E0aTNTTlY1",
        "outputId": "59a0ff48-be5d-41c8-a105-1fff8ae960d5"
      },
      "source": [
        "#Turn our Numpy arrays to tensor\n",
        "X = tf.constant(X)\n",
        "y = tf.constant(y)\n",
        "X,y"
      ],
      "execution_count": null,
      "outputs": [
        {
          "output_type": "execute_result",
          "data": {
            "text/plain": [
              "(<tf.Tensor: shape=(8,), dtype=float64, numpy=array([-7., -4., -1.,  2.,  5.,  8., 11., 14.])>,\n",
              " <tf.Tensor: shape=(8,), dtype=float64, numpy=array([ 3.,  6.,  9., 12., 15., 18., 21., 24.])>)"
            ]
          },
          "metadata": {
            "tags": []
          },
          "execution_count": 6
        }
      ]
    },
    {
      "cell_type": "code",
      "metadata": {
        "colab": {
          "base_uri": "https://localhost:8080/"
        },
        "id": "3ThZripBUy6F",
        "outputId": "062a9acf-b67d-4569-ca17-145ac5202cfb"
      },
      "source": [
        "input_shape = X[0].shape\n",
        "output_shape =y[0].shape\n",
        "input_shape,output_shape"
      ],
      "execution_count": null,
      "outputs": [
        {
          "output_type": "execute_result",
          "data": {
            "text/plain": [
              "(TensorShape([]), TensorShape([]))"
            ]
          },
          "metadata": {
            "tags": []
          },
          "execution_count": 7
        }
      ]
    },
    {
      "cell_type": "markdown",
      "metadata": {
        "id": "r8guJZ8oVXSq"
      },
      "source": [
        "## Steps in modelling with Tensorflow\n",
        "\n",
        "1. **Creating a model** - define the input and output layers as well as the hidden layers of a deep learning model\n",
        "2. **Compiling a model** - define the loss function ( in others words, the function which tells our model how wrong it is) and the optimizer (tells our model how to improve the patterns its learning) and evaluation metrics (what we can use intrepret the performance of our model).\n",
        "3. **Fitting a model** - letting the model try to find patterns between X & y (features and label)"
      ]
    },
    {
      "cell_type": "code",
      "metadata": {
        "colab": {
          "base_uri": "https://localhost:8080/"
        },
        "id": "WDp_COrrVBBY",
        "outputId": "08ed0c2c-6906-47eb-efbc-dcaae2cf73a7"
      },
      "source": [
        "# Set random seed\n",
        "tf.random.set_seed(42)\n",
        "\n",
        "# 1. Create a model using the Sequential API\n",
        "model = tf.keras.Sequential([\n",
        "     tf.keras.layers.Dense(1)                        \n",
        "])\n",
        "\n",
        "# 2. Compile the model \n",
        "model.compile(loss= tf.keras.losses.mae,                              #mae -mean absolute error\n",
        "              optimizer=tf.keras.optimizers.SGD(),\n",
        "              metrics=['mae'])\n",
        "\n",
        "# 3. Fit the model\n",
        "model.fit(X,y,epochs=5)"
      ],
      "execution_count": null,
      "outputs": [
        {
          "output_type": "stream",
          "text": [
            "Epoch 1/5\n",
            "1/1 [==============================] - 1s 561ms/step - loss: 11.5048 - mae: 11.5048\n",
            "Epoch 2/5\n",
            "1/1 [==============================] - 0s 8ms/step - loss: 11.3723 - mae: 11.3723\n",
            "Epoch 3/5\n",
            "1/1 [==============================] - 0s 9ms/step - loss: 11.2398 - mae: 11.2398\n",
            "Epoch 4/5\n",
            "1/1 [==============================] - 0s 5ms/step - loss: 11.1073 - mae: 11.1073\n",
            "Epoch 5/5\n",
            "1/1 [==============================] - 0s 4ms/step - loss: 10.9748 - mae: 10.9748\n"
          ],
          "name": "stdout"
        },
        {
          "output_type": "execute_result",
          "data": {
            "text/plain": [
              "<tensorflow.python.keras.callbacks.History at 0x7fa286e577d0>"
            ]
          },
          "metadata": {
            "tags": []
          },
          "execution_count": 8
        }
      ]
    },
    {
      "cell_type": "code",
      "metadata": {
        "colab": {
          "base_uri": "https://localhost:8080/"
        },
        "id": "V2I09q-levaK",
        "outputId": "4a6e7484-2305-4725-f42f-88cfab6864c0"
      },
      "source": [
        "# Check out X and y\n",
        "X,y"
      ],
      "execution_count": null,
      "outputs": [
        {
          "output_type": "execute_result",
          "data": {
            "text/plain": [
              "(<tf.Tensor: shape=(8,), dtype=float64, numpy=array([-7., -4., -1.,  2.,  5.,  8., 11., 14.])>,\n",
              " <tf.Tensor: shape=(8,), dtype=float64, numpy=array([ 3.,  6.,  9., 12., 15., 18., 21., 24.])>)"
            ]
          },
          "metadata": {
            "tags": []
          },
          "execution_count": 9
        }
      ]
    },
    {
      "cell_type": "code",
      "metadata": {
        "colab": {
          "base_uri": "https://localhost:8080/"
        },
        "id": "R55z1Prc1dSb",
        "outputId": "34b6a89c-e280-4961-c8a6-133b84bb44a1"
      },
      "source": [
        "# Try and make prdictions using model\n",
        "y_pred=model.predict([17.0])\n",
        "y_pred"
      ],
      "execution_count": null,
      "outputs": [
        {
          "output_type": "execute_result",
          "data": {
            "text/plain": [
              "array([[12.716021]], dtype=float32)"
            ]
          },
          "metadata": {
            "tags": []
          },
          "execution_count": 10
        }
      ]
    },
    {
      "cell_type": "markdown",
      "metadata": {
        "id": "fGyGtZ3V14vY"
      },
      "source": [
        "## Improve our model\n",
        "\n",
        "We can improve our model, by altering the steps we took to create a model\n",
        "\n",
        "1. **Creating a model** - here we might add more layers, increase the number of hidden units(also called neurons) within each of the hidden layers, change the activation function of each layer\n",
        "2. **Compiling a model** - here we might change the optimization function or perhaps the **learning  rate** of the optimization function\n",
        "3.**Fitting a model**- here we might fit a model for more **epochs** (leave it training for longer) or on more data (give model more example to learn from)."
      ]
    },
    {
      "cell_type": "code",
      "metadata": {
        "colab": {
          "base_uri": "https://localhost:8080/"
        },
        "id": "MAmpLJX_1pAz",
        "outputId": "61d1e459-73da-4b0a-facc-2a067fe16b07"
      },
      "source": [
        "# Lets rebuild our model (for epochs changes)\n",
        "# 1 . Create a model\n",
        "model =tf.keras.Sequential([\n",
        "        tf.keras.layers.Dense(1),\n",
        "\n",
        "])\n",
        "\n",
        "# 2.  Compile the model\n",
        "model.compile(loss = tf.keras.losses.mae,\n",
        "              optimizer= tf.keras.optimizers.SGD(),\n",
        "              metrics=[\"mae\"])\n",
        "# 3. Fit the model\n",
        "model.fit(X,y,epochs=105)\n"
      ],
      "execution_count": null,
      "outputs": [
        {
          "output_type": "stream",
          "text": [
            "Epoch 1/105\n",
            "1/1 [==============================] - 0s 293ms/step - loss: 11.2219 - mae: 11.2219\n",
            "Epoch 2/105\n",
            "1/1 [==============================] - 0s 4ms/step - loss: 11.0894 - mae: 11.0894\n",
            "Epoch 3/105\n",
            "1/1 [==============================] - 0s 6ms/step - loss: 10.9569 - mae: 10.9569\n",
            "Epoch 4/105\n",
            "1/1 [==============================] - 0s 5ms/step - loss: 10.8244 - mae: 10.8244\n",
            "Epoch 5/105\n",
            "1/1 [==============================] - 0s 11ms/step - loss: 10.6919 - mae: 10.6919\n",
            "Epoch 6/105\n",
            "1/1 [==============================] - 0s 5ms/step - loss: 10.5594 - mae: 10.5594\n",
            "Epoch 7/105\n",
            "1/1 [==============================] - 0s 5ms/step - loss: 10.4269 - mae: 10.4269\n",
            "Epoch 8/105\n",
            "1/1 [==============================] - 0s 6ms/step - loss: 10.2944 - mae: 10.2944\n",
            "Epoch 9/105\n",
            "1/1 [==============================] - 0s 6ms/step - loss: 10.1619 - mae: 10.1619\n",
            "Epoch 10/105\n",
            "1/1 [==============================] - 0s 5ms/step - loss: 10.0294 - mae: 10.0294\n",
            "Epoch 11/105\n",
            "1/1 [==============================] - 0s 5ms/step - loss: 9.8969 - mae: 9.8969\n",
            "Epoch 12/105\n",
            "1/1 [==============================] - 0s 7ms/step - loss: 9.7644 - mae: 9.7644\n",
            "Epoch 13/105\n",
            "1/1 [==============================] - 0s 4ms/step - loss: 9.6319 - mae: 9.6319\n",
            "Epoch 14/105\n",
            "1/1 [==============================] - 0s 4ms/step - loss: 9.4994 - mae: 9.4994\n",
            "Epoch 15/105\n",
            "1/1 [==============================] - 0s 7ms/step - loss: 9.3669 - mae: 9.3669\n",
            "Epoch 16/105\n",
            "1/1 [==============================] - 0s 5ms/step - loss: 9.2344 - mae: 9.2344\n",
            "Epoch 17/105\n",
            "1/1 [==============================] - 0s 5ms/step - loss: 9.1019 - mae: 9.1019\n",
            "Epoch 18/105\n",
            "1/1 [==============================] - 0s 12ms/step - loss: 8.9694 - mae: 8.9694\n",
            "Epoch 19/105\n",
            "1/1 [==============================] - 0s 4ms/step - loss: 8.8369 - mae: 8.8369\n",
            "Epoch 20/105\n",
            "1/1 [==============================] - 0s 5ms/step - loss: 8.7044 - mae: 8.7044\n",
            "Epoch 21/105\n",
            "1/1 [==============================] - 0s 6ms/step - loss: 8.5719 - mae: 8.5719\n",
            "Epoch 22/105\n",
            "1/1 [==============================] - 0s 4ms/step - loss: 8.4394 - mae: 8.4394\n",
            "Epoch 23/105\n",
            "1/1 [==============================] - 0s 5ms/step - loss: 8.3069 - mae: 8.3069\n",
            "Epoch 24/105\n",
            "1/1 [==============================] - 0s 5ms/step - loss: 8.1744 - mae: 8.1744\n",
            "Epoch 25/105\n",
            "1/1 [==============================] - 0s 5ms/step - loss: 8.0419 - mae: 8.0419\n",
            "Epoch 26/105\n",
            "1/1 [==============================] - 0s 5ms/step - loss: 7.9094 - mae: 7.9094\n",
            "Epoch 27/105\n",
            "1/1 [==============================] - 0s 5ms/step - loss: 7.7769 - mae: 7.7769\n",
            "Epoch 28/105\n",
            "1/1 [==============================] - 0s 6ms/step - loss: 7.6444 - mae: 7.6444\n",
            "Epoch 29/105\n",
            "1/1 [==============================] - 0s 8ms/step - loss: 7.5119 - mae: 7.5119\n",
            "Epoch 30/105\n",
            "1/1 [==============================] - 0s 6ms/step - loss: 7.3794 - mae: 7.3794\n",
            "Epoch 31/105\n",
            "1/1 [==============================] - 0s 6ms/step - loss: 7.2750 - mae: 7.2750\n",
            "Epoch 32/105\n",
            "1/1 [==============================] - 0s 6ms/step - loss: 7.2694 - mae: 7.2694\n",
            "Epoch 33/105\n",
            "1/1 [==============================] - 0s 8ms/step - loss: 7.2638 - mae: 7.2638\n",
            "Epoch 34/105\n",
            "1/1 [==============================] - 0s 7ms/step - loss: 7.2581 - mae: 7.2581\n",
            "Epoch 35/105\n",
            "1/1 [==============================] - 0s 9ms/step - loss: 7.2525 - mae: 7.2525\n",
            "Epoch 36/105\n",
            "1/1 [==============================] - 0s 5ms/step - loss: 7.2469 - mae: 7.2469\n",
            "Epoch 37/105\n",
            "1/1 [==============================] - 0s 4ms/step - loss: 7.2412 - mae: 7.2412\n",
            "Epoch 38/105\n",
            "1/1 [==============================] - 0s 6ms/step - loss: 7.2356 - mae: 7.2356\n",
            "Epoch 39/105\n",
            "1/1 [==============================] - 0s 7ms/step - loss: 7.2300 - mae: 7.2300\n",
            "Epoch 40/105\n",
            "1/1 [==============================] - 0s 7ms/step - loss: 7.2244 - mae: 7.2244\n",
            "Epoch 41/105\n",
            "1/1 [==============================] - 0s 7ms/step - loss: 7.2188 - mae: 7.2188\n",
            "Epoch 42/105\n",
            "1/1 [==============================] - 0s 5ms/step - loss: 7.2131 - mae: 7.2131\n",
            "Epoch 43/105\n",
            "1/1 [==============================] - 0s 6ms/step - loss: 7.2075 - mae: 7.2075\n",
            "Epoch 44/105\n",
            "1/1 [==============================] - 0s 6ms/step - loss: 7.2019 - mae: 7.2019\n",
            "Epoch 45/105\n",
            "1/1 [==============================] - 0s 8ms/step - loss: 7.1962 - mae: 7.1962\n",
            "Epoch 46/105\n",
            "1/1 [==============================] - 0s 9ms/step - loss: 7.1906 - mae: 7.1906\n",
            "Epoch 47/105\n",
            "1/1 [==============================] - 0s 4ms/step - loss: 7.1850 - mae: 7.1850\n",
            "Epoch 48/105\n",
            "1/1 [==============================] - 0s 6ms/step - loss: 7.1794 - mae: 7.1794\n",
            "Epoch 49/105\n",
            "1/1 [==============================] - 0s 7ms/step - loss: 7.1737 - mae: 7.1737\n",
            "Epoch 50/105\n",
            "1/1 [==============================] - 0s 6ms/step - loss: 7.1681 - mae: 7.1681\n",
            "Epoch 51/105\n",
            "1/1 [==============================] - 0s 5ms/step - loss: 7.1625 - mae: 7.1625\n",
            "Epoch 52/105\n",
            "1/1 [==============================] - 0s 7ms/step - loss: 7.1569 - mae: 7.1569\n",
            "Epoch 53/105\n",
            "1/1 [==============================] - 0s 7ms/step - loss: 7.1512 - mae: 7.1512\n",
            "Epoch 54/105\n",
            "1/1 [==============================] - 0s 7ms/step - loss: 7.1456 - mae: 7.1456\n",
            "Epoch 55/105\n",
            "1/1 [==============================] - 0s 7ms/step - loss: 7.1400 - mae: 7.1400\n",
            "Epoch 56/105\n",
            "1/1 [==============================] - 0s 5ms/step - loss: 7.1344 - mae: 7.1344\n",
            "Epoch 57/105\n",
            "1/1 [==============================] - 0s 9ms/step - loss: 7.1287 - mae: 7.1287\n",
            "Epoch 58/105\n",
            "1/1 [==============================] - 0s 5ms/step - loss: 7.1231 - mae: 7.1231\n",
            "Epoch 59/105\n",
            "1/1 [==============================] - 0s 4ms/step - loss: 7.1175 - mae: 7.1175\n",
            "Epoch 60/105\n",
            "1/1 [==============================] - 0s 7ms/step - loss: 7.1119 - mae: 7.1119\n",
            "Epoch 61/105\n",
            "1/1 [==============================] - 0s 7ms/step - loss: 7.1062 - mae: 7.1062\n",
            "Epoch 62/105\n",
            "1/1 [==============================] - 0s 5ms/step - loss: 7.1006 - mae: 7.1006\n",
            "Epoch 63/105\n",
            "1/1 [==============================] - 0s 8ms/step - loss: 7.0950 - mae: 7.0950\n",
            "Epoch 64/105\n",
            "1/1 [==============================] - 0s 7ms/step - loss: 7.0894 - mae: 7.0894\n",
            "Epoch 65/105\n",
            "1/1 [==============================] - 0s 4ms/step - loss: 7.0838 - mae: 7.0838\n",
            "Epoch 66/105\n",
            "1/1 [==============================] - 0s 8ms/step - loss: 7.0781 - mae: 7.0781\n",
            "Epoch 67/105\n",
            "1/1 [==============================] - 0s 6ms/step - loss: 7.0725 - mae: 7.0725\n",
            "Epoch 68/105\n",
            "1/1 [==============================] - 0s 7ms/step - loss: 7.0669 - mae: 7.0669\n",
            "Epoch 69/105\n",
            "1/1 [==============================] - 0s 4ms/step - loss: 7.0613 - mae: 7.0613\n",
            "Epoch 70/105\n",
            "1/1 [==============================] - 0s 11ms/step - loss: 7.0556 - mae: 7.0556\n",
            "Epoch 71/105\n",
            "1/1 [==============================] - 0s 4ms/step - loss: 7.0500 - mae: 7.0500\n",
            "Epoch 72/105\n",
            "1/1 [==============================] - 0s 4ms/step - loss: 7.0444 - mae: 7.0444\n",
            "Epoch 73/105\n",
            "1/1 [==============================] - 0s 6ms/step - loss: 7.0388 - mae: 7.0388\n",
            "Epoch 74/105\n",
            "1/1 [==============================] - 0s 6ms/step - loss: 7.0331 - mae: 7.0331\n",
            "Epoch 75/105\n",
            "1/1 [==============================] - 0s 6ms/step - loss: 7.0275 - mae: 7.0275\n",
            "Epoch 76/105\n",
            "1/1 [==============================] - 0s 6ms/step - loss: 7.0219 - mae: 7.0219\n",
            "Epoch 77/105\n",
            "1/1 [==============================] - 0s 4ms/step - loss: 7.0163 - mae: 7.0163\n",
            "Epoch 78/105\n",
            "1/1 [==============================] - 0s 7ms/step - loss: 7.0106 - mae: 7.0106\n",
            "Epoch 79/105\n",
            "1/1 [==============================] - 0s 5ms/step - loss: 7.0050 - mae: 7.0050\n",
            "Epoch 80/105\n",
            "1/1 [==============================] - 0s 6ms/step - loss: 6.9994 - mae: 6.9994\n",
            "Epoch 81/105\n",
            "1/1 [==============================] - 0s 6ms/step - loss: 6.9938 - mae: 6.9938\n",
            "Epoch 82/105\n",
            "1/1 [==============================] - 0s 9ms/step - loss: 6.9881 - mae: 6.9881\n",
            "Epoch 83/105\n",
            "1/1 [==============================] - 0s 5ms/step - loss: 6.9825 - mae: 6.9825\n",
            "Epoch 84/105\n",
            "1/1 [==============================] - 0s 7ms/step - loss: 6.9769 - mae: 6.9769\n",
            "Epoch 85/105\n",
            "1/1 [==============================] - 0s 6ms/step - loss: 6.9713 - mae: 6.9713\n",
            "Epoch 86/105\n",
            "1/1 [==============================] - 0s 11ms/step - loss: 6.9656 - mae: 6.9656\n",
            "Epoch 87/105\n",
            "1/1 [==============================] - 0s 11ms/step - loss: 6.9600 - mae: 6.9600\n",
            "Epoch 88/105\n",
            "1/1 [==============================] - 0s 5ms/step - loss: 6.9544 - mae: 6.9544\n",
            "Epoch 89/105\n",
            "1/1 [==============================] - 0s 10ms/step - loss: 6.9488 - mae: 6.9488\n",
            "Epoch 90/105\n",
            "1/1 [==============================] - 0s 5ms/step - loss: 6.9431 - mae: 6.9431\n",
            "Epoch 91/105\n",
            "1/1 [==============================] - 0s 6ms/step - loss: 6.9375 - mae: 6.9375\n",
            "Epoch 92/105\n",
            "1/1 [==============================] - 0s 5ms/step - loss: 6.9319 - mae: 6.9319\n",
            "Epoch 93/105\n",
            "1/1 [==============================] - 0s 7ms/step - loss: 6.9263 - mae: 6.9263\n",
            "Epoch 94/105\n",
            "1/1 [==============================] - 0s 8ms/step - loss: 6.9206 - mae: 6.9206\n",
            "Epoch 95/105\n",
            "1/1 [==============================] - 0s 4ms/step - loss: 6.9150 - mae: 6.9150\n",
            "Epoch 96/105\n",
            "1/1 [==============================] - 0s 7ms/step - loss: 6.9094 - mae: 6.9094\n",
            "Epoch 97/105\n",
            "1/1 [==============================] - 0s 4ms/step - loss: 6.9038 - mae: 6.9038\n",
            "Epoch 98/105\n",
            "1/1 [==============================] - 0s 8ms/step - loss: 6.8981 - mae: 6.8981\n",
            "Epoch 99/105\n",
            "1/1 [==============================] - 0s 11ms/step - loss: 6.8925 - mae: 6.8925\n",
            "Epoch 100/105\n",
            "1/1 [==============================] - 0s 4ms/step - loss: 6.8869 - mae: 6.8869\n",
            "Epoch 101/105\n",
            "1/1 [==============================] - 0s 5ms/step - loss: 6.8813 - mae: 6.8813\n",
            "Epoch 102/105\n",
            "1/1 [==============================] - 0s 7ms/step - loss: 6.8756 - mae: 6.8756\n",
            "Epoch 103/105\n",
            "1/1 [==============================] - 0s 9ms/step - loss: 6.8700 - mae: 6.8700\n",
            "Epoch 104/105\n",
            "1/1 [==============================] - 0s 4ms/step - loss: 6.8644 - mae: 6.8644\n",
            "Epoch 105/105\n",
            "1/1 [==============================] - 0s 4ms/step - loss: 6.8588 - mae: 6.8588\n"
          ],
          "name": "stdout"
        },
        {
          "output_type": "execute_result",
          "data": {
            "text/plain": [
              "<tensorflow.python.keras.callbacks.History at 0x7fa284c34f90>"
            ]
          },
          "metadata": {
            "tags": []
          },
          "execution_count": 11
        }
      ]
    },
    {
      "cell_type": "code",
      "metadata": {
        "colab": {
          "base_uri": "https://localhost:8080/"
        },
        "id": "1U4wVLqp6Irk",
        "outputId": "31d72f2d-ee13-4d58-8dd3-210b8085314e"
      },
      "source": [
        "X,y"
      ],
      "execution_count": null,
      "outputs": [
        {
          "output_type": "execute_result",
          "data": {
            "text/plain": [
              "(<tf.Tensor: shape=(8,), dtype=float64, numpy=array([-7., -4., -1.,  2.,  5.,  8., 11., 14.])>,\n",
              " <tf.Tensor: shape=(8,), dtype=float64, numpy=array([ 3.,  6.,  9., 12., 15., 18., 21., 24.])>)"
            ]
          },
          "metadata": {
            "tags": []
          },
          "execution_count": 12
        }
      ]
    },
    {
      "cell_type": "code",
      "metadata": {
        "colab": {
          "base_uri": "https://localhost:8080/"
        },
        "id": "u2_cRPZ16gA5",
        "outputId": "ac4323a2-6981-43c4-c2d1-bd4f98de8989"
      },
      "source": [
        "# Lets see if our model predictions has improved\n",
        "model.predict([17.0])"
      ],
      "execution_count": null,
      "outputs": [
        {
          "output_type": "execute_result",
          "data": {
            "text/plain": [
              "array([[29.777355]], dtype=float32)"
            ]
          },
          "metadata": {
            "tags": []
          },
          "execution_count": 13
        }
      ]
    },
    {
      "cell_type": "code",
      "metadata": {
        "colab": {
          "base_uri": "https://localhost:8080/"
        },
        "id": "kJVFTEZA6xZm",
        "outputId": "ce4af05b-dba5-4024-9a8f-12c9c957dc31"
      },
      "source": [
        "# Lets rebuild our model (for dense layer changes)\n",
        "# 1. Create a model\n",
        "model= tf.keras.Sequential([\n",
        "    tf.keras.layers.Dense(50,activation=None),\n",
        "    tf.keras.layers.Dense(1)                        \n",
        "])\n",
        "\n",
        "# 2. Compile a model\n",
        "\n",
        "model.compile(loss= tf.keras.losses.mae,\n",
        "              optimizer= tf.keras.optimizers.Adam(lr=.01),\n",
        "              metrics=(['mae']))\n",
        "\n",
        "# 3. Fit the model\n",
        "model.fit(X,y ,epochs=100)"
      ],
      "execution_count": null,
      "outputs": [
        {
          "output_type": "stream",
          "text": [
            "/usr/local/lib/python3.7/dist-packages/tensorflow/python/keras/optimizer_v2/optimizer_v2.py:375: UserWarning: The `lr` argument is deprecated, use `learning_rate` instead.\n",
            "  \"The `lr` argument is deprecated, use `learning_rate` instead.\")\n"
          ],
          "name": "stderr"
        },
        {
          "output_type": "stream",
          "text": [
            "Epoch 1/100\n",
            "1/1 [==============================] - 0s 409ms/step - loss: 11.7682 - mae: 11.7682\n",
            "Epoch 2/100\n",
            "1/1 [==============================] - 0s 9ms/step - loss: 11.0963 - mae: 11.0963\n",
            "Epoch 3/100\n",
            "1/1 [==============================] - 0s 4ms/step - loss: 10.4150 - mae: 10.4150\n",
            "Epoch 4/100\n",
            "1/1 [==============================] - 0s 6ms/step - loss: 9.7212 - mae: 9.7212\n",
            "Epoch 5/100\n",
            "1/1 [==============================] - 0s 4ms/step - loss: 9.0104 - mae: 9.0104\n",
            "Epoch 6/100\n",
            "1/1 [==============================] - 0s 5ms/step - loss: 8.2778 - mae: 8.2778\n",
            "Epoch 7/100\n",
            "1/1 [==============================] - 0s 9ms/step - loss: 7.5198 - mae: 7.5198\n",
            "Epoch 8/100\n",
            "1/1 [==============================] - 0s 11ms/step - loss: 6.9648 - mae: 6.9648\n",
            "Epoch 9/100\n",
            "1/1 [==============================] - 0s 6ms/step - loss: 7.0672 - mae: 7.0672\n",
            "Epoch 10/100\n",
            "1/1 [==============================] - 0s 6ms/step - loss: 7.3315 - mae: 7.3315\n",
            "Epoch 11/100\n",
            "1/1 [==============================] - 0s 7ms/step - loss: 7.4673 - mae: 7.4673\n",
            "Epoch 12/100\n",
            "1/1 [==============================] - 0s 5ms/step - loss: 7.5285 - mae: 7.5285\n",
            "Epoch 13/100\n",
            "1/1 [==============================] - 0s 5ms/step - loss: 7.4011 - mae: 7.4011\n",
            "Epoch 14/100\n",
            "1/1 [==============================] - 0s 7ms/step - loss: 7.1923 - mae: 7.1923\n",
            "Epoch 15/100\n",
            "1/1 [==============================] - 0s 6ms/step - loss: 6.9575 - mae: 6.9575\n",
            "Epoch 16/100\n",
            "1/1 [==============================] - 0s 6ms/step - loss: 6.6953 - mae: 6.6953\n",
            "Epoch 17/100\n",
            "1/1 [==============================] - 0s 8ms/step - loss: 6.4127 - mae: 6.4127\n",
            "Epoch 18/100\n",
            "1/1 [==============================] - 0s 6ms/step - loss: 6.3048 - mae: 6.3048\n",
            "Epoch 19/100\n",
            "1/1 [==============================] - 0s 7ms/step - loss: 6.2575 - mae: 6.2575\n",
            "Epoch 20/100\n",
            "1/1 [==============================] - 0s 8ms/step - loss: 6.3982 - mae: 6.3982\n",
            "Epoch 21/100\n",
            "1/1 [==============================] - 0s 4ms/step - loss: 6.4551 - mae: 6.4551\n",
            "Epoch 22/100\n",
            "1/1 [==============================] - 0s 4ms/step - loss: 6.4000 - mae: 6.4000\n",
            "Epoch 23/100\n",
            "1/1 [==============================] - 0s 5ms/step - loss: 6.2482 - mae: 6.2482\n",
            "Epoch 24/100\n",
            "1/1 [==============================] - 0s 5ms/step - loss: 6.0105 - mae: 6.0105\n",
            "Epoch 25/100\n",
            "1/1 [==============================] - 0s 9ms/step - loss: 5.7876 - mae: 5.7876\n",
            "Epoch 26/100\n",
            "1/1 [==============================] - 0s 4ms/step - loss: 5.6809 - mae: 5.6809\n",
            "Epoch 27/100\n",
            "1/1 [==============================] - 0s 5ms/step - loss: 5.5715 - mae: 5.5715\n",
            "Epoch 28/100\n",
            "1/1 [==============================] - 0s 5ms/step - loss: 5.6122 - mae: 5.6122\n",
            "Epoch 29/100\n",
            "1/1 [==============================] - 0s 5ms/step - loss: 5.6074 - mae: 5.6074\n",
            "Epoch 30/100\n",
            "1/1 [==============================] - 0s 5ms/step - loss: 5.5541 - mae: 5.5541\n",
            "Epoch 31/100\n",
            "1/1 [==============================] - 0s 9ms/step - loss: 5.4568 - mae: 5.4568\n",
            "Epoch 32/100\n",
            "1/1 [==============================] - 0s 5ms/step - loss: 5.3199 - mae: 5.3199\n",
            "Epoch 33/100\n",
            "1/1 [==============================] - 0s 7ms/step - loss: 5.1477 - mae: 5.1477\n",
            "Epoch 34/100\n",
            "1/1 [==============================] - 0s 7ms/step - loss: 4.9442 - mae: 4.9442\n",
            "Epoch 35/100\n",
            "1/1 [==============================] - 0s 7ms/step - loss: 4.8239 - mae: 4.8239\n",
            "Epoch 36/100\n",
            "1/1 [==============================] - 0s 5ms/step - loss: 4.7389 - mae: 4.7389\n",
            "Epoch 37/100\n",
            "1/1 [==============================] - 0s 7ms/step - loss: 4.6657 - mae: 4.6657\n",
            "Epoch 38/100\n",
            "1/1 [==============================] - 0s 6ms/step - loss: 4.5846 - mae: 4.5846\n",
            "Epoch 39/100\n",
            "1/1 [==============================] - 0s 11ms/step - loss: 4.4027 - mae: 4.4027\n",
            "Epoch 40/100\n",
            "1/1 [==============================] - 0s 5ms/step - loss: 4.2653 - mae: 4.2653\n",
            "Epoch 41/100\n",
            "1/1 [==============================] - 0s 5ms/step - loss: 4.1212 - mae: 4.1212\n",
            "Epoch 42/100\n",
            "1/1 [==============================] - 0s 5ms/step - loss: 3.9702 - mae: 3.9702\n",
            "Epoch 43/100\n",
            "1/1 [==============================] - 0s 8ms/step - loss: 3.8272 - mae: 3.8272\n",
            "Epoch 44/100\n",
            "1/1 [==============================] - 0s 5ms/step - loss: 3.7041 - mae: 3.7041\n",
            "Epoch 45/100\n",
            "1/1 [==============================] - 0s 8ms/step - loss: 3.5320 - mae: 3.5320\n",
            "Epoch 46/100\n",
            "1/1 [==============================] - 0s 8ms/step - loss: 3.3664 - mae: 3.3664\n",
            "Epoch 47/100\n",
            "1/1 [==============================] - 0s 9ms/step - loss: 3.2116 - mae: 3.2116\n",
            "Epoch 48/100\n",
            "1/1 [==============================] - 0s 10ms/step - loss: 3.0463 - mae: 3.0463\n",
            "Epoch 49/100\n",
            "1/1 [==============================] - 0s 7ms/step - loss: 2.8705 - mae: 2.8705\n",
            "Epoch 50/100\n",
            "1/1 [==============================] - 0s 7ms/step - loss: 2.6840 - mae: 2.6840\n",
            "Epoch 51/100\n",
            "1/1 [==============================] - 0s 5ms/step - loss: 2.4868 - mae: 2.4868\n",
            "Epoch 52/100\n",
            "1/1 [==============================] - 0s 6ms/step - loss: 2.2787 - mae: 2.2787\n",
            "Epoch 53/100\n",
            "1/1 [==============================] - 0s 6ms/step - loss: 2.0596 - mae: 2.0596\n",
            "Epoch 54/100\n",
            "1/1 [==============================] - 0s 7ms/step - loss: 1.8293 - mae: 1.8293\n",
            "Epoch 55/100\n",
            "1/1 [==============================] - 0s 12ms/step - loss: 1.5876 - mae: 1.5876\n",
            "Epoch 56/100\n",
            "1/1 [==============================] - 0s 17ms/step - loss: 1.3530 - mae: 1.3530\n",
            "Epoch 57/100\n",
            "1/1 [==============================] - 0s 25ms/step - loss: 1.0849 - mae: 1.0849\n",
            "Epoch 58/100\n",
            "1/1 [==============================] - 0s 10ms/step - loss: 0.8224 - mae: 0.8224\n",
            "Epoch 59/100\n",
            "1/1 [==============================] - 0s 9ms/step - loss: 0.5467 - mae: 0.5467\n",
            "Epoch 60/100\n",
            "1/1 [==============================] - 0s 8ms/step - loss: 0.2758 - mae: 0.2758\n",
            "Epoch 61/100\n",
            "1/1 [==============================] - 0s 8ms/step - loss: 0.1354 - mae: 0.1354\n",
            "Epoch 62/100\n",
            "1/1 [==============================] - 0s 7ms/step - loss: 0.4494 - mae: 0.4494\n",
            "Epoch 63/100\n",
            "1/1 [==============================] - 0s 14ms/step - loss: 0.6498 - mae: 0.6498\n",
            "Epoch 64/100\n",
            "1/1 [==============================] - 0s 16ms/step - loss: 0.6216 - mae: 0.6216\n",
            "Epoch 65/100\n",
            "1/1 [==============================] - 0s 19ms/step - loss: 0.8036 - mae: 0.8036\n",
            "Epoch 66/100\n",
            "1/1 [==============================] - 0s 6ms/step - loss: 0.7995 - mae: 0.7995\n",
            "Epoch 67/100\n",
            "1/1 [==============================] - 0s 7ms/step - loss: 0.7409 - mae: 0.7409\n",
            "Epoch 68/100\n",
            "1/1 [==============================] - 0s 12ms/step - loss: 0.7806 - mae: 0.7806\n",
            "Epoch 69/100\n",
            "1/1 [==============================] - 0s 5ms/step - loss: 0.6305 - mae: 0.6305\n",
            "Epoch 70/100\n",
            "1/1 [==============================] - 0s 5ms/step - loss: 0.5556 - mae: 0.5556\n",
            "Epoch 71/100\n",
            "1/1 [==============================] - 0s 4ms/step - loss: 0.4306 - mae: 0.4306\n",
            "Epoch 72/100\n",
            "1/1 [==============================] - 0s 8ms/step - loss: 0.2786 - mae: 0.2786\n",
            "Epoch 73/100\n",
            "1/1 [==============================] - 0s 4ms/step - loss: 0.1378 - mae: 0.1378\n",
            "Epoch 74/100\n",
            "1/1 [==============================] - 0s 7ms/step - loss: 0.1193 - mae: 0.1193\n",
            "Epoch 75/100\n",
            "1/1 [==============================] - 0s 10ms/step - loss: 0.2777 - mae: 0.2777\n",
            "Epoch 76/100\n",
            "1/1 [==============================] - 0s 5ms/step - loss: 0.3245 - mae: 0.3245\n",
            "Epoch 77/100\n",
            "1/1 [==============================] - 0s 6ms/step - loss: 0.4157 - mae: 0.4157\n",
            "Epoch 78/100\n",
            "1/1 [==============================] - 0s 9ms/step - loss: 0.4319 - mae: 0.4319\n",
            "Epoch 79/100\n",
            "1/1 [==============================] - 0s 4ms/step - loss: 0.3391 - mae: 0.3391\n",
            "Epoch 80/100\n",
            "1/1 [==============================] - 0s 6ms/step - loss: 0.2968 - mae: 0.2968\n",
            "Epoch 81/100\n",
            "1/1 [==============================] - 0s 5ms/step - loss: 0.2355 - mae: 0.2355\n",
            "Epoch 82/100\n",
            "1/1 [==============================] - 0s 15ms/step - loss: 0.1633 - mae: 0.1633\n",
            "Epoch 83/100\n",
            "1/1 [==============================] - 0s 7ms/step - loss: 0.1339 - mae: 0.1339\n",
            "Epoch 84/100\n",
            "1/1 [==============================] - 0s 4ms/step - loss: 0.1262 - mae: 0.1262\n",
            "Epoch 85/100\n",
            "1/1 [==============================] - 0s 10ms/step - loss: 0.1702 - mae: 0.1702\n",
            "Epoch 86/100\n",
            "1/1 [==============================] - 0s 5ms/step - loss: 0.2124 - mae: 0.2124\n",
            "Epoch 87/100\n",
            "1/1 [==============================] - 0s 4ms/step - loss: 0.2288 - mae: 0.2288\n",
            "Epoch 88/100\n",
            "1/1 [==============================] - 0s 8ms/step - loss: 0.1901 - mae: 0.1901\n",
            "Epoch 89/100\n",
            "1/1 [==============================] - 0s 4ms/step - loss: 0.1354 - mae: 0.1354\n",
            "Epoch 90/100\n",
            "1/1 [==============================] - 0s 7ms/step - loss: 0.1218 - mae: 0.1218\n",
            "Epoch 91/100\n",
            "1/1 [==============================] - 0s 4ms/step - loss: 0.0382 - mae: 0.0382\n",
            "Epoch 92/100\n",
            "1/1 [==============================] - 0s 6ms/step - loss: 0.2197 - mae: 0.2197\n",
            "Epoch 93/100\n",
            "1/1 [==============================] - 0s 11ms/step - loss: 0.2189 - mae: 0.2189\n",
            "Epoch 94/100\n",
            "1/1 [==============================] - 0s 20ms/step - loss: 0.1427 - mae: 0.1427\n",
            "Epoch 95/100\n",
            "1/1 [==============================] - 0s 7ms/step - loss: 0.1168 - mae: 0.1168\n",
            "Epoch 96/100\n",
            "1/1 [==============================] - 0s 11ms/step - loss: 0.2069 - mae: 0.2069\n",
            "Epoch 97/100\n",
            "1/1 [==============================] - 0s 5ms/step - loss: 0.1524 - mae: 0.1524\n",
            "Epoch 98/100\n",
            "1/1 [==============================] - 0s 9ms/step - loss: 0.2133 - mae: 0.2133\n",
            "Epoch 99/100\n",
            "1/1 [==============================] - 0s 5ms/step - loss: 0.2329 - mae: 0.2329\n",
            "Epoch 100/100\n",
            "1/1 [==============================] - 0s 6ms/step - loss: 0.0780 - mae: 0.0780\n"
          ],
          "name": "stdout"
        },
        {
          "output_type": "execute_result",
          "data": {
            "text/plain": [
              "<tensorflow.python.keras.callbacks.History at 0x7fa284360b10>"
            ]
          },
          "metadata": {
            "tags": []
          },
          "execution_count": 14
        }
      ]
    },
    {
      "cell_type": "code",
      "metadata": {
        "colab": {
          "base_uri": "https://localhost:8080/"
        },
        "id": "qGmIWIlbBSwh",
        "outputId": "7bdaf75a-e82a-4b78-b888-8fa073a38c7d"
      },
      "source": [
        "model.predict([20.0])"
      ],
      "execution_count": null,
      "outputs": [
        {
          "output_type": "execute_result",
          "data": {
            "text/plain": [
              "array([[29.501265]], dtype=float32)"
            ]
          },
          "metadata": {
            "tags": []
          },
          "execution_count": 15
        }
      ]
    },
    {
      "cell_type": "markdown",
      "metadata": {
        "id": "wbVi79GEGMkn"
      },
      "source": [
        "## Evaluating a model\n",
        " \n",
        "In practicing, a typical workflow you'll go through when building neural networks is:\n",
        "\n",
        "``` Build a model --> fit it ---> evaluate it --> tweak a model --> fit it ---> evaluate it....```\n",
        "\n",
        "When it comes to evaluation... there are 3 words you should memorize:\n",
        "> \"Visualize,visualize, Visualize\"\n",
        "\n",
        "its a good idea to visualize: \n",
        "\n",
        "*  **The data** -- what data are we working with? what does it look like?\n",
        "*  **The model itself** -- what does our model look like\n",
        "*  **The training of a model** -- how does a model perform while it learns?\n",
        "*  **The  prediction of model**-- how do the predictions of model line up against the ground truth (the original labels)?"
      ]
    },
    {
      "cell_type": "code",
      "metadata": {
        "colab": {
          "base_uri": "https://localhost:8080/"
        },
        "id": "8qFC1yuKB1-v",
        "outputId": "877c9ccb-5ce5-41e7-8bae-eeed80408618"
      },
      "source": [
        "# Make a bigger data\n",
        "X= tf.range(-100,100,4)\n",
        "X\n"
      ],
      "execution_count": null,
      "outputs": [
        {
          "output_type": "execute_result",
          "data": {
            "text/plain": [
              "<tf.Tensor: shape=(50,), dtype=int32, numpy=\n",
              "array([-100,  -96,  -92,  -88,  -84,  -80,  -76,  -72,  -68,  -64,  -60,\n",
              "        -56,  -52,  -48,  -44,  -40,  -36,  -32,  -28,  -24,  -20,  -16,\n",
              "        -12,   -8,   -4,    0,    4,    8,   12,   16,   20,   24,   28,\n",
              "         32,   36,   40,   44,   48,   52,   56,   60,   64,   68,   72,\n",
              "         76,   80,   84,   88,   92,   96], dtype=int32)>"
            ]
          },
          "metadata": {
            "tags": []
          },
          "execution_count": 16
        }
      ]
    },
    {
      "cell_type": "code",
      "metadata": {
        "colab": {
          "base_uri": "https://localhost:8080/"
        },
        "id": "h72uEwkloJ_z",
        "outputId": "9d421b38-691f-484d-a98a-b4b599f6c03e"
      },
      "source": [
        "# Make labels  for the dataset\n",
        "y= X+10\n",
        "y"
      ],
      "execution_count": null,
      "outputs": [
        {
          "output_type": "execute_result",
          "data": {
            "text/plain": [
              "<tf.Tensor: shape=(50,), dtype=int32, numpy=\n",
              "array([-90, -86, -82, -78, -74, -70, -66, -62, -58, -54, -50, -46, -42,\n",
              "       -38, -34, -30, -26, -22, -18, -14, -10,  -6,  -2,   2,   6,  10,\n",
              "        14,  18,  22,  26,  30,  34,  38,  42,  46,  50,  54,  58,  62,\n",
              "        66,  70,  74,  78,  82,  86,  90,  94,  98, 102, 106], dtype=int32)>"
            ]
          },
          "metadata": {
            "tags": []
          },
          "execution_count": 17
        }
      ]
    },
    {
      "cell_type": "code",
      "metadata": {
        "colab": {
          "base_uri": "https://localhost:8080/",
          "height": 282
        },
        "id": "Qc470lbuoToQ",
        "outputId": "1d62eaf9-cd0d-4761-b380-48761193f9e8"
      },
      "source": [
        "import matplotlib.pyplot as plt\n",
        "plt.scatter(X,y)"
      ],
      "execution_count": null,
      "outputs": [
        {
          "output_type": "execute_result",
          "data": {
            "text/plain": [
              "<matplotlib.collections.PathCollection at 0x7fa2865e1890>"
            ]
          },
          "metadata": {
            "tags": []
          },
          "execution_count": 18
        },
        {
          "output_type": "display_data",
          "data": {
            "image/png": "[encoded data removed]",
            "text/plain": [
              "<Figure size 432x288 with 1 Axes>"
            ]
          },
          "metadata": {
            "tags": [],
            "needs_background": "light"
          }
        }
      ]
    },
    {
      "cell_type": "markdown",
      "metadata": {
        "id": "i4JYrVMXo3Io"
      },
      "source": [
        "### The 3 sets...\n",
        "\n",
        "* **Training sets** - the model learns from this data, which is typically 70-80% of the total data you have available.\n",
        "*  **Validation set** - the model gets tuned on this data,Which is 10-15% of the data available\n",
        "*  **Test set** - the model gets evaluated on this data to test what it has learned, this set is typically 10-15% of the data available.,"
      ]
    },
    {
      "cell_type": "code",
      "metadata": {
        "colab": {
          "base_uri": "https://localhost:8080/"
        },
        "id": "8V0kBweEoqTg",
        "outputId": "98f36008-dd55-44f6-f940-f7c4bb6b27ae"
      },
      "source": [
        "# Check the length of how many samples we have\n",
        "len(X)"
      ],
      "execution_count": null,
      "outputs": [
        {
          "output_type": "execute_result",
          "data": {
            "text/plain": [
              "50"
            ]
          },
          "metadata": {
            "tags": []
          },
          "execution_count": 19
        }
      ]
    },
    {
      "cell_type": "code",
      "metadata": {
        "colab": {
          "base_uri": "https://localhost:8080/"
        },
        "id": "zN7lDp_nxtxk",
        "outputId": "882a2ab6-b2f2-4849-db5a-1510473bafc3"
      },
      "source": [
        "# Split the data in train and test set\n",
        "X_train = X[:40]  #first 40 are training samples  (80% of the data)\n",
        "y_train  =y[:40]\n",
        "\n",
        "X_test  =X[40:]   #last 10 are test samples (20% of the data)\n",
        "y_test =y[40:]\n",
        "\n",
        "len(X_train),len(X_test),len(y_train),len(y_test)"
      ],
      "execution_count": null,
      "outputs": [
        {
          "output_type": "execute_result",
          "data": {
            "text/plain": [
              "(40, 10, 40, 10)"
            ]
          },
          "metadata": {
            "tags": []
          },
          "execution_count": 20
        }
      ]
    },
    {
      "cell_type": "markdown",
      "metadata": {
        "id": "tpDSprW_5vp-"
      },
      "source": [
        "### Visualize the data \n",
        "\n",
        "Now we have got our data in training and test sets ...lets visualize it again!"
      ]
    },
    {
      "cell_type": "code",
      "metadata": {
        "colab": {
          "base_uri": "https://localhost:8080/",
          "height": 445
        },
        "id": "qQg-7_rc5hGz",
        "outputId": "384086c7-4783-4c92-c0d4-75eaef2986f6"
      },
      "source": [
        "plt.figure(figsize=(10,7))\n",
        "# plot training  data in blue\n",
        "plt.scatter(X_train,y_train,c='b',label ='Training data')\n",
        "\n",
        "#plot test data in green\n",
        "plt.scatter(X_test,y_test,c='r',label =\"Test data\")\n",
        "#Show a legend\n",
        "plt.legend()"
      ],
      "execution_count": null,
      "outputs": [
        {
          "output_type": "execute_result",
          "data": {
            "text/plain": [
              "<matplotlib.legend.Legend at 0x7fa281cdcad0>"
            ]
          },
          "metadata": {
            "tags": []
          },
          "execution_count": 21
        },
        {
          "output_type": "display_data",
          "data": {
            "image/png": "[encoded data removed]",
            "text/plain": [
              "<Figure size 720x504 with 1 Axes>"
            ]
          },
          "metadata": {
            "tags": [],
            "needs_background": "light"
          }
        }
      ]
    },
    {
      "cell_type": "code",
      "metadata": {
        "id": "qBgCEHOf6Fx1"
      },
      "source": [
        "# lets create a neural network for our data\n",
        "# 1. Create a model\n",
        "model=tf.keras.Sequential([\n",
        "    tf.keras.layers.Dense(1)                       \n",
        "])\n",
        "\n",
        "#2. compile model\n",
        "model.compile(loss=tf.keras.losses.mae,\n",
        "              optimizer = tf.keras.optimizers.SGD(),\n",
        "              metrics=['mae']\n",
        "              )\n",
        "# Fit the model on training data\n",
        "#model.fit(X_train,y_train,epochs=100)"
      ],
      "execution_count": null,
      "outputs": []
    },
    {
      "cell_type": "code",
      "metadata": {
        "id": "GtOTyGQ-8wZs"
      },
      "source": [
        "# lets create a model which builds automatically by defining the input_shape argument in the first layer\n",
        "tf.random.set_seed(42)\n",
        "\n",
        "#create a model\n",
        "model=tf.keras.Sequential([\n",
        "                          tf.keras.layers.Dense(10,input_shape=[1]),\n",
        "                           tf.keras.layers.Dense(1)\n",
        "])\n",
        "\n",
        "#Compile model\n",
        "model.compile(loss=tf.keras.losses.mae,\n",
        "              optimizer=tf.keras.optimizers.SGD(),\n",
        "              metrics=['mae'])\n"
      ],
      "execution_count": null,
      "outputs": []
    },
    {
      "cell_type": "code",
      "metadata": {
        "colab": {
          "base_uri": "https://localhost:8080/"
        },
        "id": "XtSNSLo7-DMr",
        "outputId": "57f6b3b8-653f-4b6a-ae47-d4923f4b06b0"
      },
      "source": [
        "model.summary()"
      ],
      "execution_count": null,
      "outputs": [
        {
          "output_type": "stream",
          "text": [
            "Model: \"sequential_4\"\n",
            "_________________________________________________________________\n",
            "Layer (type)                 Output Shape              Param #   \n",
            "=================================================================\n",
            "dense_5 (Dense)              (None, 10)                20        \n",
            "_________________________________________________________________\n",
            "dense_6 (Dense)              (None, 1)                 11        \n",
            "=================================================================\n",
            "Total params: 31\n",
            "Trainable params: 31\n",
            "Non-trainable params: 0\n",
            "_________________________________________________________________\n"
          ],
          "name": "stdout"
        }
      ]
    },
    {
      "cell_type": "markdown",
      "metadata": {
        "id": "EyuAubxOMB_F"
      },
      "source": [
        "* **Total params** -- total number of parametres in the model\n",
        "* **Trainable parametres** - these are the parameters (patterns) the model can update as it trains.\n",
        "* Non-trainable parameters-  these parama aren't updated during training (this is typical when you bring in already learn patterns or params from other model during transfer learning"
      ]
    },
    {
      "cell_type": "code",
      "metadata": {
        "id": "QG9PcLcC-E4S",
        "colab": {
          "base_uri": "https://localhost:8080/"
        },
        "outputId": "a147caf5-2bb3-4ea1-9b2d-2b9fd03faf40"
      },
      "source": [
        "# Lets fit our model to the training  data\n",
        "model.fit(X_train,y_train,epochs=100,verbose=0)"
      ],
      "execution_count": null,
      "outputs": [
        {
          "output_type": "execute_result",
          "data": {
            "text/plain": [
              "<tensorflow.python.keras.callbacks.History at 0x7fa281c45d90>"
            ]
          },
          "metadata": {
            "tags": []
          },
          "execution_count": 25
        }
      ]
    },
    {
      "cell_type": "code",
      "metadata": {
        "colab": {
          "base_uri": "https://localhost:8080/"
        },
        "id": "6ZP1PuNNQIS_",
        "outputId": "650e3c84-5e93-42bc-c8ca-25ad21951613"
      },
      "source": [
        "# get a summary of model\n",
        "model.summary() "
      ],
      "execution_count": null,
      "outputs": [
        {
          "output_type": "stream",
          "text": [
            "Model: \"sequential_4\"\n",
            "_________________________________________________________________\n",
            "Layer (type)                 Output Shape              Param #   \n",
            "=================================================================\n",
            "dense_5 (Dense)              (None, 10)                20        \n",
            "_________________________________________________________________\n",
            "dense_6 (Dense)              (None, 1)                 11        \n",
            "=================================================================\n",
            "Total params: 31\n",
            "Trainable params: 31\n",
            "Non-trainable params: 0\n",
            "_________________________________________________________________\n"
          ],
          "name": "stdout"
        }
      ]
    },
    {
      "cell_type": "code",
      "metadata": {
        "colab": {
          "base_uri": "https://localhost:8080/",
          "height": 312
        },
        "id": "TVpTOSIwbl6Y",
        "outputId": "84704d0d-3fd8-40a2-e93e-d114c23a93ff"
      },
      "source": [
        "from tensorflow.keras.utils import plot_model\n",
        "plot_model(model=model,show_shapes=True)"
      ],
      "execution_count": null,
      "outputs": [
        {
          "output_type": "execute_result",
          "data": {
            "image/png": "[encoded data removed]",
            "text/plain": [
              "<IPython.core.display.Image object>"
            ]
          },
          "metadata": {
            "tags": []
          },
          "execution_count": 27
        }
      ]
    },
    {
      "cell_type": "markdown",
      "metadata": {
        "id": "XYDA78MFdRdD"
      },
      "source": [
        "### Visualizing our models prediction\n",
        "\n",
        "To visualize model predictions,its a good idea to plot them against the ground truth lables.\n",
        "\n",
        "Often you'll see this in the form of `y_test` or `y_true` vs `y_pred` (ground truth Vs your model)"
      ]
    },
    {
      "cell_type": "code",
      "metadata": {
        "colab": {
          "base_uri": "https://localhost:8080/"
        },
        "id": "dti5rvo2cPcP",
        "outputId": "e358d495-1cfc-4662-b0bb-916eec34770b"
      },
      "source": [
        "# Make some predictions\n",
        "\n",
        "y_pred =model.predict(X_test)\n",
        "y_pred"
      ],
      "execution_count": null,
      "outputs": [
        {
          "output_type": "execute_result",
          "data": {
            "text/plain": [
              "array([[ 70.55218 ],\n",
              "       [ 75.13991 ],\n",
              "       [ 79.72763 ],\n",
              "       [ 84.31535 ],\n",
              "       [ 88.903076],\n",
              "       [ 93.49081 ],\n",
              "       [ 98.07853 ],\n",
              "       [102.66625 ],\n",
              "       [107.253975],\n",
              "       [111.8417  ]], dtype=float32)"
            ]
          },
          "metadata": {
            "tags": []
          },
          "execution_count": 28
        }
      ]
    },
    {
      "cell_type": "code",
      "metadata": {
        "colab": {
          "base_uri": "https://localhost:8080/"
        },
        "id": "JR5LO_M3ePeX",
        "outputId": "c0c25954-5191-46c7-8b99-f773c3c5f919"
      },
      "source": [
        "y_test"
      ],
      "execution_count": null,
      "outputs": [
        {
          "output_type": "execute_result",
          "data": {
            "text/plain": [
              "<tf.Tensor: shape=(10,), dtype=int32, numpy=array([ 70,  74,  78,  82,  86,  90,  94,  98, 102, 106], dtype=int32)>"
            ]
          },
          "metadata": {
            "tags": []
          },
          "execution_count": 29
        }
      ]
    },
    {
      "cell_type": "code",
      "metadata": {
        "id": "kztqHBI5eSDE"
      },
      "source": [
        "# Lets  create a plotting function\n",
        "def plot_predictions(train_data=X_train,\n",
        "                     train_labels=y_train,\n",
        "                     test_data=X_test,\n",
        "                     test_labels=y_test,\n",
        "                     predictions=y_pred):\n",
        "  '''\n",
        "   Plots training data, test data and compares predictions to ground truth labels\n",
        "  '''\n",
        "\n",
        "  plt.figure(figsize=(10,7))\n",
        "  #Plot training data in blue\n",
        "  plt.scatter(train_data,train_labels,c='b',label =\"Training Data\")\n",
        "  #Plot testing data in green\n",
        "  plt.scatter(test_data,test_labels,c=\"g\",label=\"Testing Data\")\n",
        "  #Plot prediction in red\n",
        "  plt.scatter(test_data,predictions,c=\"r\",label =\"Predictions\")\n",
        "  #Show the legend\n",
        "  plt.legend() \n",
        "  \n"
      ],
      "execution_count": null,
      "outputs": []
    },
    {
      "cell_type": "code",
      "metadata": {
        "colab": {
          "base_uri": "https://localhost:8080/",
          "height": 428
        },
        "id": "hNyiBNDghHra",
        "outputId": "51513574-fcb6-4a83-aa25-561ed9306757"
      },
      "source": [
        "plot_predictions()  #the distance between red dot and green dots depend on scale of the plot"
      ],
      "execution_count": null,
      "outputs": [
        {
          "output_type": "display_data",
          "data": {
            "image/png": "[encoded data removed]",
            "text/plain": [
              "<Figure size 720x504 with 1 Axes>"
            ]
          },
          "metadata": {
            "tags": [],
            "needs_background": "light"
          }
        }
      ]
    },
    {
      "cell_type": "markdown",
      "metadata": {
        "id": "XAtuDpPZhjHX"
      },
      "source": [
        "### Evaluating our models predictions with regression evaluation metrics\n",
        "\n",
        "Depending on the problem you're working on, there will be different evaluation metrics to evaluate your models performance\n",
        "\n",
        "Since we are working on regression, two of the main metrics:\n",
        "* **MAE** - mean absolute error, \"on average how wrong is each of my models prediction \"\n",
        "\n",
        "* **MSE** - mean square error, \"square the average error\""
      ]
    },
    {
      "cell_type": "code",
      "metadata": {
        "colab": {
          "base_uri": "https://localhost:8080/"
        },
        "id": "prD6nnlghJ9D",
        "outputId": "22a6d3b7-4d8f-481f-e38a-838c276f29b2"
      },
      "source": [
        "# Evaluate the  model on test set\n",
        "\n",
        "model.evaluate(X_test,y_test)"
      ],
      "execution_count": null,
      "outputs": [
        {
          "output_type": "stream",
          "text": [
            "1/1 [==============================] - 0s 134ms/step - loss: 3.1969 - mae: 3.1969\n"
          ],
          "name": "stdout"
        },
        {
          "output_type": "execute_result",
          "data": {
            "text/plain": [
              "[3.196942090988159, 3.196942090988159]"
            ]
          },
          "metadata": {
            "tags": []
          },
          "execution_count": 32
        }
      ]
    },
    {
      "cell_type": "code",
      "metadata": {
        "colab": {
          "base_uri": "https://localhost:8080/"
        },
        "id": "oYwkwYtxkAdt",
        "outputId": "31c2175b-b890-444d-c0d2-62d9a7eb5d63"
      },
      "source": [
        "# Calculate the mean absoute error\n",
        "mae=tf.metrics.mean_absolute_error(y_true=y_test,y_pred=y_pred)\n",
        "mae                                                               #this is not same as above mae , there fore somethin is wrong"
      ],
      "execution_count": null,
      "outputs": [
        {
          "output_type": "execute_result",
          "data": {
            "text/plain": [
              "<tf.Tensor: shape=(10,), dtype=float32, numpy=\n",
              "array([17.558258 , 14.1160555, 11.708948 , 10.336929 , 10.       ,\n",
              "       10.698161 , 12.447118 , 15.333002 , 19.253975 , 23.841698 ],\n",
              "      dtype=float32)>"
            ]
          },
          "metadata": {
            "tags": []
          },
          "execution_count": 33
        }
      ]
    },
    {
      "cell_type": "code",
      "metadata": {
        "colab": {
          "base_uri": "https://localhost:8080/"
        },
        "id": "XnOjgarUkqXP",
        "outputId": "26ebc225-1ec1-40f2-ce5d-38ca0704b90c"
      },
      "source": [
        "y_test"
      ],
      "execution_count": null,
      "outputs": [
        {
          "output_type": "execute_result",
          "data": {
            "text/plain": [
              "<tf.Tensor: shape=(10,), dtype=int32, numpy=array([ 70,  74,  78,  82,  86,  90,  94,  98, 102, 106], dtype=int32)>"
            ]
          },
          "metadata": {
            "tags": []
          },
          "execution_count": 34
        }
      ]
    },
    {
      "cell_type": "code",
      "metadata": {
        "colab": {
          "base_uri": "https://localhost:8080/"
        },
        "id": "_UoAQUvcl3yA",
        "outputId": "f217b742-1862-4ee8-fa64-57737396a328"
      },
      "source": [
        "y_pred"
      ],
      "execution_count": null,
      "outputs": [
        {
          "output_type": "execute_result",
          "data": {
            "text/plain": [
              "array([[ 70.55218 ],\n",
              "       [ 75.13991 ],\n",
              "       [ 79.72763 ],\n",
              "       [ 84.31535 ],\n",
              "       [ 88.903076],\n",
              "       [ 93.49081 ],\n",
              "       [ 98.07853 ],\n",
              "       [102.66625 ],\n",
              "       [107.253975],\n",
              "       [111.8417  ]], dtype=float32)"
            ]
          },
          "metadata": {
            "tags": []
          },
          "execution_count": 35
        }
      ]
    },
    {
      "cell_type": "code",
      "metadata": {
        "id": "GOgEXfFrlIFN"
      },
      "source": [
        "y_pred=tf.constant(y_pred)  #notice y_pred has one extra dimension as compared to y_test therefore we need to fix it"
      ],
      "execution_count": null,
      "outputs": []
    },
    {
      "cell_type": "code",
      "metadata": {
        "id": "vsXP_MWslJlb"
      },
      "source": [
        "y_pred=tf.squeeze(y_pred)"
      ],
      "execution_count": null,
      "outputs": []
    },
    {
      "cell_type": "code",
      "metadata": {
        "colab": {
          "base_uri": "https://localhost:8080/"
        },
        "id": "JpvQNHKelgRp",
        "outputId": "14906a02-9f42-41fc-e344-a977f7e32f49"
      },
      "source": [
        "mae=tf.metrics.mean_absolute_error(y_true=y_test,y_pred=y_pred)\n",
        "mae                             # after fixing the dimension we got the same mae"
      ],
      "execution_count": null,
      "outputs": [
        {
          "output_type": "execute_result",
          "data": {
            "text/plain": [
              "<tf.Tensor: shape=(), dtype=float32, numpy=3.1969407>"
            ]
          },
          "metadata": {
            "tags": []
          },
          "execution_count": 38
        }
      ]
    },
    {
      "cell_type": "code",
      "metadata": {
        "colab": {
          "base_uri": "https://localhost:8080/"
        },
        "id": "jH9m99Whl6l8",
        "outputId": "069d954d-60c6-4fdd-81f0-6b25af6844d6"
      },
      "source": [
        "# calculate the mean square error\n",
        "mse = tf.metrics.mean_squared_error(y_true=y_test,y_pred=y_pred)\n",
        "mse"
      ],
      "execution_count": null,
      "outputs": [
        {
          "output_type": "execute_result",
          "data": {
            "text/plain": [
              "<tf.Tensor: shape=(), dtype=float32, numpy=13.070143>"
            ]
          },
          "metadata": {
            "tags": []
          },
          "execution_count": 39
        }
      ]
    },
    {
      "cell_type": "code",
      "metadata": {
        "colab": {
          "base_uri": "https://localhost:8080/"
        },
        "id": "dhceMybLmhm2",
        "outputId": "991621bf-8bd5-4c48-de58-26d51225ead3"
      },
      "source": [
        "# calculate the huber error\n",
        "huber =tf.keras.losses.huber(y_true=y_test,y_pred=y_pred)\n",
        "huber"
      ],
      "execution_count": null,
      "outputs": [
        {
          "output_type": "execute_result",
          "data": {
            "text/plain": [
              "<tf.Tensor: shape=(), dtype=float32, numpy=2.7069678>"
            ]
          },
          "metadata": {
            "tags": []
          },
          "execution_count": 40
        }
      ]
    },
    {
      "cell_type": "code",
      "metadata": {
        "id": "OthhXbItnGaC"
      },
      "source": [
        "# Make some function to resuse MAE and MSE\n",
        "def mae(y_true,y_pred):\n",
        "  return tf.metrics.mean_absolute_error(y_true=y_true,y_pred=tf.squeeze(y_pred)).numpy()\n",
        "\n",
        "def mse(y_true,y_pred):\n",
        "  return tf.metrics.mean_squared_error(y_true=y_true,y_pred=tf.squeeze(y_pred)).numpy()\n"
      ],
      "execution_count": null,
      "outputs": []
    },
    {
      "cell_type": "markdown",
      "metadata": {
        "id": "GamLtW1DoO5D"
      },
      "source": [
        "### Running Experiment to improve our model\n",
        "\n",
        "We can improve our model, by altering the steps we took to create a model\n",
        "\n",
        "1. **Creating a model** - here we might add more layers, increase the number of hidden units(also called neurons) within each of the hidden layers, change the activation function of each layer\n",
        "2. **Compiling a model** - here we might change the optimization function or perhaps the **learning  rate** of the optimization function\n",
        "3.**Fitting a model**- here we might fit a model for more **epochs** (leave it training for longer) or on more data (give model more example to learn from).\n",
        "\n",
        "\n",
        "Lets do 3 modelling experiment\n",
        "\n",
        "`model_1` - same as original model, 1 layer, trained for  100 epochs.\n",
        "\n",
        "`model_2` - 2 layers, trained for 100 epochs\n",
        "\n",
        "`model_3`  - 2 layers, trained for 500 epochs\n",
        "\n",
        "**Build** `model_1`\n",
        "\n"
      ]
    },
    {
      "cell_type": "code",
      "metadata": {
        "id": "-169GTSpn0Qj",
        "colab": {
          "base_uri": "https://localhost:8080/"
        },
        "outputId": "a653dc83-1891-44ee-b5dc-c7d157587fa1"
      },
      "source": [
        "# Ste random seed\n",
        "tf.random.set_seed(42)\n",
        "\n",
        "# 1. Create the model \n",
        "model_1 =tf.keras.Sequential([\n",
        "                              tf.keras.layers.Dense(1)\n",
        "                      \n",
        "],name=\"model_1\")\n",
        "\n",
        "# 2. compile model\n",
        "\n",
        "model_1.compile(loss=tf.keras.losses.mae,\n",
        "              optimizer=tf.keras.optimizers.SGD(),\n",
        "              metrics=['mae'])\n",
        "\n",
        "# 3. Fit the model\n",
        "model_1.fit(X_train,y_train,epochs=100)"
      ],
      "execution_count": null,
      "outputs": [
        {
          "output_type": "stream",
          "text": [
            "Epoch 1/100\n",
            "2/2 [==============================] - 0s 7ms/step - loss: 15.9024 - mae: 15.9024\n",
            "Epoch 2/100\n",
            "2/2 [==============================] - 0s 3ms/step - loss: 11.2837 - mae: 11.2837\n",
            "Epoch 3/100\n",
            "2/2 [==============================] - 0s 4ms/step - loss: 11.1074 - mae: 11.1074\n",
            "Epoch 4/100\n",
            "2/2 [==============================] - 0s 10ms/step - loss: 9.2991 - mae: 9.2991\n",
            "Epoch 5/100\n",
            "2/2 [==============================] - 0s 5ms/step - loss: 10.1677 - mae: 10.1677\n",
            "Epoch 6/100\n",
            "2/2 [==============================] - 0s 7ms/step - loss: 9.4303 - mae: 9.4303\n",
            "Epoch 7/100\n",
            "2/2 [==============================] - 0s 7ms/step - loss: 8.5704 - mae: 8.5704\n",
            "Epoch 8/100\n",
            "2/2 [==============================] - 0s 7ms/step - loss: 9.0442 - mae: 9.0442\n",
            "Epoch 9/100\n",
            "2/2 [==============================] - 0s 7ms/step - loss: 18.7517 - mae: 18.7517\n",
            "Epoch 10/100\n",
            "2/2 [==============================] - 0s 7ms/step - loss: 10.1142 - mae: 10.1142\n",
            "Epoch 11/100\n",
            "2/2 [==============================] - 0s 7ms/step - loss: 8.3980 - mae: 8.3980\n",
            "Epoch 12/100\n",
            "2/2 [==============================] - 0s 9ms/step - loss: 10.6639 - mae: 10.6639\n",
            "Epoch 13/100\n",
            "2/2 [==============================] - 0s 8ms/step - loss: 9.7977 - mae: 9.7977\n",
            "Epoch 14/100\n",
            "2/2 [==============================] - 0s 11ms/step - loss: 16.0103 - mae: 16.0103\n",
            "Epoch 15/100\n",
            "2/2 [==============================] - 0s 10ms/step - loss: 11.4068 - mae: 11.4068\n",
            "Epoch 16/100\n",
            "2/2 [==============================] - 0s 6ms/step - loss: 8.5393 - mae: 8.5393\n",
            "Epoch 17/100\n",
            "2/2 [==============================] - 0s 6ms/step - loss: 13.6348 - mae: 13.6348\n",
            "Epoch 18/100\n",
            "2/2 [==============================] - 0s 6ms/step - loss: 11.4629 - mae: 11.4629\n",
            "Epoch 19/100\n",
            "2/2 [==============================] - 0s 9ms/step - loss: 17.9148 - mae: 17.9148\n",
            "Epoch 20/100\n",
            "2/2 [==============================] - 0s 5ms/step - loss: 15.0494 - mae: 15.0494\n",
            "Epoch 21/100\n",
            "2/2 [==============================] - 0s 3ms/step - loss: 11.0216 - mae: 11.0216\n",
            "Epoch 22/100\n",
            "2/2 [==============================] - 0s 4ms/step - loss: 8.1558 - mae: 8.1558\n",
            "Epoch 23/100\n",
            "2/2 [==============================] - 0s 8ms/step - loss: 9.5138 - mae: 9.5138\n",
            "Epoch 24/100\n",
            "2/2 [==============================] - 0s 7ms/step - loss: 7.6617 - mae: 7.6617\n",
            "Epoch 25/100\n",
            "2/2 [==============================] - 0s 4ms/step - loss: 13.1859 - mae: 13.1859\n",
            "Epoch 26/100\n",
            "2/2 [==============================] - 0s 4ms/step - loss: 16.4211 - mae: 16.4211\n",
            "Epoch 27/100\n",
            "2/2 [==============================] - 0s 6ms/step - loss: 13.1660 - mae: 13.1660\n",
            "Epoch 28/100\n",
            "2/2 [==============================] - 0s 8ms/step - loss: 14.2559 - mae: 14.2559\n",
            "Epoch 29/100\n",
            "2/2 [==============================] - 0s 9ms/step - loss: 10.0670 - mae: 10.0670\n",
            "Epoch 30/100\n",
            "2/2 [==============================] - 0s 9ms/step - loss: 16.3409 - mae: 16.3409\n",
            "Epoch 31/100\n",
            "2/2 [==============================] - 0s 5ms/step - loss: 23.6444 - mae: 23.6444\n",
            "Epoch 32/100\n",
            "2/2 [==============================] - 0s 7ms/step - loss: 7.6215 - mae: 7.6215\n",
            "Epoch 33/100\n",
            "2/2 [==============================] - 0s 4ms/step - loss: 9.3221 - mae: 9.3221\n",
            "Epoch 34/100\n",
            "2/2 [==============================] - 0s 6ms/step - loss: 13.7313 - mae: 13.7313\n",
            "Epoch 35/100\n",
            "2/2 [==============================] - 0s 6ms/step - loss: 11.1276 - mae: 11.1276\n",
            "Epoch 36/100\n",
            "2/2 [==============================] - 0s 6ms/step - loss: 13.3222 - mae: 13.3222\n",
            "Epoch 37/100\n",
            "2/2 [==============================] - 0s 5ms/step - loss: 9.4763 - mae: 9.4763\n",
            "Epoch 38/100\n",
            "2/2 [==============================] - 0s 4ms/step - loss: 10.1381 - mae: 10.1381\n",
            "Epoch 39/100\n",
            "2/2 [==============================] - 0s 6ms/step - loss: 10.1793 - mae: 10.1793\n",
            "Epoch 40/100\n",
            "2/2 [==============================] - 0s 5ms/step - loss: 10.9137 - mae: 10.9137\n",
            "Epoch 41/100\n",
            "2/2 [==============================] - 0s 6ms/step - loss: 7.9063 - mae: 7.9063\n",
            "Epoch 42/100\n",
            "2/2 [==============================] - 0s 5ms/step - loss: 10.0914 - mae: 10.0914\n",
            "Epoch 43/100\n",
            "2/2 [==============================] - 0s 4ms/step - loss: 8.7006 - mae: 8.7006\n",
            "Epoch 44/100\n",
            "2/2 [==============================] - 0s 7ms/step - loss: 12.2047 - mae: 12.2047\n",
            "Epoch 45/100\n",
            "2/2 [==============================] - 0s 5ms/step - loss: 13.7970 - mae: 13.7970\n",
            "Epoch 46/100\n",
            "2/2 [==============================] - 0s 20ms/step - loss: 8.4687 - mae: 8.4687\n",
            "Epoch 47/100\n",
            "2/2 [==============================] - 0s 6ms/step - loss: 9.1330 - mae: 9.1330\n",
            "Epoch 48/100\n",
            "2/2 [==============================] - 0s 4ms/step - loss: 10.6190 - mae: 10.6190\n",
            "Epoch 49/100\n",
            "2/2 [==============================] - 0s 7ms/step - loss: 7.7503 - mae: 7.7503\n",
            "Epoch 50/100\n",
            "2/2 [==============================] - 0s 6ms/step - loss: 9.5407 - mae: 9.5407\n",
            "Epoch 51/100\n",
            "2/2 [==============================] - 0s 6ms/step - loss: 9.1584 - mae: 9.1584\n",
            "Epoch 52/100\n",
            "2/2 [==============================] - 0s 15ms/step - loss: 16.3630 - mae: 16.3630\n",
            "Epoch 53/100\n",
            "2/2 [==============================] - 0s 8ms/step - loss: 14.1299 - mae: 14.1299\n",
            "Epoch 54/100\n",
            "2/2 [==============================] - 0s 7ms/step - loss: 21.1247 - mae: 21.1247\n",
            "Epoch 55/100\n",
            "2/2 [==============================] - 0s 8ms/step - loss: 16.3961 - mae: 16.3961\n",
            "Epoch 56/100\n",
            "2/2 [==============================] - 0s 5ms/step - loss: 9.9806 - mae: 9.9806\n",
            "Epoch 57/100\n",
            "2/2 [==============================] - 0s 4ms/step - loss: 9.9606 - mae: 9.9606\n",
            "Epoch 58/100\n",
            "2/2 [==============================] - 0s 4ms/step - loss: 9.2209 - mae: 9.2209\n",
            "Epoch 59/100\n",
            "2/2 [==============================] - 0s 9ms/step - loss: 8.4239 - mae: 8.4239\n",
            "Epoch 60/100\n",
            "2/2 [==============================] - 0s 19ms/step - loss: 9.4869 - mae: 9.4869\n",
            "Epoch 61/100\n",
            "2/2 [==============================] - 0s 3ms/step - loss: 11.4355 - mae: 11.4355\n",
            "Epoch 62/100\n",
            "2/2 [==============================] - 0s 3ms/step - loss: 11.6887 - mae: 11.6887\n",
            "Epoch 63/100\n",
            "2/2 [==============================] - 0s 5ms/step - loss: 7.0838 - mae: 7.0838\n",
            "Epoch 64/100\n",
            "2/2 [==============================] - 0s 3ms/step - loss: 16.9675 - mae: 16.9675\n",
            "Epoch 65/100\n",
            "2/2 [==============================] - 0s 24ms/step - loss: 12.4599 - mae: 12.4599\n",
            "Epoch 66/100\n",
            "2/2 [==============================] - 0s 5ms/step - loss: 13.0184 - mae: 13.0184\n",
            "Epoch 67/100\n",
            "2/2 [==============================] - 0s 5ms/step - loss: 8.0600 - mae: 8.0600\n",
            "Epoch 68/100\n",
            "2/2 [==============================] - 0s 4ms/step - loss: 10.1888 - mae: 10.1888\n",
            "Epoch 69/100\n",
            "2/2 [==============================] - 0s 16ms/step - loss: 12.3633 - mae: 12.3633\n",
            "Epoch 70/100\n",
            "2/2 [==============================] - 0s 4ms/step - loss: 9.0516 - mae: 9.0516\n",
            "Epoch 71/100\n",
            "2/2 [==============================] - 0s 8ms/step - loss: 10.0378 - mae: 10.0378\n",
            "Epoch 72/100\n",
            "2/2 [==============================] - 0s 10ms/step - loss: 10.0516 - mae: 10.0516\n",
            "Epoch 73/100\n",
            "2/2 [==============================] - 0s 7ms/step - loss: 12.6151 - mae: 12.6151\n",
            "Epoch 74/100\n",
            "2/2 [==============================] - 0s 11ms/step - loss: 10.3819 - mae: 10.3819\n",
            "Epoch 75/100\n",
            "2/2 [==============================] - 0s 10ms/step - loss: 9.7229 - mae: 9.7229\n",
            "Epoch 76/100\n",
            "2/2 [==============================] - 0s 6ms/step - loss: 11.2252 - mae: 11.2252\n",
            "Epoch 77/100\n",
            "2/2 [==============================] - 0s 5ms/step - loss: 8.3642 - mae: 8.3642\n",
            "Epoch 78/100\n",
            "2/2 [==============================] - 0s 4ms/step - loss: 9.1274 - mae: 9.1274\n",
            "Epoch 79/100\n",
            "2/2 [==============================] - 0s 4ms/step - loss: 19.5039 - mae: 19.5039\n",
            "Epoch 80/100\n",
            "2/2 [==============================] - 0s 4ms/step - loss: 14.8945 - mae: 14.8945\n",
            "Epoch 81/100\n",
            "2/2 [==============================] - 0s 4ms/step - loss: 9.0034 - mae: 9.0034\n",
            "Epoch 82/100\n",
            "2/2 [==============================] - 0s 7ms/step - loss: 13.0206 - mae: 13.0206\n",
            "Epoch 83/100\n",
            "2/2 [==============================] - 0s 7ms/step - loss: 7.9299 - mae: 7.9299\n",
            "Epoch 84/100\n",
            "2/2 [==============================] - 0s 4ms/step - loss: 7.6872 - mae: 7.6872\n",
            "Epoch 85/100\n",
            "2/2 [==============================] - 0s 4ms/step - loss: 10.0328 - mae: 10.0328\n",
            "Epoch 86/100\n",
            "2/2 [==============================] - 0s 5ms/step - loss: 9.2433 - mae: 9.2433\n",
            "Epoch 87/100\n",
            "2/2 [==============================] - 0s 4ms/step - loss: 12.0209 - mae: 12.0209\n",
            "Epoch 88/100\n",
            "2/2 [==============================] - 0s 4ms/step - loss: 10.6389 - mae: 10.6389\n",
            "Epoch 89/100\n",
            "2/2 [==============================] - 0s 6ms/step - loss: 7.2667 - mae: 7.2667\n",
            "Epoch 90/100\n",
            "2/2 [==============================] - 0s 8ms/step - loss: 12.7786 - mae: 12.7786\n",
            "Epoch 91/100\n",
            "2/2 [==============================] - 0s 7ms/step - loss: 7.3481 - mae: 7.3481\n",
            "Epoch 92/100\n",
            "2/2 [==============================] - 0s 9ms/step - loss: 7.7175 - mae: 7.7175\n",
            "Epoch 93/100\n",
            "2/2 [==============================] - 0s 8ms/step - loss: 7.1263 - mae: 7.1263\n",
            "Epoch 94/100\n",
            "2/2 [==============================] - 0s 4ms/step - loss: 12.6190 - mae: 12.6190\n",
            "Epoch 95/100\n",
            "2/2 [==============================] - 0s 4ms/step - loss: 10.0912 - mae: 10.0912\n",
            "Epoch 96/100\n",
            "2/2 [==============================] - 0s 10ms/step - loss: 9.3558 - mae: 9.3558\n",
            "Epoch 97/100\n",
            "2/2 [==============================] - 0s 9ms/step - loss: 12.6834 - mae: 12.6834\n",
            "Epoch 98/100\n",
            "2/2 [==============================] - 0s 7ms/step - loss: 8.6762 - mae: 8.6762\n",
            "Epoch 99/100\n",
            "2/2 [==============================] - 0s 6ms/step - loss: 9.4693 - mae: 9.4693\n",
            "Epoch 100/100\n",
            "2/2 [==============================] - 0s 4ms/step - loss: 8.7067 - mae: 8.7067\n"
          ],
          "name": "stdout"
        },
        {
          "output_type": "execute_result",
          "data": {
            "text/plain": [
              "<tensorflow.python.keras.callbacks.History at 0x7fa286c76890>"
            ]
          },
          "metadata": {
            "tags": []
          },
          "execution_count": 42
        }
      ]
    },
    {
      "cell_type": "code",
      "metadata": {
        "colab": {
          "base_uri": "https://localhost:8080/",
          "height": 465
        },
        "id": "rMrOEb_YZGjo",
        "outputId": "bd731a31-b855-4e9c-ee5d-162d818022a2"
      },
      "source": [
        "# Make and plot predictions on model_1\n",
        "y_pred_1 =model_1.predict(X_test)\n",
        "plot_predictions(predictions=y_pred_1)"
      ],
      "execution_count": null,
      "outputs": [
        {
          "output_type": "stream",
          "text": [
            "WARNING:tensorflow:5 out of the last 5 calls to <function Model.make_predict_function.<locals>.predict_function at 0x7fa281c38950> triggered tf.function retracing. Tracing is expensive and the excessive number of tracings could be due to (1) creating @tf.function repeatedly in a loop, (2) passing tensors with different shapes, (3) passing Python objects instead of tensors. For (1), please define your @tf.function outside of the loop. For (2), @tf.function has experimental_relax_shapes=True option that relaxes argument shapes that can avoid unnecessary retracing. For (3), please refer to https://www.tensorflow.org/guide/function#controlling_retracing and https://www.tensorflow.org/api_docs/python/tf/function for  more details.\n"
          ],
          "name": "stdout"
        },
        {
          "output_type": "display_data",
          "data": {
            "image/png": "[encoded data removed]",
            "text/plain": [
              "<Figure size 720x504 with 1 Axes>"
            ]
          },
          "metadata": {
            "tags": [],
            "needs_background": "light"
          }
        }
      ]
    },
    {
      "cell_type": "code",
      "metadata": {
        "colab": {
          "base_uri": "https://localhost:8080/"
        },
        "id": "r5Xs93vlZzoC",
        "outputId": "478e836d-51ca-45ae-8c26-c7df6261a8ef"
      },
      "source": [
        "# Calculate model_1 evaluation metrics\n",
        "mae_1 =mae(y_test,y_pred_1)\n",
        "mse_1 =mse(y_test,y_pred_1)\n",
        "mae_1,mse_1"
      ],
      "execution_count": null,
      "outputs": [
        {
          "output_type": "execute_result",
          "data": {
            "text/plain": [
              "(18.745327, 353.57336)"
            ]
          },
          "metadata": {
            "tags": []
          },
          "execution_count": 44
        }
      ]
    },
    {
      "cell_type": "markdown",
      "metadata": {
        "id": "K0cmqe8kbf0A"
      },
      "source": [
        "Build `model_2` \n",
        "* 2 dense layers trained for 100 epochs"
      ]
    },
    {
      "cell_type": "code",
      "metadata": {
        "colab": {
          "base_uri": "https://localhost:8080/"
        },
        "id": "DgDVpKjtailB",
        "outputId": "03b2bcaf-6ed0-4f97-fad4-c04c164b67d0"
      },
      "source": [
        "# Create a model\n",
        "tf.random.set_seed(42)\n",
        "model_2 =tf.keras.Sequential([\n",
        "                              tf.keras.layers.Dense(10),\n",
        "                              tf.keras.layers.Dense(1)\n",
        "],name=\"model_2\")\n",
        "\n",
        "# Compile model\n",
        "model_2.compile(loss='mae',\n",
        "                optimizer='sgd',\n",
        "                metrics=['mae'])\n",
        "\n",
        "#Fit the model\n",
        "model_2.fit(X_train,y_train,epochs=100)"
      ],
      "execution_count": null,
      "outputs": [
        {
          "output_type": "stream",
          "text": [
            "Epoch 1/100\n",
            "2/2 [==============================] - 0s 4ms/step - loss: 27.4058 - mae: 27.4058\n",
            "Epoch 2/100\n",
            "2/2 [==============================] - 0s 10ms/step - loss: 24.6339 - mae: 24.6339\n",
            "Epoch 3/100\n",
            "2/2 [==============================] - 0s 4ms/step - loss: 29.8935 - mae: 29.8935\n",
            "Epoch 4/100\n",
            "2/2 [==============================] - 0s 5ms/step - loss: 27.4055 - mae: 27.4055\n",
            "Epoch 5/100\n",
            "2/2 [==============================] - 0s 3ms/step - loss: 14.9463 - mae: 14.9463\n",
            "Epoch 6/100\n",
            "2/2 [==============================] - 0s 8ms/step - loss: 11.8819 - mae: 11.8819\n",
            "Epoch 7/100\n",
            "2/2 [==============================] - 0s 5ms/step - loss: 11.1988 - mae: 11.1988\n",
            "Epoch 8/100\n",
            "2/2 [==============================] - 0s 7ms/step - loss: 11.0910 - mae: 11.0910\n",
            "Epoch 9/100\n",
            "2/2 [==============================] - 0s 7ms/step - loss: 40.4763 - mae: 40.4763\n",
            "Epoch 10/100\n",
            "2/2 [==============================] - 0s 6ms/step - loss: 27.8688 - mae: 27.8688\n",
            "Epoch 11/100\n",
            "2/2 [==============================] - 0s 8ms/step - loss: 10.2473 - mae: 10.2473\n",
            "Epoch 12/100\n",
            "2/2 [==============================] - 0s 5ms/step - loss: 25.2803 - mae: 25.2803\n",
            "Epoch 13/100\n",
            "2/2 [==============================] - 0s 3ms/step - loss: 16.9897 - mae: 16.9897\n",
            "Epoch 14/100\n",
            "2/2 [==============================] - 0s 3ms/step - loss: 25.9217 - mae: 25.9217\n",
            "Epoch 15/100\n",
            "2/2 [==============================] - 0s 9ms/step - loss: 17.9948 - mae: 17.9948\n",
            "Epoch 16/100\n",
            "2/2 [==============================] - 0s 8ms/step - loss: 7.3510 - mae: 7.3510\n",
            "Epoch 17/100\n",
            "2/2 [==============================] - 0s 4ms/step - loss: 10.8636 - mae: 10.8636\n",
            "Epoch 18/100\n",
            "2/2 [==============================] - 0s 4ms/step - loss: 19.5304 - mae: 19.5304\n",
            "Epoch 19/100\n",
            "2/2 [==============================] - 0s 5ms/step - loss: 10.3469 - mae: 10.3469\n",
            "Epoch 20/100\n",
            "2/2 [==============================] - 0s 9ms/step - loss: 17.6985 - mae: 17.6985\n",
            "Epoch 21/100\n",
            "2/2 [==============================] - 0s 9ms/step - loss: 15.8984 - mae: 15.8984\n",
            "Epoch 22/100\n",
            "2/2 [==============================] - 0s 9ms/step - loss: 14.1991 - mae: 14.1991\n",
            "Epoch 23/100\n",
            "2/2 [==============================] - 0s 7ms/step - loss: 8.7720 - mae: 8.7720\n",
            "Epoch 24/100\n",
            "2/2 [==============================] - 0s 9ms/step - loss: 11.0570 - mae: 11.0570\n",
            "Epoch 25/100\n",
            "2/2 [==============================] - 0s 10ms/step - loss: 12.6838 - mae: 12.6838\n",
            "Epoch 26/100\n",
            "2/2 [==============================] - 0s 7ms/step - loss: 26.1877 - mae: 26.1877\n",
            "Epoch 27/100\n",
            "2/2 [==============================] - 0s 13ms/step - loss: 11.7432 - mae: 11.7432\n",
            "Epoch 28/100\n",
            "2/2 [==============================] - 0s 5ms/step - loss: 22.8730 - mae: 22.8730\n",
            "Epoch 29/100\n",
            "2/2 [==============================] - 0s 5ms/step - loss: 9.2459 - mae: 9.2459\n",
            "Epoch 30/100\n",
            "2/2 [==============================] - 0s 8ms/step - loss: 29.2641 - mae: 29.2641\n",
            "Epoch 31/100\n",
            "2/2 [==============================] - 0s 7ms/step - loss: 53.0225 - mae: 53.0225\n",
            "Epoch 32/100\n",
            "2/2 [==============================] - 0s 5ms/step - loss: 11.9951 - mae: 11.9951\n",
            "Epoch 33/100\n",
            "2/2 [==============================] - 0s 6ms/step - loss: 15.6357 - mae: 15.6357\n",
            "Epoch 34/100\n",
            "2/2 [==============================] - 0s 10ms/step - loss: 12.6925 - mae: 12.6925\n",
            "Epoch 35/100\n",
            "2/2 [==============================] - 0s 6ms/step - loss: 9.2398 - mae: 9.2398\n",
            "Epoch 36/100\n",
            "2/2 [==============================] - 0s 8ms/step - loss: 16.6497 - mae: 16.6497\n",
            "Epoch 37/100\n",
            "2/2 [==============================] - 0s 8ms/step - loss: 11.0382 - mae: 11.0382\n",
            "Epoch 38/100\n",
            "2/2 [==============================] - 0s 9ms/step - loss: 18.1634 - mae: 18.1634\n",
            "Epoch 39/100\n",
            "2/2 [==============================] - 0s 4ms/step - loss: 19.1013 - mae: 19.1013\n",
            "Epoch 40/100\n",
            "2/2 [==============================] - 0s 8ms/step - loss: 20.4324 - mae: 20.4324\n",
            "Epoch 41/100\n",
            "2/2 [==============================] - 0s 6ms/step - loss: 14.9102 - mae: 14.9102\n",
            "Epoch 42/100\n",
            "2/2 [==============================] - 0s 9ms/step - loss: 12.2809 - mae: 12.2809\n",
            "Epoch 43/100\n",
            "2/2 [==============================] - 0s 6ms/step - loss: 10.7333 - mae: 10.7333\n",
            "Epoch 44/100\n",
            "2/2 [==============================] - 0s 8ms/step - loss: 23.0260 - mae: 23.0260\n",
            "Epoch 45/100\n",
            "2/2 [==============================] - 0s 5ms/step - loss: 10.3897 - mae: 10.3897\n",
            "Epoch 46/100\n",
            "2/2 [==============================] - 0s 5ms/step - loss: 11.7904 - mae: 11.7904\n",
            "Epoch 47/100\n",
            "2/2 [==============================] - 0s 5ms/step - loss: 9.6438 - mae: 9.6438\n",
            "Epoch 48/100\n",
            "2/2 [==============================] - 0s 6ms/step - loss: 17.2335 - mae: 17.2335\n",
            "Epoch 49/100\n",
            "2/2 [==============================] - 0s 17ms/step - loss: 9.5729 - mae: 9.5729\n",
            "Epoch 50/100\n",
            "2/2 [==============================] - 0s 8ms/step - loss: 13.8185 - mae: 13.8185\n",
            "Epoch 51/100\n",
            "2/2 [==============================] - 0s 9ms/step - loss: 11.5958 - mae: 11.5958\n",
            "Epoch 52/100\n",
            "2/2 [==============================] - 0s 9ms/step - loss: 30.5538 - mae: 30.5538\n",
            "Epoch 53/100\n",
            "2/2 [==============================] - 0s 12ms/step - loss: 14.3541 - mae: 14.3541\n",
            "Epoch 54/100\n",
            "2/2 [==============================] - 0s 11ms/step - loss: 23.9713 - mae: 23.9713\n",
            "Epoch 55/100\n",
            "2/2 [==============================] - 0s 12ms/step - loss: 23.1938 - mae: 23.1938\n",
            "Epoch 56/100\n",
            "2/2 [==============================] - 0s 9ms/step - loss: 10.8837 - mae: 10.8837\n",
            "Epoch 57/100\n",
            "2/2 [==============================] - 0s 20ms/step - loss: 12.7445 - mae: 12.7445\n",
            "Epoch 58/100\n",
            "2/2 [==============================] - 0s 8ms/step - loss: 9.5995 - mae: 9.5995\n",
            "Epoch 59/100\n",
            "2/2 [==============================] - 0s 12ms/step - loss: 12.5172 - mae: 12.5172\n",
            "Epoch 60/100\n",
            "2/2 [==============================] - 0s 5ms/step - loss: 12.3200 - mae: 12.3200\n",
            "Epoch 61/100\n",
            "2/2 [==============================] - 0s 9ms/step - loss: 17.4604 - mae: 17.4604\n",
            "Epoch 62/100\n",
            "2/2 [==============================] - 0s 6ms/step - loss: 10.6052 - mae: 10.6052\n",
            "Epoch 63/100\n",
            "2/2 [==============================] - 0s 10ms/step - loss: 10.4893 - mae: 10.4893\n",
            "Epoch 64/100\n",
            "2/2 [==============================] - 0s 4ms/step - loss: 24.8450 - mae: 24.8450\n",
            "Epoch 65/100\n",
            "2/2 [==============================] - 0s 5ms/step - loss: 10.6761 - mae: 10.6761\n",
            "Epoch 66/100\n",
            "2/2 [==============================] - 0s 4ms/step - loss: 21.7809 - mae: 21.7809\n",
            "Epoch 67/100\n",
            "2/2 [==============================] - 0s 5ms/step - loss: 10.7136 - mae: 10.7136\n",
            "Epoch 68/100\n",
            "2/2 [==============================] - 0s 5ms/step - loss: 10.6397 - mae: 10.6397\n",
            "Epoch 69/100\n",
            "2/2 [==============================] - 0s 14ms/step - loss: 22.6914 - mae: 22.6914\n",
            "Epoch 70/100\n",
            "2/2 [==============================] - 0s 4ms/step - loss: 9.3316 - mae: 9.3316\n",
            "Epoch 71/100\n",
            "2/2 [==============================] - 0s 4ms/step - loss: 15.4355 - mae: 15.4355\n",
            "Epoch 72/100\n",
            "2/2 [==============================] - 0s 5ms/step - loss: 6.7437 - mae: 6.7437\n",
            "Epoch 73/100\n",
            "2/2 [==============================] - 0s 7ms/step - loss: 11.6891 - mae: 11.6891\n",
            "Epoch 74/100\n",
            "2/2 [==============================] - 0s 4ms/step - loss: 24.0400 - mae: 24.0400\n",
            "Epoch 75/100\n",
            "2/2 [==============================] - 0s 4ms/step - loss: 9.5896 - mae: 9.5896\n",
            "Epoch 76/100\n",
            "2/2 [==============================] - 0s 4ms/step - loss: 12.4371 - mae: 12.4371\n",
            "Epoch 77/100\n",
            "2/2 [==============================] - 0s 4ms/step - loss: 16.6489 - mae: 16.6489\n",
            "Epoch 78/100\n",
            "2/2 [==============================] - 0s 4ms/step - loss: 9.0614 - mae: 9.0614\n",
            "Epoch 79/100\n",
            "2/2 [==============================] - 0s 5ms/step - loss: 23.9675 - mae: 23.9675\n",
            "Epoch 80/100\n",
            "2/2 [==============================] - 0s 4ms/step - loss: 26.7463 - mae: 26.7463\n",
            "Epoch 81/100\n",
            "2/2 [==============================] - 0s 6ms/step - loss: 11.6714 - mae: 11.6714\n",
            "Epoch 82/100\n",
            "2/2 [==============================] - 0s 4ms/step - loss: 12.0228 - mae: 12.0228\n",
            "Epoch 83/100\n",
            "2/2 [==============================] - 0s 10ms/step - loss: 17.4218 - mae: 17.4218\n",
            "Epoch 84/100\n",
            "2/2 [==============================] - 0s 4ms/step - loss: 7.2629 - mae: 7.2629\n",
            "Epoch 85/100\n",
            "2/2 [==============================] - 0s 4ms/step - loss: 14.9650 - mae: 14.9650\n",
            "Epoch 86/100\n",
            "2/2 [==============================] - 0s 8ms/step - loss: 15.2862 - mae: 15.2862\n",
            "Epoch 87/100\n",
            "2/2 [==============================] - 0s 4ms/step - loss: 19.1086 - mae: 19.1086\n",
            "Epoch 88/100\n",
            "2/2 [==============================] - 0s 7ms/step - loss: 29.8229 - mae: 29.8229\n",
            "Epoch 89/100\n",
            "2/2 [==============================] - 0s 6ms/step - loss: 10.1742 - mae: 10.1742\n",
            "Epoch 90/100\n",
            "2/2 [==============================] - 0s 4ms/step - loss: 21.5240 - mae: 21.5240\n",
            "Epoch 91/100\n",
            "2/2 [==============================] - 0s 6ms/step - loss: 10.5716 - mae: 10.5716\n",
            "Epoch 92/100\n",
            "2/2 [==============================] - 0s 6ms/step - loss: 18.3977 - mae: 18.3977\n",
            "Epoch 93/100\n",
            "2/2 [==============================] - 0s 8ms/step - loss: 7.4138 - mae: 7.4138\n",
            "Epoch 94/100\n",
            "2/2 [==============================] - 0s 8ms/step - loss: 17.7380 - mae: 17.7380\n",
            "Epoch 95/100\n",
            "2/2 [==============================] - 0s 4ms/step - loss: 11.1144 - mae: 11.1144\n",
            "Epoch 96/100\n",
            "2/2 [==============================] - 0s 7ms/step - loss: 19.4346 - mae: 19.4346\n",
            "Epoch 97/100\n",
            "2/2 [==============================] - 0s 7ms/step - loss: 12.1593 - mae: 12.1593\n",
            "Epoch 98/100\n",
            "2/2 [==============================] - 0s 9ms/step - loss: 11.5653 - mae: 11.5653\n",
            "Epoch 99/100\n",
            "2/2 [==============================] - 0s 5ms/step - loss: 13.8827 - mae: 13.8827\n",
            "Epoch 100/100\n",
            "2/2 [==============================] - 0s 5ms/step - loss: 20.2277 - mae: 20.2277\n"
          ],
          "name": "stdout"
        },
        {
          "output_type": "execute_result",
          "data": {
            "text/plain": [
              "<tensorflow.python.keras.callbacks.History at 0x7fa286b99f90>"
            ]
          },
          "metadata": {
            "tags": []
          },
          "execution_count": 45
        }
      ]
    },
    {
      "cell_type": "code",
      "metadata": {
        "colab": {
          "base_uri": "https://localhost:8080/"
        },
        "id": "Fz8_gLHyhlBl",
        "outputId": "d26762da-4f24-4254-c832-ba84cae13ab8"
      },
      "source": [
        "model_2.summary()"
      ],
      "execution_count": null,
      "outputs": [
        {
          "output_type": "stream",
          "text": [
            "Model: \"model_2\"\n",
            "_________________________________________________________________\n",
            "Layer (type)                 Output Shape              Param #   \n",
            "=================================================================\n",
            "dense_8 (Dense)              (None, 10)                20        \n",
            "_________________________________________________________________\n",
            "dense_9 (Dense)              (None, 1)                 11        \n",
            "=================================================================\n",
            "Total params: 31\n",
            "Trainable params: 31\n",
            "Non-trainable params: 0\n",
            "_________________________________________________________________\n"
          ],
          "name": "stdout"
        }
      ]
    },
    {
      "cell_type": "code",
      "metadata": {
        "colab": {
          "base_uri": "https://localhost:8080/",
          "height": 312
        },
        "id": "IA27Vf-yhwNy",
        "outputId": "fb4a5918-9ed1-47b9-c20b-664939478673"
      },
      "source": [
        "from tensorflow.keras.utils import plot_model\n",
        "plot_model(model_2,show_shapes=True)"
      ],
      "execution_count": null,
      "outputs": [
        {
          "output_type": "execute_result",
          "data": {
            "image/png": "[encoded data removed]",
            "text/plain": [
              "<IPython.core.display.Image object>"
            ]
          },
          "metadata": {
            "tags": []
          },
          "execution_count": 47
        }
      ]
    },
    {
      "cell_type": "code",
      "metadata": {
        "colab": {
          "base_uri": "https://localhost:8080/",
          "height": 465
        },
        "id": "T4JA-yV4iLg2",
        "outputId": "92f01f85-62e5-4609-a439-ef4be3fb0c1e"
      },
      "source": [
        "# plot model_2 predictions\n",
        "y_pred_2 =model_2.predict(X_test)\n",
        "plot_predictions(predictions=y_pred_2)"
      ],
      "execution_count": null,
      "outputs": [
        {
          "output_type": "stream",
          "text": [
            "WARNING:tensorflow:6 out of the last 6 calls to <function Model.make_predict_function.<locals>.predict_function at 0x7fa299bc45f0> triggered tf.function retracing. Tracing is expensive and the excessive number of tracings could be due to (1) creating @tf.function repeatedly in a loop, (2) passing tensors with different shapes, (3) passing Python objects instead of tensors. For (1), please define your @tf.function outside of the loop. For (2), @tf.function has experimental_relax_shapes=True option that relaxes argument shapes that can avoid unnecessary retracing. For (3), please refer to https://www.tensorflow.org/guide/function#controlling_retracing and https://www.tensorflow.org/api_docs/python/tf/function for  more details.\n"
          ],
          "name": "stdout"
        },
        {
          "output_type": "display_data",
          "data": {
            "image/png": "[encoded data removed]",
            "text/plain": [
              "<Figure size 720x504 with 1 Axes>"
            ]
          },
          "metadata": {
            "tags": [],
            "needs_background": "light"
          }
        }
      ]
    },
    {
      "cell_type": "code",
      "metadata": {
        "colab": {
          "base_uri": "https://localhost:8080/"
        },
        "id": "QAOaAc8UilAj",
        "outputId": "7c3ed4e6-80f4-4cfe-b7cd-bb3251585771"
      },
      "source": [
        "# calculate mse and mae for model_2\n",
        "mae_2=mae(y_test,y_pred_2)\n",
        "mse_2 =mse(y_test,y_pred_2)\n",
        "\n",
        "mae_2,mse_2"
      ],
      "execution_count": null,
      "outputs": [
        {
          "output_type": "execute_result",
          "data": {
            "text/plain": [
              "(3.1969407, 13.070143)"
            ]
          },
          "metadata": {
            "tags": []
          },
          "execution_count": 49
        }
      ]
    },
    {
      "cell_type": "markdown",
      "metadata": {
        "id": "SvJFSKawjdds"
      },
      "source": [
        "**Build** `model_3` \n",
        "\n",
        "* 2 layers and 500 epochs"
      ]
    },
    {
      "cell_type": "code",
      "metadata": {
        "colab": {
          "base_uri": "https://localhost:8080/"
        },
        "id": "NXpbfJbJjP0Q",
        "outputId": "e001ac2c-e31c-4793-ac46-1b58cd56cd7f"
      },
      "source": [
        "tf.random.set_seed(42)\n",
        "# create model\n",
        "model_3 =tf.keras.Sequential([\n",
        "                              tf.keras.layers.Dense(3),\n",
        "                              tf.keras.layers.Dense(1)\n",
        "],name =\"model_3\")\n",
        "\n",
        "#compile model\n",
        "model_3.compile(loss=tf.keras.losses.mae,\n",
        "                optimizer=tf.keras.optimizers.SGD(),\n",
        "                metrics=['mae'])\n",
        "\n",
        "# fit the model\n",
        "model_3.fit(X_train,y_train,epochs=500)"
      ],
      "execution_count": null,
      "outputs": [
        {
          "output_type": "stream",
          "text": [
            "Epoch 1/500\n",
            "2/2 [==============================] - 0s 8ms/step - loss: 43.8872 - mae: 43.8872\n",
            "Epoch 2/500\n",
            "2/2 [==============================] - 0s 7ms/step - loss: 11.8576 - mae: 11.8576\n",
            "Epoch 3/500\n",
            "2/2 [==============================] - 0s 8ms/step - loss: 18.9307 - mae: 18.9307\n",
            "Epoch 4/500\n",
            "2/2 [==============================] - 0s 7ms/step - loss: 13.6602 - mae: 13.6602\n",
            "Epoch 5/500\n",
            "2/2 [==============================] - 0s 6ms/step - loss: 15.0215 - mae: 15.0215\n",
            "Epoch 6/500\n",
            "2/2 [==============================] - 0s 12ms/step - loss: 11.9269 - mae: 11.9269\n",
            "Epoch 7/500\n",
            "2/2 [==============================] - 0s 8ms/step - loss: 11.2274 - mae: 11.2274\n",
            "Epoch 8/500\n",
            "2/2 [==============================] - 0s 7ms/step - loss: 11.0736 - mae: 11.0736\n",
            "Epoch 9/500\n",
            "2/2 [==============================] - 0s 6ms/step - loss: 40.5734 - mae: 40.5734\n",
            "Epoch 10/500\n",
            "2/2 [==============================] - 0s 6ms/step - loss: 27.9568 - mae: 27.9568\n",
            "Epoch 11/500\n",
            "2/2 [==============================] - 0s 9ms/step - loss: 10.2307 - mae: 10.2307\n",
            "Epoch 12/500\n",
            "2/2 [==============================] - 0s 4ms/step - loss: 25.2319 - mae: 25.2319\n",
            "Epoch 13/500\n",
            "2/2 [==============================] - 0s 11ms/step - loss: 17.0306 - mae: 17.0306\n",
            "Epoch 14/500\n",
            "2/2 [==============================] - 0s 7ms/step - loss: 26.0159 - mae: 26.0159\n",
            "Epoch 15/500\n",
            "2/2 [==============================] - 0s 8ms/step - loss: 18.0686 - mae: 18.0686\n",
            "Epoch 16/500\n",
            "2/2 [==============================] - 0s 7ms/step - loss: 7.8446 - mae: 7.8446\n",
            "Epoch 17/500\n",
            "2/2 [==============================] - 0s 6ms/step - loss: 22.1900 - mae: 22.1900\n",
            "Epoch 18/500\n",
            "2/2 [==============================] - 0s 8ms/step - loss: 10.8043 - mae: 10.8043\n",
            "Epoch 19/500\n",
            "2/2 [==============================] - 0s 5ms/step - loss: 10.6945 - mae: 10.6945\n",
            "Epoch 20/500\n",
            "2/2 [==============================] - 0s 9ms/step - loss: 12.0196 - mae: 12.0196\n",
            "Epoch 21/500\n",
            "2/2 [==============================] - 0s 5ms/step - loss: 20.1356 - mae: 20.1356\n",
            "Epoch 22/500\n",
            "2/2 [==============================] - 0s 7ms/step - loss: 13.7684 - mae: 13.7684\n",
            "Epoch 23/500\n",
            "2/2 [==============================] - 0s 5ms/step - loss: 9.5224 - mae: 9.5224\n",
            "Epoch 24/500\n",
            "2/2 [==============================] - 0s 6ms/step - loss: 11.8799 - mae: 11.8799\n",
            "Epoch 25/500\n",
            "2/2 [==============================] - 0s 10ms/step - loss: 16.2141 - mae: 16.2141\n",
            "Epoch 26/500\n",
            "2/2 [==============================] - 0s 21ms/step - loss: 16.4028 - mae: 16.4028\n",
            "Epoch 27/500\n",
            "2/2 [==============================] - 0s 13ms/step - loss: 11.5750 - mae: 11.5750\n",
            "Epoch 28/500\n",
            "2/2 [==============================] - 0s 13ms/step - loss: 30.0224 - mae: 30.0224\n",
            "Epoch 29/500\n",
            "2/2 [==============================] - 0s 8ms/step - loss: 9.2369 - mae: 9.2369\n",
            "Epoch 30/500\n",
            "2/2 [==============================] - 0s 6ms/step - loss: 30.5695 - mae: 30.5695\n",
            "Epoch 31/500\n",
            "2/2 [==============================] - 0s 7ms/step - loss: 55.5736 - mae: 55.5736\n",
            "Epoch 32/500\n",
            "2/2 [==============================] - 0s 8ms/step - loss: 9.7222 - mae: 9.7222\n",
            "Epoch 33/500\n",
            "2/2 [==============================] - 0s 5ms/step - loss: 12.3434 - mae: 12.3434\n",
            "Epoch 34/500\n",
            "2/2 [==============================] - 0s 5ms/step - loss: 24.7594 - mae: 24.7594\n",
            "Epoch 35/500\n",
            "2/2 [==============================] - 0s 6ms/step - loss: 11.8989 - mae: 11.8989\n",
            "Epoch 36/500\n",
            "2/2 [==============================] - 0s 10ms/step - loss: 22.0700 - mae: 22.0700\n",
            "Epoch 37/500\n",
            "2/2 [==============================] - 0s 8ms/step - loss: 17.8774 - mae: 17.8774\n",
            "Epoch 38/500\n",
            "2/2 [==============================] - 0s 5ms/step - loss: 9.9647 - mae: 9.9647\n",
            "Epoch 39/500\n",
            "2/2 [==============================] - 0s 6ms/step - loss: 10.4975 - mae: 10.4975\n",
            "Epoch 40/500\n",
            "2/2 [==============================] - 0s 7ms/step - loss: 15.6024 - mae: 15.6024\n",
            "Epoch 41/500\n",
            "2/2 [==============================] - 0s 4ms/step - loss: 11.8240 - mae: 11.8240\n",
            "Epoch 42/500\n",
            "2/2 [==============================] - 0s 4ms/step - loss: 9.9433 - mae: 9.9433\n",
            "Epoch 43/500\n",
            "2/2 [==============================] - 0s 5ms/step - loss: 9.7875 - mae: 9.7875\n",
            "Epoch 44/500\n",
            "2/2 [==============================] - 0s 5ms/step - loss: 30.6517 - mae: 30.6517\n",
            "Epoch 45/500\n",
            "2/2 [==============================] - 0s 4ms/step - loss: 11.9890 - mae: 11.9890\n",
            "Epoch 46/500\n",
            "2/2 [==============================] - 0s 6ms/step - loss: 16.1726 - mae: 16.1726\n",
            "Epoch 47/500\n",
            "2/2 [==============================] - 0s 8ms/step - loss: 15.0187 - mae: 15.0187\n",
            "Epoch 48/500\n",
            "2/2 [==============================] - 0s 4ms/step - loss: 14.2354 - mae: 14.2354\n",
            "Epoch 49/500\n",
            "2/2 [==============================] - 0s 4ms/step - loss: 13.7820 - mae: 13.7820\n",
            "Epoch 50/500\n",
            "2/2 [==============================] - 0s 4ms/step - loss: 12.6537 - mae: 12.6537\n",
            "Epoch 51/500\n",
            "2/2 [==============================] - 0s 4ms/step - loss: 14.7010 - mae: 14.7010\n",
            "Epoch 52/500\n",
            "2/2 [==============================] - 0s 5ms/step - loss: 18.6093 - mae: 18.6093\n",
            "Epoch 53/500\n",
            "2/2 [==============================] - 0s 4ms/step - loss: 23.9311 - mae: 23.9311\n",
            "Epoch 54/500\n",
            "2/2 [==============================] - 0s 9ms/step - loss: 23.9605 - mae: 23.9605\n",
            "Epoch 55/500\n",
            "2/2 [==============================] - 0s 5ms/step - loss: 23.1790 - mae: 23.1790\n",
            "Epoch 56/500\n",
            "2/2 [==============================] - 0s 5ms/step - loss: 10.8650 - mae: 10.8650\n",
            "Epoch 57/500\n",
            "2/2 [==============================] - 0s 8ms/step - loss: 12.7280 - mae: 12.7280\n",
            "Epoch 58/500\n",
            "2/2 [==============================] - 0s 9ms/step - loss: 9.5862 - mae: 9.5862\n",
            "Epoch 59/500\n",
            "2/2 [==============================] - 0s 9ms/step - loss: 12.5087 - mae: 12.5087\n",
            "Epoch 60/500\n",
            "2/2 [==============================] - 0s 12ms/step - loss: 12.3144 - mae: 12.3144\n",
            "Epoch 61/500\n",
            "2/2 [==============================] - 0s 5ms/step - loss: 17.4750 - mae: 17.4750\n",
            "Epoch 62/500\n",
            "2/2 [==============================] - 0s 9ms/step - loss: 10.6010 - mae: 10.6010\n",
            "Epoch 63/500\n",
            "2/2 [==============================] - 0s 5ms/step - loss: 10.4823 - mae: 10.4823\n",
            "Epoch 64/500\n",
            "2/2 [==============================] - 0s 4ms/step - loss: 24.8895 - mae: 24.8895\n",
            "Epoch 65/500\n",
            "2/2 [==============================] - 0s 4ms/step - loss: 10.6708 - mae: 10.6708\n",
            "Epoch 66/500\n",
            "2/2 [==============================] - 0s 10ms/step - loss: 22.0094 - mae: 22.0094\n",
            "Epoch 67/500\n",
            "2/2 [==============================] - 0s 7ms/step - loss: 10.1903 - mae: 10.1903\n",
            "Epoch 68/500\n",
            "2/2 [==============================] - 0s 8ms/step - loss: 13.3612 - mae: 13.3612\n",
            "Epoch 69/500\n",
            "2/2 [==============================] - 0s 5ms/step - loss: 11.3487 - mae: 11.3487\n",
            "Epoch 70/500\n",
            "2/2 [==============================] - 0s 4ms/step - loss: 13.5276 - mae: 13.5276\n",
            "Epoch 71/500\n",
            "2/2 [==============================] - 0s 9ms/step - loss: 15.5290 - mae: 15.5290\n",
            "Epoch 72/500\n",
            "2/2 [==============================] - 0s 9ms/step - loss: 11.7829 - mae: 11.7829\n",
            "Epoch 73/500\n",
            "2/2 [==============================] - 0s 5ms/step - loss: 16.5542 - mae: 16.5542\n",
            "Epoch 74/500\n",
            "2/2 [==============================] - 0s 5ms/step - loss: 24.0500 - mae: 24.0500\n",
            "Epoch 75/500\n",
            "2/2 [==============================] - 0s 6ms/step - loss: 9.5782 - mae: 9.5782\n",
            "Epoch 76/500\n",
            "2/2 [==============================] - 0s 4ms/step - loss: 12.4276 - mae: 12.4276\n",
            "Epoch 77/500\n",
            "2/2 [==============================] - 0s 4ms/step - loss: 16.6655 - mae: 16.6655\n",
            "Epoch 78/500\n",
            "2/2 [==============================] - 0s 6ms/step - loss: 9.0482 - mae: 9.0482\n",
            "Epoch 79/500\n",
            "2/2 [==============================] - 0s 6ms/step - loss: 24.0047 - mae: 24.0047\n",
            "Epoch 80/500\n",
            "2/2 [==============================] - 0s 8ms/step - loss: 26.7906 - mae: 26.7906\n",
            "Epoch 81/500\n",
            "2/2 [==============================] - 0s 6ms/step - loss: 11.6779 - mae: 11.6779\n",
            "Epoch 82/500\n",
            "2/2 [==============================] - 0s 6ms/step - loss: 12.0013 - mae: 12.0013\n",
            "Epoch 83/500\n",
            "2/2 [==============================] - 0s 5ms/step - loss: 17.3902 - mae: 17.3902\n",
            "Epoch 84/500\n",
            "2/2 [==============================] - 0s 4ms/step - loss: 7.2443 - mae: 7.2443\n",
            "Epoch 85/500\n",
            "2/2 [==============================] - 0s 6ms/step - loss: 14.9353 - mae: 14.9353\n",
            "Epoch 86/500\n",
            "2/2 [==============================] - 0s 8ms/step - loss: 15.2603 - mae: 15.2603\n",
            "Epoch 87/500\n",
            "2/2 [==============================] - 0s 6ms/step - loss: 19.0617 - mae: 19.0617\n",
            "Epoch 88/500\n",
            "2/2 [==============================] - 0s 17ms/step - loss: 29.9393 - mae: 29.9393\n",
            "Epoch 89/500\n",
            "2/2 [==============================] - 0s 14ms/step - loss: 10.1777 - mae: 10.1777\n",
            "Epoch 90/500\n",
            "2/2 [==============================] - 0s 9ms/step - loss: 21.6279 - mae: 21.6279\n",
            "Epoch 91/500\n",
            "2/2 [==============================] - 0s 11ms/step - loss: 10.5845 - mae: 10.5845\n",
            "Epoch 92/500\n",
            "2/2 [==============================] - 0s 5ms/step - loss: 18.4967 - mae: 18.4967\n",
            "Epoch 93/500\n",
            "2/2 [==============================] - 0s 4ms/step - loss: 8.1414 - mae: 8.1414\n",
            "Epoch 94/500\n",
            "2/2 [==============================] - 0s 4ms/step - loss: 11.3521 - mae: 11.3521\n",
            "Epoch 95/500\n",
            "2/2 [==============================] - 0s 4ms/step - loss: 25.4377 - mae: 25.4377\n",
            "Epoch 96/500\n",
            "2/2 [==============================] - 0s 7ms/step - loss: 10.9736 - mae: 10.9736\n",
            "Epoch 97/500\n",
            "2/2 [==============================] - 0s 20ms/step - loss: 16.3058 - mae: 16.3058\n",
            "Epoch 98/500\n",
            "2/2 [==============================] - 0s 6ms/step - loss: 6.8242 - mae: 6.8242\n",
            "Epoch 99/500\n",
            "2/2 [==============================] - 0s 4ms/step - loss: 11.6881 - mae: 11.6881\n",
            "Epoch 100/500\n",
            "2/2 [==============================] - 0s 5ms/step - loss: 23.5152 - mae: 23.5152\n",
            "Epoch 101/500\n",
            "2/2 [==============================] - 0s 4ms/step - loss: 21.2361 - mae: 21.2361\n",
            "Epoch 102/500\n",
            "2/2 [==============================] - 0s 5ms/step - loss: 10.7262 - mae: 10.7262\n",
            "Epoch 103/500\n",
            "2/2 [==============================] - 0s 10ms/step - loss: 9.1451 - mae: 9.1451\n",
            "Epoch 104/500\n",
            "2/2 [==============================] - 0s 15ms/step - loss: 23.8509 - mae: 23.8509\n",
            "Epoch 105/500\n",
            "2/2 [==============================] - 0s 7ms/step - loss: 10.8199 - mae: 10.8199\n",
            "Epoch 106/500\n",
            "2/2 [==============================] - 0s 4ms/step - loss: 11.2818 - mae: 11.2818\n",
            "Epoch 107/500\n",
            "2/2 [==============================] - 0s 5ms/step - loss: 21.4484 - mae: 21.4484\n",
            "Epoch 108/500\n",
            "2/2 [==============================] - 0s 4ms/step - loss: 6.5656 - mae: 6.5656\n",
            "Epoch 109/500\n",
            "2/2 [==============================] - 0s 8ms/step - loss: 13.2970 - mae: 13.2970\n",
            "Epoch 110/500\n",
            "2/2 [==============================] - 0s 8ms/step - loss: 7.9718 - mae: 7.9718\n",
            "Epoch 111/500\n",
            "2/2 [==============================] - 0s 6ms/step - loss: 15.7538 - mae: 15.7538\n",
            "Epoch 112/500\n",
            "2/2 [==============================] - 0s 4ms/step - loss: 8.7249 - mae: 8.7249\n",
            "Epoch 113/500\n",
            "2/2 [==============================] - 0s 7ms/step - loss: 22.6810 - mae: 22.6810\n",
            "Epoch 114/500\n",
            "2/2 [==============================] - 0s 6ms/step - loss: 19.0239 - mae: 19.0239\n",
            "Epoch 115/500\n",
            "2/2 [==============================] - 0s 4ms/step - loss: 11.0675 - mae: 11.0675\n",
            "Epoch 116/500\n",
            "2/2 [==============================] - 0s 4ms/step - loss: 23.1344 - mae: 23.1344\n",
            "Epoch 117/500\n",
            "2/2 [==============================] - 0s 18ms/step - loss: 9.5569 - mae: 9.5569\n",
            "Epoch 118/500\n",
            "2/2 [==============================] - 0s 5ms/step - loss: 10.6251 - mae: 10.6251\n",
            "Epoch 119/500\n",
            "2/2 [==============================] - 0s 5ms/step - loss: 8.0217 - mae: 8.0217\n",
            "Epoch 120/500\n",
            "2/2 [==============================] - 0s 12ms/step - loss: 29.4931 - mae: 29.4931\n",
            "Epoch 121/500\n",
            "2/2 [==============================] - 0s 5ms/step - loss: 8.0598 - mae: 8.0598\n",
            "Epoch 122/500\n",
            "2/2 [==============================] - 0s 10ms/step - loss: 28.1544 - mae: 28.1544\n",
            "Epoch 123/500\n",
            "2/2 [==============================] - 0s 9ms/step - loss: 32.7115 - mae: 32.7115\n",
            "Epoch 124/500\n",
            "2/2 [==============================] - 0s 4ms/step - loss: 19.4864 - mae: 19.4864\n",
            "Epoch 125/500\n",
            "2/2 [==============================] - 0s 4ms/step - loss: 9.5483 - mae: 9.5483\n",
            "Epoch 126/500\n",
            "2/2 [==============================] - 0s 3ms/step - loss: 9.6182 - mae: 9.6182\n",
            "Epoch 127/500\n",
            "2/2 [==============================] - 0s 3ms/step - loss: 12.8145 - mae: 12.8145\n",
            "Epoch 128/500\n",
            "2/2 [==============================] - 0s 4ms/step - loss: 13.3488 - mae: 13.3488\n",
            "Epoch 129/500\n",
            "2/2 [==============================] - 0s 4ms/step - loss: 10.1912 - mae: 10.1912\n",
            "Epoch 130/500\n",
            "2/2 [==============================] - 0s 3ms/step - loss: 17.5201 - mae: 17.5201\n",
            "Epoch 131/500\n",
            "2/2 [==============================] - 0s 5ms/step - loss: 9.5011 - mae: 9.5011\n",
            "Epoch 132/500\n",
            "2/2 [==============================] - 0s 6ms/step - loss: 17.4343 - mae: 17.4343\n",
            "Epoch 133/500\n",
            "2/2 [==============================] - 0s 9ms/step - loss: 7.0883 - mae: 7.0883\n",
            "Epoch 134/500\n",
            "2/2 [==============================] - 0s 9ms/step - loss: 23.8116 - mae: 23.8116\n",
            "Epoch 135/500\n",
            "2/2 [==============================] - 0s 10ms/step - loss: 16.6878 - mae: 16.6878\n",
            "Epoch 136/500\n",
            "2/2 [==============================] - 0s 5ms/step - loss: 14.8983 - mae: 14.8983\n",
            "Epoch 137/500\n",
            "2/2 [==============================] - 0s 9ms/step - loss: 23.2174 - mae: 23.2174\n",
            "Epoch 138/500\n",
            "2/2 [==============================] - 0s 6ms/step - loss: 9.1483 - mae: 9.1483\n",
            "Epoch 139/500\n",
            "2/2 [==============================] - 0s 7ms/step - loss: 8.9235 - mae: 8.9235\n",
            "Epoch 140/500\n",
            "2/2 [==============================] - 0s 5ms/step - loss: 16.5205 - mae: 16.5205\n",
            "Epoch 141/500\n",
            "2/2 [==============================] - 0s 7ms/step - loss: 8.4126 - mae: 8.4126\n",
            "Epoch 142/500\n",
            "2/2 [==============================] - 0s 6ms/step - loss: 37.0675 - mae: 37.0675\n",
            "Epoch 143/500\n",
            "2/2 [==============================] - 0s 7ms/step - loss: 25.6675 - mae: 25.6675\n",
            "Epoch 144/500\n",
            "2/2 [==============================] - 0s 11ms/step - loss: 9.5275 - mae: 9.5275\n",
            "Epoch 145/500\n",
            "2/2 [==============================] - 0s 6ms/step - loss: 26.5761 - mae: 26.5761\n",
            "Epoch 146/500\n",
            "2/2 [==============================] - 0s 8ms/step - loss: 8.7564 - mae: 8.7564\n",
            "Epoch 147/500\n",
            "2/2 [==============================] - 0s 4ms/step - loss: 15.5842 - mae: 15.5842\n",
            "Epoch 148/500\n",
            "2/2 [==============================] - 0s 4ms/step - loss: 18.2636 - mae: 18.2636\n",
            "Epoch 149/500\n",
            "2/2 [==============================] - 0s 9ms/step - loss: 8.2248 - mae: 8.2248\n",
            "Epoch 150/500\n",
            "2/2 [==============================] - 0s 6ms/step - loss: 7.4998 - mae: 7.4998\n",
            "Epoch 151/500\n",
            "2/2 [==============================] - 0s 11ms/step - loss: 18.4313 - mae: 18.4313\n",
            "Epoch 152/500\n",
            "2/2 [==============================] - 0s 4ms/step - loss: 10.3047 - mae: 10.3047\n",
            "Epoch 153/500\n",
            "2/2 [==============================] - 0s 3ms/step - loss: 29.7985 - mae: 29.7985\n",
            "Epoch 154/500\n",
            "2/2 [==============================] - 0s 4ms/step - loss: 10.5197 - mae: 10.5197\n",
            "Epoch 155/500\n",
            "2/2 [==============================] - 0s 9ms/step - loss: 15.4209 - mae: 15.4209\n",
            "Epoch 156/500\n",
            "2/2 [==============================] - 0s 4ms/step - loss: 16.9469 - mae: 16.9469\n",
            "Epoch 157/500\n",
            "2/2 [==============================] - 0s 4ms/step - loss: 33.0039 - mae: 33.0039\n",
            "Epoch 158/500\n",
            "2/2 [==============================] - 0s 27ms/step - loss: 10.7477 - mae: 10.7477\n",
            "Epoch 159/500\n",
            "2/2 [==============================] - 0s 4ms/step - loss: 8.9216 - mae: 8.9216\n",
            "Epoch 160/500\n",
            "2/2 [==============================] - 0s 3ms/step - loss: 22.2704 - mae: 22.2704\n",
            "Epoch 161/500\n",
            "2/2 [==============================] - 0s 7ms/step - loss: 11.7586 - mae: 11.7586\n",
            "Epoch 162/500\n",
            "2/2 [==============================] - 0s 7ms/step - loss: 21.7057 - mae: 21.7057\n",
            "Epoch 163/500\n",
            "2/2 [==============================] - 0s 4ms/step - loss: 19.3732 - mae: 19.3732\n",
            "Epoch 164/500\n",
            "2/2 [==============================] - 0s 6ms/step - loss: 11.2925 - mae: 11.2925\n",
            "Epoch 165/500\n",
            "2/2 [==============================] - 0s 9ms/step - loss: 11.6270 - mae: 11.6270\n",
            "Epoch 166/500\n",
            "2/2 [==============================] - 0s 10ms/step - loss: 21.4071 - mae: 21.4071\n",
            "Epoch 167/500\n",
            "2/2 [==============================] - 0s 6ms/step - loss: 26.7415 - mae: 26.7415\n",
            "Epoch 168/500\n",
            "2/2 [==============================] - 0s 5ms/step - loss: 9.9376 - mae: 9.9376\n",
            "Epoch 169/500\n",
            "2/2 [==============================] - 0s 4ms/step - loss: 23.0202 - mae: 23.0202\n",
            "Epoch 170/500\n",
            "2/2 [==============================] - 0s 4ms/step - loss: 10.0748 - mae: 10.0748\n",
            "Epoch 171/500\n",
            "2/2 [==============================] - 0s 11ms/step - loss: 17.8491 - mae: 17.8491\n",
            "Epoch 172/500\n",
            "2/2 [==============================] - 0s 10ms/step - loss: 29.3120 - mae: 29.3120\n",
            "Epoch 173/500\n",
            "2/2 [==============================] - 0s 5ms/step - loss: 16.9020 - mae: 16.9020\n",
            "Epoch 174/500\n",
            "2/2 [==============================] - 0s 10ms/step - loss: 11.1685 - mae: 11.1685\n",
            "Epoch 175/500\n",
            "2/2 [==============================] - 0s 12ms/step - loss: 27.4614 - mae: 27.4614\n",
            "Epoch 176/500\n",
            "2/2 [==============================] - 0s 3ms/step - loss: 8.3984 - mae: 8.3984\n",
            "Epoch 177/500\n",
            "2/2 [==============================] - 0s 8ms/step - loss: 9.3561 - mae: 9.3561\n",
            "Epoch 178/500\n",
            "2/2 [==============================] - 0s 9ms/step - loss: 18.5410 - mae: 18.5410\n",
            "Epoch 179/500\n",
            "2/2 [==============================] - 0s 4ms/step - loss: 10.4187 - mae: 10.4187\n",
            "Epoch 180/500\n",
            "2/2 [==============================] - 0s 14ms/step - loss: 7.9649 - mae: 7.9649\n",
            "Epoch 181/500\n",
            "2/2 [==============================] - 0s 4ms/step - loss: 17.7391 - mae: 17.7391\n",
            "Epoch 182/500\n",
            "2/2 [==============================] - 0s 4ms/step - loss: 11.1591 - mae: 11.1591\n",
            "Epoch 183/500\n",
            "2/2 [==============================] - 0s 4ms/step - loss: 12.3819 - mae: 12.3819\n",
            "Epoch 184/500\n",
            "2/2 [==============================] - 0s 6ms/step - loss: 27.3570 - mae: 27.3570\n",
            "Epoch 185/500\n",
            "2/2 [==============================] - 0s 4ms/step - loss: 7.5432 - mae: 7.5432\n",
            "Epoch 186/500\n",
            "2/2 [==============================] - 0s 12ms/step - loss: 15.9392 - mae: 15.9392\n",
            "Epoch 187/500\n",
            "2/2 [==============================] - 0s 8ms/step - loss: 8.5716 - mae: 8.5716\n",
            "Epoch 188/500\n",
            "2/2 [==============================] - 0s 20ms/step - loss: 28.8909 - mae: 28.8909\n",
            "Epoch 189/500\n",
            "2/2 [==============================] - 0s 5ms/step - loss: 13.1350 - mae: 13.1350\n",
            "Epoch 190/500\n",
            "2/2 [==============================] - 0s 9ms/step - loss: 18.2722 - mae: 18.2722\n",
            "Epoch 191/500\n",
            "2/2 [==============================] - 0s 4ms/step - loss: 13.6930 - mae: 13.6930\n",
            "Epoch 192/500\n",
            "2/2 [==============================] - 0s 7ms/step - loss: 13.6921 - mae: 13.6921\n",
            "Epoch 193/500\n",
            "2/2 [==============================] - 0s 4ms/step - loss: 28.5466 - mae: 28.5466\n",
            "Epoch 194/500\n",
            "2/2 [==============================] - 0s 4ms/step - loss: 7.1104 - mae: 7.1104\n",
            "Epoch 195/500\n",
            "2/2 [==============================] - 0s 9ms/step - loss: 7.0508 - mae: 7.0508\n",
            "Epoch 196/500\n",
            "2/2 [==============================] - 0s 4ms/step - loss: 21.9487 - mae: 21.9487\n",
            "Epoch 197/500\n",
            "2/2 [==============================] - 0s 8ms/step - loss: 20.9637 - mae: 20.9637\n",
            "Epoch 198/500\n",
            "2/2 [==============================] - 0s 4ms/step - loss: 12.5403 - mae: 12.5403\n",
            "Epoch 199/500\n",
            "2/2 [==============================] - 0s 9ms/step - loss: 18.0136 - mae: 18.0136\n",
            "Epoch 200/500\n",
            "2/2 [==============================] - 0s 4ms/step - loss: 13.8459 - mae: 13.8459\n",
            "Epoch 201/500\n",
            "2/2 [==============================] - 0s 6ms/step - loss: 6.0286 - mae: 6.0286\n",
            "Epoch 202/500\n",
            "2/2 [==============================] - 0s 5ms/step - loss: 22.8755 - mae: 22.8755\n",
            "Epoch 203/500\n",
            "2/2 [==============================] - 0s 4ms/step - loss: 8.9480 - mae: 8.9480\n",
            "Epoch 204/500\n",
            "2/2 [==============================] - 0s 6ms/step - loss: 18.8538 - mae: 18.8538\n",
            "Epoch 205/500\n",
            "2/2 [==============================] - 0s 4ms/step - loss: 9.3581 - mae: 9.3581\n",
            "Epoch 206/500\n",
            "2/2 [==============================] - 0s 8ms/step - loss: 10.4259 - mae: 10.4259\n",
            "Epoch 207/500\n",
            "2/2 [==============================] - 0s 6ms/step - loss: 21.1455 - mae: 21.1455\n",
            "Epoch 208/500\n",
            "2/2 [==============================] - 0s 6ms/step - loss: 16.4951 - mae: 16.4951\n",
            "Epoch 209/500\n",
            "2/2 [==============================] - 0s 12ms/step - loss: 14.4005 - mae: 14.4005\n",
            "Epoch 210/500\n",
            "2/2 [==============================] - 0s 4ms/step - loss: 19.4247 - mae: 19.4247\n",
            "Epoch 211/500\n",
            "2/2 [==============================] - 0s 8ms/step - loss: 10.3103 - mae: 10.3103\n",
            "Epoch 212/500\n",
            "2/2 [==============================] - 0s 4ms/step - loss: 20.2282 - mae: 20.2282\n",
            "Epoch 213/500\n",
            "2/2 [==============================] - 0s 8ms/step - loss: 15.0450 - mae: 15.0450\n",
            "Epoch 214/500\n",
            "2/2 [==============================] - 0s 9ms/step - loss: 14.5920 - mae: 14.5920\n",
            "Epoch 215/500\n",
            "2/2 [==============================] - 0s 4ms/step - loss: 23.3072 - mae: 23.3072\n",
            "Epoch 216/500\n",
            "2/2 [==============================] - 0s 9ms/step - loss: 13.3531 - mae: 13.3531\n",
            "Epoch 217/500\n",
            "2/2 [==============================] - 0s 4ms/step - loss: 9.8511 - mae: 9.8511\n",
            "Epoch 218/500\n",
            "2/2 [==============================] - 0s 9ms/step - loss: 12.5546 - mae: 12.5546\n",
            "Epoch 219/500\n",
            "2/2 [==============================] - 0s 16ms/step - loss: 4.9541 - mae: 4.9541\n",
            "Epoch 220/500\n",
            "2/2 [==============================] - 0s 15ms/step - loss: 7.1207 - mae: 7.1207\n",
            "Epoch 221/500\n",
            "2/2 [==============================] - 0s 8ms/step - loss: 35.4315 - mae: 35.4315\n",
            "Epoch 222/500\n",
            "2/2 [==============================] - 0s 7ms/step - loss: 34.8317 - mae: 34.8317\n",
            "Epoch 223/500\n",
            "2/2 [==============================] - 0s 25ms/step - loss: 7.9906 - mae: 7.9906\n",
            "Epoch 224/500\n",
            "2/2 [==============================] - 0s 7ms/step - loss: 14.7078 - mae: 14.7078\n",
            "Epoch 225/500\n",
            "2/2 [==============================] - 0s 4ms/step - loss: 16.7286 - mae: 16.7286\n",
            "Epoch 226/500\n",
            "2/2 [==============================] - 0s 9ms/step - loss: 15.9411 - mae: 15.9411\n",
            "Epoch 227/500\n",
            "2/2 [==============================] - 0s 9ms/step - loss: 16.1742 - mae: 16.1742\n",
            "Epoch 228/500\n",
            "2/2 [==============================] - 0s 5ms/step - loss: 9.3288 - mae: 9.3288\n",
            "Epoch 229/500\n",
            "2/2 [==============================] - 0s 4ms/step - loss: 17.9942 - mae: 17.9942\n",
            "Epoch 230/500\n",
            "2/2 [==============================] - 0s 4ms/step - loss: 15.5704 - mae: 15.5704\n",
            "Epoch 231/500\n",
            "2/2 [==============================] - 0s 4ms/step - loss: 21.1158 - mae: 21.1158\n",
            "Epoch 232/500\n",
            "2/2 [==============================] - 0s 17ms/step - loss: 25.4869 - mae: 25.4869\n",
            "Epoch 233/500\n",
            "2/2 [==============================] - 0s 8ms/step - loss: 16.4840 - mae: 16.4840\n",
            "Epoch 234/500\n",
            "2/2 [==============================] - 0s 4ms/step - loss: 7.3178 - mae: 7.3178\n",
            "Epoch 235/500\n",
            "2/2 [==============================] - 0s 10ms/step - loss: 17.1356 - mae: 17.1356\n",
            "Epoch 236/500\n",
            "2/2 [==============================] - 0s 7ms/step - loss: 7.1846 - mae: 7.1846\n",
            "Epoch 237/500\n",
            "2/2 [==============================] - 0s 4ms/step - loss: 9.2906 - mae: 9.2906\n",
            "Epoch 238/500\n",
            "2/2 [==============================] - 0s 4ms/step - loss: 8.1445 - mae: 8.1445\n",
            "Epoch 239/500\n",
            "2/2 [==============================] - 0s 12ms/step - loss: 17.2199 - mae: 17.2199\n",
            "Epoch 240/500\n",
            "2/2 [==============================] - 0s 5ms/step - loss: 8.9322 - mae: 8.9322\n",
            "Epoch 241/500\n",
            "2/2 [==============================] - 0s 5ms/step - loss: 13.2939 - mae: 13.2939\n",
            "Epoch 242/500\n",
            "2/2 [==============================] - 0s 7ms/step - loss: 8.8412 - mae: 8.8412\n",
            "Epoch 243/500\n",
            "2/2 [==============================] - 0s 4ms/step - loss: 19.0998 - mae: 19.0998\n",
            "Epoch 244/500\n",
            "2/2 [==============================] - 0s 4ms/step - loss: 13.9434 - mae: 13.9434\n",
            "Epoch 245/500\n",
            "2/2 [==============================] - 0s 4ms/step - loss: 14.5859 - mae: 14.5859\n",
            "Epoch 246/500\n",
            "2/2 [==============================] - 0s 10ms/step - loss: 15.7191 - mae: 15.7191\n",
            "Epoch 247/500\n",
            "2/2 [==============================] - 0s 4ms/step - loss: 17.5676 - mae: 17.5676\n",
            "Epoch 248/500\n",
            "2/2 [==============================] - 0s 11ms/step - loss: 13.1309 - mae: 13.1309\n",
            "Epoch 249/500\n",
            "2/2 [==============================] - 0s 5ms/step - loss: 14.4459 - mae: 14.4459\n",
            "Epoch 250/500\n",
            "2/2 [==============================] - 0s 5ms/step - loss: 27.8666 - mae: 27.8666\n",
            "Epoch 251/500\n",
            "2/2 [==============================] - 0s 8ms/step - loss: 7.4973 - mae: 7.4973\n",
            "Epoch 252/500\n",
            "2/2 [==============================] - 0s 4ms/step - loss: 37.9858 - mae: 37.9858\n",
            "Epoch 253/500\n",
            "2/2 [==============================] - 0s 16ms/step - loss: 22.8299 - mae: 22.8299\n",
            "Epoch 254/500\n",
            "2/2 [==============================] - 0s 10ms/step - loss: 7.4243 - mae: 7.4243\n",
            "Epoch 255/500\n",
            "2/2 [==============================] - 0s 9ms/step - loss: 25.7235 - mae: 25.7235\n",
            "Epoch 256/500\n",
            "2/2 [==============================] - 0s 8ms/step - loss: 13.6725 - mae: 13.6725\n",
            "Epoch 257/500\n",
            "2/2 [==============================] - 0s 7ms/step - loss: 8.3155 - mae: 8.3155\n",
            "Epoch 258/500\n",
            "2/2 [==============================] - 0s 4ms/step - loss: 13.1801 - mae: 13.1801\n",
            "Epoch 259/500\n",
            "2/2 [==============================] - 0s 3ms/step - loss: 9.5095 - mae: 9.5095\n",
            "Epoch 260/500\n",
            "2/2 [==============================] - 0s 4ms/step - loss: 38.4219 - mae: 38.4219\n",
            "Epoch 261/500\n",
            "2/2 [==============================] - 0s 4ms/step - loss: 15.4955 - mae: 15.4955\n",
            "Epoch 262/500\n",
            "2/2 [==============================] - 0s 4ms/step - loss: 5.7750 - mae: 5.7750\n",
            "Epoch 263/500\n",
            "2/2 [==============================] - 0s 5ms/step - loss: 14.6003 - mae: 14.6003\n",
            "Epoch 264/500\n",
            "2/2 [==============================] - 0s 4ms/step - loss: 18.7578 - mae: 18.7578\n",
            "Epoch 265/500\n",
            "2/2 [==============================] - 0s 4ms/step - loss: 13.0671 - mae: 13.0671\n",
            "Epoch 266/500\n",
            "2/2 [==============================] - 0s 4ms/step - loss: 10.5376 - mae: 10.5376\n",
            "Epoch 267/500\n",
            "2/2 [==============================] - 0s 5ms/step - loss: 6.4797 - mae: 6.4797\n",
            "Epoch 268/500\n",
            "2/2 [==============================] - 0s 4ms/step - loss: 23.1140 - mae: 23.1140\n",
            "Epoch 269/500\n",
            "2/2 [==============================] - 0s 4ms/step - loss: 26.6719 - mae: 26.6719\n",
            "Epoch 270/500\n",
            "2/2 [==============================] - 0s 4ms/step - loss: 7.5486 - mae: 7.5486\n",
            "Epoch 271/500\n",
            "2/2 [==============================] - 0s 4ms/step - loss: 12.6606 - mae: 12.6606\n",
            "Epoch 272/500\n",
            "2/2 [==============================] - 0s 4ms/step - loss: 25.9361 - mae: 25.9361\n",
            "Epoch 273/500\n",
            "2/2 [==============================] - 0s 4ms/step - loss: 12.8110 - mae: 12.8110\n",
            "Epoch 274/500\n",
            "2/2 [==============================] - 0s 4ms/step - loss: 13.9423 - mae: 13.9423\n",
            "Epoch 275/500\n",
            "2/2 [==============================] - 0s 4ms/step - loss: 29.7558 - mae: 29.7558\n",
            "Epoch 276/500\n",
            "2/2 [==============================] - 0s 4ms/step - loss: 9.5676 - mae: 9.5676\n",
            "Epoch 277/500\n",
            "2/2 [==============================] - 0s 4ms/step - loss: 29.9415 - mae: 29.9415\n",
            "Epoch 278/500\n",
            "2/2 [==============================] - 0s 6ms/step - loss: 10.4483 - mae: 10.4483\n",
            "Epoch 279/500\n",
            "2/2 [==============================] - 0s 5ms/step - loss: 15.9119 - mae: 15.9119\n",
            "Epoch 280/500\n",
            "2/2 [==============================] - 0s 4ms/step - loss: 20.8274 - mae: 20.8274\n",
            "Epoch 281/500\n",
            "2/2 [==============================] - 0s 8ms/step - loss: 18.7002 - mae: 18.7002\n",
            "Epoch 282/500\n",
            "2/2 [==============================] - 0s 4ms/step - loss: 7.0859 - mae: 7.0859\n",
            "Epoch 283/500\n",
            "2/2 [==============================] - 0s 4ms/step - loss: 8.2061 - mae: 8.2061\n",
            "Epoch 284/500\n",
            "2/2 [==============================] - 0s 5ms/step - loss: 25.2765 - mae: 25.2765\n",
            "Epoch 285/500\n",
            "2/2 [==============================] - 0s 5ms/step - loss: 13.9516 - mae: 13.9516\n",
            "Epoch 286/500\n",
            "2/2 [==============================] - 0s 4ms/step - loss: 6.8989 - mae: 6.8989\n",
            "Epoch 287/500\n",
            "2/2 [==============================] - 0s 3ms/step - loss: 24.4156 - mae: 24.4156\n",
            "Epoch 288/500\n",
            "2/2 [==============================] - 0s 14ms/step - loss: 20.5091 - mae: 20.5091\n",
            "Epoch 289/500\n",
            "2/2 [==============================] - 0s 12ms/step - loss: 11.8721 - mae: 11.8721\n",
            "Epoch 290/500\n",
            "2/2 [==============================] - 0s 9ms/step - loss: 16.4528 - mae: 16.4528\n",
            "Epoch 291/500\n",
            "2/2 [==============================] - 0s 6ms/step - loss: 16.6869 - mae: 16.6869\n",
            "Epoch 292/500\n",
            "2/2 [==============================] - 0s 13ms/step - loss: 8.8015 - mae: 8.8015\n",
            "Epoch 293/500\n",
            "2/2 [==============================] - 0s 4ms/step - loss: 15.6625 - mae: 15.6625\n",
            "Epoch 294/500\n",
            "2/2 [==============================] - 0s 13ms/step - loss: 23.5109 - mae: 23.5109\n",
            "Epoch 295/500\n",
            "2/2 [==============================] - 0s 13ms/step - loss: 16.1696 - mae: 16.1696\n",
            "Epoch 296/500\n",
            "2/2 [==============================] - 0s 5ms/step - loss: 4.9178 - mae: 4.9178\n",
            "Epoch 297/500\n",
            "2/2 [==============================] - 0s 14ms/step - loss: 11.0168 - mae: 11.0168\n",
            "Epoch 298/500\n",
            "2/2 [==============================] - 0s 10ms/step - loss: 23.3306 - mae: 23.3306\n",
            "Epoch 299/500\n",
            "2/2 [==============================] - 0s 8ms/step - loss: 17.3706 - mae: 17.3706\n",
            "Epoch 300/500\n",
            "2/2 [==============================] - 0s 4ms/step - loss: 6.9121 - mae: 6.9121\n",
            "Epoch 301/500\n",
            "2/2 [==============================] - 0s 4ms/step - loss: 24.7556 - mae: 24.7556\n",
            "Epoch 302/500\n",
            "2/2 [==============================] - 0s 4ms/step - loss: 8.2249 - mae: 8.2249\n",
            "Epoch 303/500\n",
            "2/2 [==============================] - 0s 5ms/step - loss: 21.1743 - mae: 21.1743\n",
            "Epoch 304/500\n",
            "2/2 [==============================] - 0s 4ms/step - loss: 13.7273 - mae: 13.7273\n",
            "Epoch 305/500\n",
            "2/2 [==============================] - 0s 4ms/step - loss: 7.0836 - mae: 7.0836\n",
            "Epoch 306/500\n",
            "2/2 [==============================] - 0s 4ms/step - loss: 19.3058 - mae: 19.3058\n",
            "Epoch 307/500\n",
            "2/2 [==============================] - 0s 7ms/step - loss: 8.9915 - mae: 8.9915\n",
            "Epoch 308/500\n",
            "2/2 [==============================] - 0s 10ms/step - loss: 20.5884 - mae: 20.5884\n",
            "Epoch 309/500\n",
            "2/2 [==============================] - 0s 4ms/step - loss: 13.5904 - mae: 13.5904\n",
            "Epoch 310/500\n",
            "2/2 [==============================] - 0s 8ms/step - loss: 6.6688 - mae: 6.6688\n",
            "Epoch 311/500\n",
            "2/2 [==============================] - 0s 4ms/step - loss: 13.6629 - mae: 13.6629\n",
            "Epoch 312/500\n",
            "2/2 [==============================] - 0s 4ms/step - loss: 30.0170 - mae: 30.0170\n",
            "Epoch 313/500\n",
            "2/2 [==============================] - 0s 4ms/step - loss: 7.5532 - mae: 7.5532\n",
            "Epoch 314/500\n",
            "2/2 [==============================] - 0s 4ms/step - loss: 9.9583 - mae: 9.9583\n",
            "Epoch 315/500\n",
            "2/2 [==============================] - 0s 4ms/step - loss: 23.8634 - mae: 23.8634\n",
            "Epoch 316/500\n",
            "2/2 [==============================] - 0s 4ms/step - loss: 16.2031 - mae: 16.2031\n",
            "Epoch 317/500\n",
            "2/2 [==============================] - 0s 4ms/step - loss: 20.7061 - mae: 20.7061\n",
            "Epoch 318/500\n",
            "2/2 [==============================] - 0s 4ms/step - loss: 8.7425 - mae: 8.7425\n",
            "Epoch 319/500\n",
            "2/2 [==============================] - 0s 4ms/step - loss: 15.3025 - mae: 15.3025\n",
            "Epoch 320/500\n",
            "2/2 [==============================] - 0s 13ms/step - loss: 8.3680 - mae: 8.3680\n",
            "Epoch 321/500\n",
            "2/2 [==============================] - 0s 10ms/step - loss: 14.7263 - mae: 14.7263\n",
            "Epoch 322/500\n",
            "2/2 [==============================] - 0s 7ms/step - loss: 12.8007 - mae: 12.8007\n",
            "Epoch 323/500\n",
            "2/2 [==============================] - 0s 5ms/step - loss: 19.0649 - mae: 19.0649\n",
            "Epoch 324/500\n",
            "2/2 [==============================] - 0s 8ms/step - loss: 17.0801 - mae: 17.0801\n",
            "Epoch 325/500\n",
            "2/2 [==============================] - 0s 4ms/step - loss: 9.2840 - mae: 9.2840\n",
            "Epoch 326/500\n",
            "2/2 [==============================] - 0s 5ms/step - loss: 19.8981 - mae: 19.8981\n",
            "Epoch 327/500\n",
            "2/2 [==============================] - 0s 4ms/step - loss: 28.1938 - mae: 28.1938\n",
            "Epoch 328/500\n",
            "2/2 [==============================] - 0s 11ms/step - loss: 11.6897 - mae: 11.6897\n",
            "Epoch 329/500\n",
            "2/2 [==============================] - 0s 4ms/step - loss: 16.3607 - mae: 16.3607\n",
            "Epoch 330/500\n",
            "2/2 [==============================] - 0s 5ms/step - loss: 7.3321 - mae: 7.3321\n",
            "Epoch 331/500\n",
            "2/2 [==============================] - 0s 9ms/step - loss: 22.6268 - mae: 22.6268\n",
            "Epoch 332/500\n",
            "2/2 [==============================] - 0s 13ms/step - loss: 13.3872 - mae: 13.3872\n",
            "Epoch 333/500\n",
            "2/2 [==============================] - 0s 4ms/step - loss: 10.2023 - mae: 10.2023\n",
            "Epoch 334/500\n",
            "2/2 [==============================] - 0s 8ms/step - loss: 6.6437 - mae: 6.6437\n",
            "Epoch 335/500\n",
            "2/2 [==============================] - 0s 8ms/step - loss: 6.2677 - mae: 6.2677\n",
            "Epoch 336/500\n",
            "2/2 [==============================] - 0s 14ms/step - loss: 34.5974 - mae: 34.5974\n",
            "Epoch 337/500\n",
            "2/2 [==============================] - 0s 4ms/step - loss: 27.0202 - mae: 27.0202\n",
            "Epoch 338/500\n",
            "2/2 [==============================] - 0s 4ms/step - loss: 14.0412 - mae: 14.0412\n",
            "Epoch 339/500\n",
            "2/2 [==============================] - 0s 4ms/step - loss: 11.5896 - mae: 11.5896\n",
            "Epoch 340/500\n",
            "2/2 [==============================] - 0s 4ms/step - loss: 8.8187 - mae: 8.8187\n",
            "Epoch 341/500\n",
            "2/2 [==============================] - 0s 6ms/step - loss: 23.4357 - mae: 23.4357\n",
            "Epoch 342/500\n",
            "2/2 [==============================] - 0s 4ms/step - loss: 13.9597 - mae: 13.9597\n",
            "Epoch 343/500\n",
            "2/2 [==============================] - 0s 6ms/step - loss: 14.8034 - mae: 14.8034\n",
            "Epoch 344/500\n",
            "2/2 [==============================] - 0s 8ms/step - loss: 13.3852 - mae: 13.3852\n",
            "Epoch 345/500\n",
            "2/2 [==============================] - 0s 4ms/step - loss: 31.0096 - mae: 31.0096\n",
            "Epoch 346/500\n",
            "2/2 [==============================] - 0s 4ms/step - loss: 10.6954 - mae: 10.6954\n",
            "Epoch 347/500\n",
            "2/2 [==============================] - 0s 4ms/step - loss: 25.7051 - mae: 25.7051\n",
            "Epoch 348/500\n",
            "2/2 [==============================] - 0s 4ms/step - loss: 12.9440 - mae: 12.9440\n",
            "Epoch 349/500\n",
            "2/2 [==============================] - 0s 4ms/step - loss: 13.1442 - mae: 13.1442\n",
            "Epoch 350/500\n",
            "2/2 [==============================] - 0s 4ms/step - loss: 15.4345 - mae: 15.4345\n",
            "Epoch 351/500\n",
            "2/2 [==============================] - 0s 4ms/step - loss: 32.9466 - mae: 32.9466\n",
            "Epoch 352/500\n",
            "2/2 [==============================] - 0s 4ms/step - loss: 14.1855 - mae: 14.1855\n",
            "Epoch 353/500\n",
            "2/2 [==============================] - 0s 4ms/step - loss: 15.9050 - mae: 15.9050\n",
            "Epoch 354/500\n",
            "2/2 [==============================] - 0s 4ms/step - loss: 19.0550 - mae: 19.0550\n",
            "Epoch 355/500\n",
            "2/2 [==============================] - 0s 4ms/step - loss: 34.2137 - mae: 34.2137\n",
            "Epoch 356/500\n",
            "2/2 [==============================] - 0s 7ms/step - loss: 8.2785 - mae: 8.2785\n",
            "Epoch 357/500\n",
            "2/2 [==============================] - 0s 4ms/step - loss: 21.7663 - mae: 21.7663\n",
            "Epoch 358/500\n",
            "2/2 [==============================] - 0s 5ms/step - loss: 19.8951 - mae: 19.8951\n",
            "Epoch 359/500\n",
            "2/2 [==============================] - 0s 4ms/step - loss: 11.0777 - mae: 11.0777\n",
            "Epoch 360/500\n",
            "2/2 [==============================] - 0s 8ms/step - loss: 20.3233 - mae: 20.3233\n",
            "Epoch 361/500\n",
            "2/2 [==============================] - 0s 9ms/step - loss: 10.9363 - mae: 10.9363\n",
            "Epoch 362/500\n",
            "2/2 [==============================] - 0s 9ms/step - loss: 6.8125 - mae: 6.8125\n",
            "Epoch 363/500\n",
            "2/2 [==============================] - 0s 8ms/step - loss: 23.8853 - mae: 23.8853\n",
            "Epoch 364/500\n",
            "2/2 [==============================] - 0s 9ms/step - loss: 29.6104 - mae: 29.6104\n",
            "Epoch 365/500\n",
            "2/2 [==============================] - 0s 9ms/step - loss: 8.3068 - mae: 8.3068\n",
            "Epoch 366/500\n",
            "2/2 [==============================] - 0s 7ms/step - loss: 6.0967 - mae: 6.0967\n",
            "Epoch 367/500\n",
            "2/2 [==============================] - 0s 4ms/step - loss: 34.7389 - mae: 34.7389\n",
            "Epoch 368/500\n",
            "2/2 [==============================] - 0s 8ms/step - loss: 7.3758 - mae: 7.3758\n",
            "Epoch 369/500\n",
            "2/2 [==============================] - 0s 6ms/step - loss: 9.1808 - mae: 9.1808\n",
            "Epoch 370/500\n",
            "2/2 [==============================] - 0s 4ms/step - loss: 10.8745 - mae: 10.8745\n",
            "Epoch 371/500\n",
            "2/2 [==============================] - 0s 6ms/step - loss: 8.9413 - mae: 8.9413\n",
            "Epoch 372/500\n",
            "2/2 [==============================] - 0s 8ms/step - loss: 7.7081 - mae: 7.7081\n",
            "Epoch 373/500\n",
            "2/2 [==============================] - 0s 6ms/step - loss: 25.0905 - mae: 25.0905\n",
            "Epoch 374/500\n",
            "2/2 [==============================] - 0s 6ms/step - loss: 13.1497 - mae: 13.1497\n",
            "Epoch 375/500\n",
            "2/2 [==============================] - 0s 4ms/step - loss: 11.8824 - mae: 11.8824\n",
            "Epoch 376/500\n",
            "2/2 [==============================] - 0s 3ms/step - loss: 14.1579 - mae: 14.1579\n",
            "Epoch 377/500\n",
            "2/2 [==============================] - 0s 6ms/step - loss: 15.7410 - mae: 15.7410\n",
            "Epoch 378/500\n",
            "2/2 [==============================] - 0s 4ms/step - loss: 17.0775 - mae: 17.0775\n",
            "Epoch 379/500\n",
            "2/2 [==============================] - 0s 5ms/step - loss: 19.3239 - mae: 19.3239\n",
            "Epoch 380/500\n",
            "2/2 [==============================] - 0s 5ms/step - loss: 15.6782 - mae: 15.6782\n",
            "Epoch 381/500\n",
            "2/2 [==============================] - 0s 6ms/step - loss: 11.4849 - mae: 11.4849\n",
            "Epoch 382/500\n",
            "2/2 [==============================] - 0s 6ms/step - loss: 16.3580 - mae: 16.3580\n",
            "Epoch 383/500\n",
            "2/2 [==============================] - 0s 5ms/step - loss: 22.1257 - mae: 22.1257\n",
            "Epoch 384/500\n",
            "2/2 [==============================] - 0s 9ms/step - loss: 7.7243 - mae: 7.7243\n",
            "Epoch 385/500\n",
            "2/2 [==============================] - 0s 15ms/step - loss: 10.6311 - mae: 10.6311\n",
            "Epoch 386/500\n",
            "2/2 [==============================] - 0s 8ms/step - loss: 19.1282 - mae: 19.1282\n",
            "Epoch 387/500\n",
            "2/2 [==============================] - 0s 5ms/step - loss: 26.4126 - mae: 26.4126\n",
            "Epoch 388/500\n",
            "2/2 [==============================] - 0s 4ms/step - loss: 10.0671 - mae: 10.0671\n",
            "Epoch 389/500\n",
            "2/2 [==============================] - 0s 9ms/step - loss: 5.1693 - mae: 5.1693\n",
            "Epoch 390/500\n",
            "2/2 [==============================] - 0s 7ms/step - loss: 18.7570 - mae: 18.7570\n",
            "Epoch 391/500\n",
            "2/2 [==============================] - 0s 12ms/step - loss: 9.3520 - mae: 9.3520\n",
            "Epoch 392/500\n",
            "2/2 [==============================] - 0s 6ms/step - loss: 14.4207 - mae: 14.4207\n",
            "Epoch 393/500\n",
            "2/2 [==============================] - 0s 9ms/step - loss: 15.4289 - mae: 15.4289\n",
            "Epoch 394/500\n",
            "2/2 [==============================] - 0s 16ms/step - loss: 14.7596 - mae: 14.7596\n",
            "Epoch 395/500\n",
            "2/2 [==============================] - 0s 4ms/step - loss: 25.0002 - mae: 25.0002\n",
            "Epoch 396/500\n",
            "2/2 [==============================] - 0s 4ms/step - loss: 19.0796 - mae: 19.0796\n",
            "Epoch 397/500\n",
            "2/2 [==============================] - 0s 4ms/step - loss: 11.5984 - mae: 11.5984\n",
            "Epoch 398/500\n",
            "2/2 [==============================] - 0s 4ms/step - loss: 19.2599 - mae: 19.2599\n",
            "Epoch 399/500\n",
            "2/2 [==============================] - 0s 3ms/step - loss: 25.8535 - mae: 25.8535\n",
            "Epoch 400/500\n",
            "2/2 [==============================] - 0s 14ms/step - loss: 15.5250 - mae: 15.5250\n",
            "Epoch 401/500\n",
            "2/2 [==============================] - 0s 6ms/step - loss: 14.6801 - mae: 14.6801\n",
            "Epoch 402/500\n",
            "2/2 [==============================] - 0s 8ms/step - loss: 24.3076 - mae: 24.3076\n",
            "Epoch 403/500\n",
            "2/2 [==============================] - 0s 6ms/step - loss: 16.2124 - mae: 16.2124\n",
            "Epoch 404/500\n",
            "2/2 [==============================] - 0s 5ms/step - loss: 10.3996 - mae: 10.3996\n",
            "Epoch 405/500\n",
            "2/2 [==============================] - 0s 5ms/step - loss: 6.3925 - mae: 6.3925\n",
            "Epoch 406/500\n",
            "2/2 [==============================] - 0s 7ms/step - loss: 17.6788 - mae: 17.6788\n",
            "Epoch 407/500\n",
            "2/2 [==============================] - 0s 6ms/step - loss: 11.0501 - mae: 11.0501\n",
            "Epoch 408/500\n",
            "2/2 [==============================] - 0s 11ms/step - loss: 21.1209 - mae: 21.1209\n",
            "Epoch 409/500\n",
            "2/2 [==============================] - 0s 4ms/step - loss: 30.1674 - mae: 30.1674\n",
            "Epoch 410/500\n",
            "2/2 [==============================] - 0s 13ms/step - loss: 9.8741 - mae: 9.8741\n",
            "Epoch 411/500\n",
            "2/2 [==============================] - 0s 4ms/step - loss: 14.7387 - mae: 14.7387\n",
            "Epoch 412/500\n",
            "2/2 [==============================] - 0s 4ms/step - loss: 21.5004 - mae: 21.5004\n",
            "Epoch 413/500\n",
            "2/2 [==============================] - 0s 3ms/step - loss: 13.2417 - mae: 13.2417\n",
            "Epoch 414/500\n",
            "2/2 [==============================] - 0s 4ms/step - loss: 8.2460 - mae: 8.2460\n",
            "Epoch 415/500\n",
            "2/2 [==============================] - 0s 4ms/step - loss: 11.6782 - mae: 11.6782\n",
            "Epoch 416/500\n",
            "2/2 [==============================] - 0s 4ms/step - loss: 25.5727 - mae: 25.5727\n",
            "Epoch 417/500\n",
            "2/2 [==============================] - 0s 4ms/step - loss: 15.8690 - mae: 15.8690\n",
            "Epoch 418/500\n",
            "2/2 [==============================] - 0s 6ms/step - loss: 12.5473 - mae: 12.5473\n",
            "Epoch 419/500\n",
            "2/2 [==============================] - 0s 5ms/step - loss: 15.7129 - mae: 15.7129\n",
            "Epoch 420/500\n",
            "2/2 [==============================] - 0s 4ms/step - loss: 24.3871 - mae: 24.3871\n",
            "Epoch 421/500\n",
            "2/2 [==============================] - 0s 10ms/step - loss: 18.3786 - mae: 18.3786\n",
            "Epoch 422/500\n",
            "2/2 [==============================] - 0s 28ms/step - loss: 8.6609 - mae: 8.6609\n",
            "Epoch 423/500\n",
            "2/2 [==============================] - 0s 8ms/step - loss: 24.6025 - mae: 24.6025\n",
            "Epoch 424/500\n",
            "2/2 [==============================] - 0s 5ms/step - loss: 16.9540 - mae: 16.9540\n",
            "Epoch 425/500\n",
            "2/2 [==============================] - 0s 13ms/step - loss: 7.3913 - mae: 7.3913\n",
            "Epoch 426/500\n",
            "2/2 [==============================] - 0s 7ms/step - loss: 21.1530 - mae: 21.1530\n",
            "Epoch 427/500\n",
            "2/2 [==============================] - 0s 6ms/step - loss: 6.5673 - mae: 6.5673\n",
            "Epoch 428/500\n",
            "2/2 [==============================] - 0s 6ms/step - loss: 13.5453 - mae: 13.5453\n",
            "Epoch 429/500\n",
            "2/2 [==============================] - 0s 8ms/step - loss: 11.2616 - mae: 11.2616\n",
            "Epoch 430/500\n",
            "2/2 [==============================] - 0s 13ms/step - loss: 12.1675 - mae: 12.1675\n",
            "Epoch 431/500\n",
            "2/2 [==============================] - 0s 9ms/step - loss: 9.1607 - mae: 9.1607\n",
            "Epoch 432/500\n",
            "2/2 [==============================] - 0s 5ms/step - loss: 15.7152 - mae: 15.7152\n",
            "Epoch 433/500\n",
            "2/2 [==============================] - 0s 11ms/step - loss: 11.9626 - mae: 11.9626\n",
            "Epoch 434/500\n",
            "2/2 [==============================] - 0s 14ms/step - loss: 30.4535 - mae: 30.4535\n",
            "Epoch 435/500\n",
            "2/2 [==============================] - 0s 6ms/step - loss: 10.5382 - mae: 10.5382\n",
            "Epoch 436/500\n",
            "2/2 [==============================] - 0s 7ms/step - loss: 28.9480 - mae: 28.9480\n",
            "Epoch 437/500\n",
            "2/2 [==============================] - 0s 15ms/step - loss: 8.6857 - mae: 8.6857\n",
            "Epoch 438/500\n",
            "2/2 [==============================] - 0s 12ms/step - loss: 12.7586 - mae: 12.7586\n",
            "Epoch 439/500\n",
            "2/2 [==============================] - 0s 7ms/step - loss: 33.7163 - mae: 33.7163\n",
            "Epoch 440/500\n",
            "2/2 [==============================] - 0s 12ms/step - loss: 15.1680 - mae: 15.1680\n",
            "Epoch 441/500\n",
            "2/2 [==============================] - 0s 5ms/step - loss: 17.5354 - mae: 17.5354\n",
            "Epoch 442/500\n",
            "2/2 [==============================] - 0s 7ms/step - loss: 22.4134 - mae: 22.4134\n",
            "Epoch 443/500\n",
            "2/2 [==============================] - 0s 17ms/step - loss: 23.3253 - mae: 23.3253\n",
            "Epoch 444/500\n",
            "2/2 [==============================] - 0s 6ms/step - loss: 10.7960 - mae: 10.7960\n",
            "Epoch 445/500\n",
            "2/2 [==============================] - 0s 4ms/step - loss: 14.9834 - mae: 14.9834\n",
            "Epoch 446/500\n",
            "2/2 [==============================] - 0s 9ms/step - loss: 18.0933 - mae: 18.0933\n",
            "Epoch 447/500\n",
            "2/2 [==============================] - 0s 15ms/step - loss: 5.3632 - mae: 5.3632\n",
            "Epoch 448/500\n",
            "2/2 [==============================] - 0s 14ms/step - loss: 10.1440 - mae: 10.1440\n",
            "Epoch 449/500\n",
            "2/2 [==============================] - 0s 11ms/step - loss: 14.0778 - mae: 14.0778\n",
            "Epoch 450/500\n",
            "2/2 [==============================] - 0s 12ms/step - loss: 16.8503 - mae: 16.8503\n",
            "Epoch 451/500\n",
            "2/2 [==============================] - 0s 8ms/step - loss: 14.3273 - mae: 14.3273\n",
            "Epoch 452/500\n",
            "2/2 [==============================] - 0s 14ms/step - loss: 30.6796 - mae: 30.6796\n",
            "Epoch 453/500\n",
            "2/2 [==============================] - 0s 13ms/step - loss: 8.4104 - mae: 8.4104\n",
            "Epoch 454/500\n",
            "2/2 [==============================] - 0s 7ms/step - loss: 27.5886 - mae: 27.5886\n",
            "Epoch 455/500\n",
            "2/2 [==============================] - 0s 9ms/step - loss: 10.0993 - mae: 10.0993\n",
            "Epoch 456/500\n",
            "2/2 [==============================] - 0s 3ms/step - loss: 14.5513 - mae: 14.5513\n",
            "Epoch 457/500\n",
            "2/2 [==============================] - 0s 5ms/step - loss: 17.7012 - mae: 17.7012\n",
            "Epoch 458/500\n",
            "2/2 [==============================] - 0s 5ms/step - loss: 14.0189 - mae: 14.0189\n",
            "Epoch 459/500\n",
            "2/2 [==============================] - 0s 7ms/step - loss: 25.8976 - mae: 25.8976\n",
            "Epoch 460/500\n",
            "2/2 [==============================] - 0s 9ms/step - loss: 15.0505 - mae: 15.0505\n",
            "Epoch 461/500\n",
            "2/2 [==============================] - 0s 5ms/step - loss: 11.9307 - mae: 11.9307\n",
            "Epoch 462/500\n",
            "2/2 [==============================] - 0s 5ms/step - loss: 13.2718 - mae: 13.2718\n",
            "Epoch 463/500\n",
            "2/2 [==============================] - 0s 10ms/step - loss: 29.4531 - mae: 29.4531\n",
            "Epoch 464/500\n",
            "2/2 [==============================] - 0s 3ms/step - loss: 3.2807 - mae: 3.2807\n",
            "Epoch 465/500\n",
            "2/2 [==============================] - 0s 5ms/step - loss: 40.3381 - mae: 40.3381\n",
            "Epoch 466/500\n",
            "2/2 [==============================] - 0s 10ms/step - loss: 18.4123 - mae: 18.4123\n",
            "Epoch 467/500\n",
            "2/2 [==============================] - 0s 3ms/step - loss: 8.5987 - mae: 8.5987\n",
            "Epoch 468/500\n",
            "2/2 [==============================] - 0s 6ms/step - loss: 6.6655 - mae: 6.6655\n",
            "Epoch 469/500\n",
            "2/2 [==============================] - 0s 4ms/step - loss: 29.4873 - mae: 29.4873\n",
            "Epoch 470/500\n",
            "2/2 [==============================] - 0s 12ms/step - loss: 15.3477 - mae: 15.3477\n",
            "Epoch 471/500\n",
            "2/2 [==============================] - 0s 7ms/step - loss: 12.2488 - mae: 12.2488\n",
            "Epoch 472/500\n",
            "2/2 [==============================] - 0s 9ms/step - loss: 15.4688 - mae: 15.4688\n",
            "Epoch 473/500\n",
            "2/2 [==============================] - 0s 15ms/step - loss: 15.4654 - mae: 15.4654\n",
            "Epoch 474/500\n",
            "2/2 [==============================] - 0s 11ms/step - loss: 11.9290 - mae: 11.9290\n",
            "Epoch 475/500\n",
            "2/2 [==============================] - 0s 9ms/step - loss: 16.5825 - mae: 16.5825\n",
            "Epoch 476/500\n",
            "2/2 [==============================] - 0s 4ms/step - loss: 13.0074 - mae: 13.0074\n",
            "Epoch 477/500\n",
            "2/2 [==============================] - 0s 10ms/step - loss: 28.8836 - mae: 28.8836\n",
            "Epoch 478/500\n",
            "2/2 [==============================] - 0s 6ms/step - loss: 6.3405 - mae: 6.3405\n",
            "Epoch 479/500\n",
            "2/2 [==============================] - 0s 9ms/step - loss: 3.0008 - mae: 3.0008\n",
            "Epoch 480/500\n",
            "2/2 [==============================] - 0s 8ms/step - loss: 23.5366 - mae: 23.5366\n",
            "Epoch 481/500\n",
            "2/2 [==============================] - 0s 10ms/step - loss: 6.4444 - mae: 6.4444\n",
            "Epoch 482/500\n",
            "2/2 [==============================] - 0s 10ms/step - loss: 22.1868 - mae: 22.1868\n",
            "Epoch 483/500\n",
            "2/2 [==============================] - 0s 3ms/step - loss: 23.5722 - mae: 23.5722\n",
            "Epoch 484/500\n",
            "2/2 [==============================] - 0s 17ms/step - loss: 22.0395 - mae: 22.0395\n",
            "Epoch 485/500\n",
            "2/2 [==============================] - 0s 5ms/step - loss: 5.4244 - mae: 5.4244\n",
            "Epoch 486/500\n",
            "2/2 [==============================] - 0s 7ms/step - loss: 17.9655 - mae: 17.9655\n",
            "Epoch 487/500\n",
            "2/2 [==============================] - 0s 6ms/step - loss: 14.1441 - mae: 14.1441\n",
            "Epoch 488/500\n",
            "2/2 [==============================] - 0s 11ms/step - loss: 30.8035 - mae: 30.8035\n",
            "Epoch 489/500\n",
            "2/2 [==============================] - 0s 6ms/step - loss: 12.2272 - mae: 12.2272\n",
            "Epoch 490/500\n",
            "2/2 [==============================] - 0s 5ms/step - loss: 12.8821 - mae: 12.8821\n",
            "Epoch 491/500\n",
            "2/2 [==============================] - 0s 12ms/step - loss: 23.9136 - mae: 23.9136\n",
            "Epoch 492/500\n",
            "2/2 [==============================] - 0s 5ms/step - loss: 19.7941 - mae: 19.7941\n",
            "Epoch 493/500\n",
            "2/2 [==============================] - 0s 6ms/step - loss: 4.8267 - mae: 4.8267\n",
            "Epoch 494/500\n",
            "2/2 [==============================] - 0s 5ms/step - loss: 12.1765 - mae: 12.1765\n",
            "Epoch 495/500\n",
            "2/2 [==============================] - 0s 11ms/step - loss: 13.6314 - mae: 13.6314\n",
            "Epoch 496/500\n",
            "2/2 [==============================] - 0s 11ms/step - loss: 12.8508 - mae: 12.8508\n",
            "Epoch 497/500\n",
            "2/2 [==============================] - 0s 9ms/step - loss: 17.9381 - mae: 17.9381\n",
            "Epoch 498/500\n",
            "2/2 [==============================] - 0s 8ms/step - loss: 22.8406 - mae: 22.8406\n",
            "Epoch 499/500\n",
            "2/2 [==============================] - 0s 9ms/step - loss: 8.6987 - mae: 8.6987\n",
            "Epoch 500/500\n",
            "2/2 [==============================] - 0s 9ms/step - loss: 14.4347 - mae: 14.4347\n"
          ],
          "name": "stdout"
        },
        {
          "output_type": "execute_result",
          "data": {
            "text/plain": [
              "<tensorflow.python.keras.callbacks.History at 0x7fa281cf4510>"
            ]
          },
          "metadata": {
            "tags": []
          },
          "execution_count": 50
        }
      ]
    },
    {
      "cell_type": "code",
      "metadata": {
        "colab": {
          "base_uri": "https://localhost:8080/",
          "height": 428
        },
        "id": "IZCK3xsWkMed",
        "outputId": "b5da42b6-be43-430d-d1e4-a5c33597381c"
      },
      "source": [
        "#predict and plot for model 3\n",
        "y_pred_3 =model_3.predict(X_test)\n",
        "plot_predictions(predictions=y_pred_3)"
      ],
      "execution_count": null,
      "outputs": [
        {
          "output_type": "display_data",
          "data": {
            "image/png": "[encoded data removed]",
            "text/plain": [
              "<Figure size 720x504 with 1 Axes>"
            ]
          },
          "metadata": {
            "tags": [],
            "needs_background": "light"
          }
        }
      ]
    },
    {
      "cell_type": "code",
      "metadata": {
        "colab": {
          "base_uri": "https://localhost:8080/"
        },
        "id": "-eiZ7z7rkhGm",
        "outputId": "47b27685-a3f9-45e0-80ae-92228ff60490"
      },
      "source": [
        "# Calculate mse and mae for model_3\n",
        "mae_3= mae(y_test,y_pred_3)\n",
        "mse_3= mse(y_test,y_pred_3)\n",
        "mae_3,mse_3"
      ],
      "execution_count": null,
      "outputs": [
        {
          "output_type": "execute_result",
          "data": {
            "text/plain": [
              "(68.07395, 4718.8955)"
            ]
          },
          "metadata": {
            "tags": []
          },
          "execution_count": 52
        }
      ]
    },
    {
      "cell_type": "markdown",
      "metadata": {
        "id": "phrgzM6Qtyez"
      },
      "source": [
        "### Comparing the results of our experiments\n",
        "\n",
        "We've run a few experiments, lets compare the result\n",
        "\n",
        "**Note** we want to start with small experiments (small models) and make sure they work and then increase their scale when necessary"
      ]
    },
    {
      "cell_type": "code",
      "metadata": {
        "colab": {
          "base_uri": "https://localhost:8080/",
          "height": 142
        },
        "id": "FqHa9nExk-qk",
        "outputId": "913a0e64-8d6c-4308-a3aa-aa831afab97f"
      },
      "source": [
        "# Lets compare our models result using pandas DataFrame\n",
        "\n",
        "import pandas as pd\n",
        "model_result=[[\"model_1\",mae_1,mse_1],\n",
        "              [\"model_2\",mae_2,mse_2],\n",
        "              [\"model_3\",mae_3,mse_3]]\n",
        "\n",
        "all_results =pd.DataFrame(model_result,columns=[\"model\",\"mae\",\"mse\"])\n",
        "all_results"
      ],
      "execution_count": null,
      "outputs": [
        {
          "output_type": "execute_result",
          "data": {
            "text/html": [
              "<div>\n",
              "<style scoped>\n",
              "    .dataframe tbody tr th:only-of-type {\n",
              "        vertical-align: middle;\n",
              "    }\n",
              "\n",
              "    .dataframe tbody tr th {\n",
              "        vertical-align: top;\n",
              "    }\n",
              "\n",
              "    .dataframe thead th {\n",
              "        text-align: right;\n",
              "    }\n",
              "</style>\n",
              "<table border=\"1\" class=\"dataframe\">\n",
              "  <thead>\n",
              "    <tr style=\"text-align: right;\">\n",
              "      <th></th>\n",
              "      <th>model</th>\n",
              "      <th>mae</th>\n",
              "      <th>mse</th>\n",
              "    </tr>\n",
              "  </thead>\n",
              "  <tbody>\n",
              "    <tr>\n",
              "      <th>0</th>\n",
              "      <td>model_1</td>\n",
              "      <td>18.745327</td>\n",
              "      <td>353.573364</td>\n",
              "    </tr>\n",
              "    <tr>\n",
              "      <th>1</th>\n",
              "      <td>model_2</td>\n",
              "      <td>3.196941</td>\n",
              "      <td>13.070143</td>\n",
              "    </tr>\n",
              "    <tr>\n",
              "      <th>2</th>\n",
              "      <td>model_3</td>\n",
              "      <td>68.073952</td>\n",
              "      <td>4718.895508</td>\n",
              "    </tr>\n",
              "  </tbody>\n",
              "</table>\n",
              "</div>"
            ],
            "text/plain": [
              "     model        mae          mse\n",
              "0  model_1  18.745327   353.573364\n",
              "1  model_2   3.196941    13.070143\n",
              "2  model_3  68.073952  4718.895508"
            ]
          },
          "metadata": {
            "tags": []
          },
          "execution_count": 53
        }
      ]
    },
    {
      "cell_type": "markdown",
      "metadata": {
        "id": "dRUafnrjEdGn"
      },
      "source": [
        "### Tracking your experiment\n",
        "\n",
        "One really good habit in machine learning modelling is to track the results of your experiments.\n",
        "\n",
        "And when doing so, it can be tediuos if you're running lots of experiments\n",
        "\n",
        "Luckily, there are tools to help one\n",
        "\n",
        "Resource: As you build more models, you'll want to look into using:\n",
        "\n",
        "* TensorBoard  - a component of the TensorFlow library to help track modelling experiments\n",
        "\n",
        "* Weights and Biases - a tool for tracking all kinds of machine learning experiments (plugs straight into TensorBoard)"
      ]
    },
    {
      "cell_type": "markdown",
      "metadata": {
        "id": "hQ5L8r1GFsqA"
      },
      "source": [
        "## Savings our model\n",
        "\n",
        "Savings our model allows us to use them outside of google colab such as in a application or a mobile app.\n",
        "\n",
        "There are two main formats we can save our models too;\n",
        "1. The SavedModel format\n",
        "2. The HDF5 format"
      ]
    },
    {
      "cell_type": "code",
      "metadata": {
        "colab": {
          "base_uri": "https://localhost:8080/"
        },
        "id": "GYuukysIDEMQ",
        "outputId": "4d39abca-a660-441c-c69d-08766794e040"
      },
      "source": [
        "# Save a model using SavedModel format\n",
        "model_2.save(\"model_2\")"
      ],
      "execution_count": null,
      "outputs": [
        {
          "output_type": "stream",
          "text": [
            "INFO:tensorflow:Assets written to: model_2/assets\n"
          ],
          "name": "stdout"
        }
      ]
    },
    {
      "cell_type": "code",
      "metadata": {
        "id": "Fhp7Jn1HG0rX"
      },
      "source": [
        "# save model using HDF5 format\n",
        "model_2.save(\"model_2.h5\")"
      ],
      "execution_count": null,
      "outputs": []
    },
    {
      "cell_type": "markdown",
      "metadata": {
        "id": "RKzzizamohUi"
      },
      "source": [
        "## Loading in the save model\n",
        "\n"
      ]
    },
    {
      "cell_type": "code",
      "metadata": {
        "colab": {
          "base_uri": "https://localhost:8080/"
        },
        "id": "iiSS0at6HZ4r",
        "outputId": "abfe1639-d794-49e8-b1f2-ac98c32a41f8"
      },
      "source": [
        "# Load in the SavedModel format\n",
        "loaded_SavedModel_format = tf.keras.models.load_model(\"/content/model_2\")\n",
        "loaded_SavedModel_format.summary()"
      ],
      "execution_count": null,
      "outputs": [
        {
          "output_type": "stream",
          "text": [
            "Model: \"model_2\"\n",
            "_________________________________________________________________\n",
            "Layer (type)                 Output Shape              Param #   \n",
            "=================================================================\n",
            "dense_8 (Dense)              (None, 10)                20        \n",
            "_________________________________________________________________\n",
            "dense_9 (Dense)              (None, 1)                 11        \n",
            "=================================================================\n",
            "Total params: 31\n",
            "Trainable params: 31\n",
            "Non-trainable params: 0\n",
            "_________________________________________________________________\n"
          ],
          "name": "stdout"
        }
      ]
    },
    {
      "cell_type": "code",
      "metadata": {
        "colab": {
          "base_uri": "https://localhost:8080/"
        },
        "id": "R4CV4I7uo3gC",
        "outputId": "1a8d13ad-0ebb-4d1f-ee29-d6aceec9f682"
      },
      "source": [
        "model_2.summary()  # Note both loaded and non loaded are same"
      ],
      "execution_count": null,
      "outputs": [
        {
          "output_type": "stream",
          "text": [
            "Model: \"model_2\"\n",
            "_________________________________________________________________\n",
            "Layer (type)                 Output Shape              Param #   \n",
            "=================================================================\n",
            "dense_8 (Dense)              (None, 10)                20        \n",
            "_________________________________________________________________\n",
            "dense_9 (Dense)              (None, 1)                 11        \n",
            "=================================================================\n",
            "Total params: 31\n",
            "Trainable params: 31\n",
            "Non-trainable params: 0\n",
            "_________________________________________________________________\n"
          ],
          "name": "stdout"
        }
      ]
    },
    {
      "cell_type": "code",
      "metadata": {
        "colab": {
          "base_uri": "https://localhost:8080/"
        },
        "id": "ylT8rS1ipDz0",
        "outputId": "b2299e70-8a72-439d-d74b-a1d92fb644ca"
      },
      "source": [
        "# Compare model_2 predictions and SavedModel format model predictions\n",
        "\n",
        "model_2_predictions= model_2.predict(X_test)\n",
        "loaded_SavedModel_format_preds = loaded_SavedModel_format.predict(X_test)\n",
        "model_2_predictions == loaded_SavedModel_format_preds"
      ],
      "execution_count": null,
      "outputs": [
        {
          "output_type": "execute_result",
          "data": {
            "text/plain": [
              "array([[ True],\n",
              "       [ True],\n",
              "       [ True],\n",
              "       [ True],\n",
              "       [ True],\n",
              "       [ True],\n",
              "       [ True],\n",
              "       [ True],\n",
              "       [ True],\n",
              "       [ True]])"
            ]
          },
          "metadata": {
            "tags": []
          },
          "execution_count": 67
        }
      ]
    },
    {
      "cell_type": "code",
      "metadata": {
        "colab": {
          "base_uri": "https://localhost:8080/"
        },
        "id": "samxHzRHpk7y",
        "outputId": "924cb705-15b5-4068-f72f-20f5ce7f4acd"
      },
      "source": [
        "# Loading the model using.h5 format\n",
        "laoded_h5_model =tf.keras.models.load_model(\"/content/model_2.h5\")\n",
        "laoded_h5_model.summary()"
      ],
      "execution_count": null,
      "outputs": [
        {
          "output_type": "stream",
          "text": [
            "Model: \"model_2\"\n",
            "_________________________________________________________________\n",
            "Layer (type)                 Output Shape              Param #   \n",
            "=================================================================\n",
            "dense_8 (Dense)              (None, 10)                20        \n",
            "_________________________________________________________________\n",
            "dense_9 (Dense)              (None, 1)                 11        \n",
            "=================================================================\n",
            "Total params: 31\n",
            "Trainable params: 31\n",
            "Non-trainable params: 0\n",
            "_________________________________________________________________\n"
          ],
          "name": "stdout"
        }
      ]
    },
    {
      "cell_type": "code",
      "metadata": {
        "colab": {
          "base_uri": "https://localhost:8080/"
        },
        "id": "Ms4UdbI4q0J8",
        "outputId": "331e3b9a-36ac-4a38-fbd1-ae2c4fcbd3df"
      },
      "source": [
        "# Compare the predictions from model_2 and .h5 model\n",
        "loaded_h5_model_preds= laoded_h5_model.predict(X_test)\n",
        "model_2_predictions==loaded_SavedModel_format_preds"
      ],
      "execution_count": null,
      "outputs": [
        {
          "output_type": "execute_result",
          "data": {
            "text/plain": [
              "array([[ True],\n",
              "       [ True],\n",
              "       [ True],\n",
              "       [ True],\n",
              "       [ True],\n",
              "       [ True],\n",
              "       [ True],\n",
              "       [ True],\n",
              "       [ True],\n",
              "       [ True]])"
            ]
          },
          "metadata": {
            "tags": []
          },
          "execution_count": 72
        }
      ]
    },
    {
      "cell_type": "markdown",
      "metadata": {
        "id": "YTo_6xzYr919"
      },
      "source": [
        "Download a model( or any other file) from Google colab\n"
      ]
    },
    {
      "cell_type": "code",
      "metadata": {
        "colab": {
          "base_uri": "https://localhost:8080/",
          "height": 17
        },
        "id": "BdMLsn4KrDmf",
        "outputId": "8e27e6c4-5b04-4ed4-ea16-e3ee2b36b5ac"
      },
      "source": [
        "# Download a file from Google colab\n",
        "from google.colab import files\n",
        "files.download(\"/content/model_2.h5\")"
      ],
      "execution_count": null,
      "outputs": [
        {
          "output_type": "display_data",
          "data": {
            "application/javascript": [
              "\n",
              "    async function download(id, filename, size) {\n",
              "      if (!google.colab.kernel.accessAllowed) {\n",
              "        return;\n",
              "      }\n",
              "      const div = document.createElement('div');\n",
              "      const label = document.createElement('label');\n",
              "      label.textContent = `Downloading \"${filename}\": `;\n",
              "      div.appendChild(label);\n",
              "      const progress = document.createElement('progress');\n",
              "      progress.max = size;\n",
              "      div.appendChild(progress);\n",
              "      document.body.appendChild(div);\n",
              "\n",
              "      const buffers = [];\n",
              "      let downloaded = 0;\n",
              "\n",
              "      const channel = await google.colab.kernel.comms.open(id);\n",
              "      // Send a message to notify the kernel that we're ready.\n",
              "      channel.send({})\n",
              "\n",
              "      for await (const message of channel.messages) {\n",
              "        // Send a message to notify the kernel that we're ready.\n",
              "        channel.send({})\n",
              "        if (message.buffers) {\n",
              "          for (const buffer of message.buffers) {\n",
              "            buffers.push(buffer);\n",
              "            downloaded += buffer.byteLength;\n",
              "            progress.value = downloaded;\n",
              "          }\n",
              "        }\n",
              "      }\n",
              "      const blob = new Blob(buffers, {type: 'application/binary'});\n",
              "      const a = document.createElement('a');\n",
              "      a.href = window.URL.createObjectURL(blob);\n",
              "      a.download = filename;\n",
              "      div.appendChild(a);\n",
              "      a.click();\n",
              "      div.remove();\n",
              "    }\n",
              "  "
            ],
            "text/plain": [
              "<IPython.core.display.Javascript object>"
            ]
          },
          "metadata": {
            "tags": []
          }
        },
        {
          "output_type": "display_data",
          "data": {
            "application/javascript": [
              "download(\"download_a4e5e6aa-ebb3-46a1-bc1c-ac2712fc9f2e\", \"model_2.h5\", 17040)"
            ],
            "text/plain": [
              "<IPython.core.display.Javascript object>"
            ]
          },
          "metadata": {
            "tags": []
          }
        }
      ]
    },
    {
      "cell_type": "code",
      "metadata": {
        "id": "I4mYXv1Csn-5"
      },
      "source": [
        "# Save a file from google colab to  google drive\n",
        "!cp /content/model_2.h5 /content/drive/MyDrive/Applied_Ai_live "
      ],
      "execution_count": null,
      "outputs": []
    },
    {
      "cell_type": "code",
      "metadata": {
        "colab": {
          "base_uri": "https://localhost:8080/"
        },
        "id": "bQ3M0uO-tRM0",
        "outputId": "08d4fb9e-2833-4184-d4d2-e0ba441d1faa"
      },
      "source": [
        "!ls /content/drive/MyDrive/Applied_Ai_live"
      ],
      "execution_count": null,
      "outputs": [
        {
          "output_type": "stream",
          "text": [
            "/content/drive/MyDrive/Applied_Ai_live\n"
          ],
          "name": "stdout"
        }
      ]
    },
    {
      "cell_type": "markdown",
      "metadata": {
        "id": "8tWyFl_0uHXD"
      },
      "source": [
        "## A larger example"
      ]
    },
    {
      "cell_type": "code",
      "metadata": {
        "id": "4qLOhkqmtlU_"
      },
      "source": [
        ""
      ],
      "execution_count": null,
      "outputs": []
    }
  ]
}